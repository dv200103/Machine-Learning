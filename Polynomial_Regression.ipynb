{
 "cells": [
  {
   "cell_type": "code",
   "execution_count": 1,
   "id": "e74981ab",
   "metadata": {},
   "outputs": [],
   "source": [
    "import warnings\n",
    "warnings.filterwarnings(\"ignore\")\n",
    "\n",
    "import numpy as np\n",
    "import pandas as pd\n",
    "import matplotlib.pyplot as plt\n",
    "import seaborn as sns"
   ]
  },
  {
   "cell_type": "code",
   "execution_count": 2,
   "id": "f3156ebd",
   "metadata": {},
   "outputs": [
    {
     "data": {
      "text/html": [
       "<div>\n",
       "<style scoped>\n",
       "    .dataframe tbody tr th:only-of-type {\n",
       "        vertical-align: middle;\n",
       "    }\n",
       "\n",
       "    .dataframe tbody tr th {\n",
       "        vertical-align: top;\n",
       "    }\n",
       "\n",
       "    .dataframe thead th {\n",
       "        text-align: right;\n",
       "    }\n",
       "</style>\n",
       "<table border=\"1\" class=\"dataframe\">\n",
       "  <thead>\n",
       "    <tr style=\"text-align: right;\">\n",
       "      <th></th>\n",
       "      <th>Position</th>\n",
       "      <th>Level</th>\n",
       "      <th>Salary</th>\n",
       "    </tr>\n",
       "  </thead>\n",
       "  <tbody>\n",
       "    <tr>\n",
       "      <th>0</th>\n",
       "      <td>Business Analyst</td>\n",
       "      <td>1</td>\n",
       "      <td>45000</td>\n",
       "    </tr>\n",
       "    <tr>\n",
       "      <th>1</th>\n",
       "      <td>Junior Consultant</td>\n",
       "      <td>2</td>\n",
       "      <td>50000</td>\n",
       "    </tr>\n",
       "    <tr>\n",
       "      <th>2</th>\n",
       "      <td>Senior Consultant</td>\n",
       "      <td>3</td>\n",
       "      <td>60000</td>\n",
       "    </tr>\n",
       "    <tr>\n",
       "      <th>3</th>\n",
       "      <td>Manager</td>\n",
       "      <td>4</td>\n",
       "      <td>80000</td>\n",
       "    </tr>\n",
       "    <tr>\n",
       "      <th>4</th>\n",
       "      <td>Country Manager</td>\n",
       "      <td>5</td>\n",
       "      <td>110000</td>\n",
       "    </tr>\n",
       "    <tr>\n",
       "      <th>5</th>\n",
       "      <td>Region Manager</td>\n",
       "      <td>6</td>\n",
       "      <td>150000</td>\n",
       "    </tr>\n",
       "    <tr>\n",
       "      <th>6</th>\n",
       "      <td>Partner</td>\n",
       "      <td>7</td>\n",
       "      <td>200000</td>\n",
       "    </tr>\n",
       "    <tr>\n",
       "      <th>7</th>\n",
       "      <td>Senior Partner</td>\n",
       "      <td>8</td>\n",
       "      <td>300000</td>\n",
       "    </tr>\n",
       "    <tr>\n",
       "      <th>8</th>\n",
       "      <td>C-level</td>\n",
       "      <td>9</td>\n",
       "      <td>500000</td>\n",
       "    </tr>\n",
       "    <tr>\n",
       "      <th>9</th>\n",
       "      <td>CEO</td>\n",
       "      <td>10</td>\n",
       "      <td>1000000</td>\n",
       "    </tr>\n",
       "  </tbody>\n",
       "</table>\n",
       "</div>"
      ],
      "text/plain": [
       "            Position  Level   Salary\n",
       "0   Business Analyst      1    45000\n",
       "1  Junior Consultant      2    50000\n",
       "2  Senior Consultant      3    60000\n",
       "3            Manager      4    80000\n",
       "4    Country Manager      5   110000\n",
       "5     Region Manager      6   150000\n",
       "6            Partner      7   200000\n",
       "7     Senior Partner      8   300000\n",
       "8            C-level      9   500000\n",
       "9                CEO     10  1000000"
      ]
     },
     "execution_count": 2,
     "metadata": {},
     "output_type": "execute_result"
    }
   ],
   "source": [
    "df=pd.read_csv(\"Position_Salaries.csv\")\n",
    "df"
   ]
  },
  {
   "cell_type": "code",
   "execution_count": 3,
   "id": "55b87e86",
   "metadata": {},
   "outputs": [],
   "source": [
    "#No need of encoding the dataset becoz it is already levelled & encoded"
   ]
  },
  {
   "cell_type": "code",
   "execution_count": 4,
   "id": "5eb5aa10",
   "metadata": {},
   "outputs": [],
   "source": [
    "x=df[['Level']].values"
   ]
  },
  {
   "cell_type": "code",
   "execution_count": 5,
   "id": "205a2eb5",
   "metadata": {},
   "outputs": [],
   "source": [
    "y=df['Salary'].values"
   ]
  },
  {
   "cell_type": "code",
   "execution_count": 6,
   "id": "a891d768",
   "metadata": {},
   "outputs": [],
   "source": [
    "#No need to split data"
   ]
  },
  {
   "cell_type": "code",
   "execution_count": 7,
   "id": "278da535",
   "metadata": {},
   "outputs": [],
   "source": [
    "from sklearn.linear_model import LinearRegression\n",
    "lr=LinearRegression()\n",
    "lr.fit(x,y)\n",
    "ypred=lr.predict(x)"
   ]
  },
  {
   "cell_type": "code",
   "execution_count": 8,
   "id": "ea480409",
   "metadata": {},
   "outputs": [
    {
     "name": "stdout",
     "output_type": "stream",
     "text": [
      "Accuracy:  66.9 %\n"
     ]
    }
   ],
   "source": [
    "from sklearn.metrics import r2_score\n",
    "print(\"Accuracy: \",round(r2_score(y,ypred)*100,2),\"%\")"
   ]
  },
  {
   "cell_type": "code",
   "execution_count": 9,
   "id": "afc00b87",
   "metadata": {},
   "outputs": [
    {
     "name": "stdout",
     "output_type": "stream",
     "text": [
      "128454.54545454546\n",
      "26695878787.878788\n",
      "163388.73519272613\n"
     ]
    }
   ],
   "source": [
    "from sklearn.metrics import mean_absolute_error,mean_squared_error\n",
    "print(mean_absolute_error(y,ypred))\n",
    "print((mean_squared_error(y,ypred)))\n",
    "print(np.sqrt(mean_squared_error(y,ypred)))"
   ]
  },
  {
   "cell_type": "code",
   "execution_count": 10,
   "id": "ea33eab1",
   "metadata": {},
   "outputs": [
    {
     "data": {
      "text/plain": [
       "[<matplotlib.lines.Line2D at 0x127af620490>]"
      ]
     },
     "execution_count": 10,
     "metadata": {},
     "output_type": "execute_result"
    },
    {
     "data": {
      "image/png": "[encoded data removed]",
      "text/plain": [
       "<Figure size 640x480 with 1 Axes>"
      ]
     },
     "metadata": {},
     "output_type": "display_data"
    }
   ],
   "source": [
    "plt.scatter(x,y,color=\"red\")\n",
    "plt.plot(x,ypred,color=\"blue\")"
   ]
  },
  {
   "cell_type": "code",
   "execution_count": 11,
   "id": "1a1a49e2",
   "metadata": {},
   "outputs": [],
   "source": [
    "#Let us provide some degree to the line in order to increase the accuracy"
   ]
  },
  {
   "cell_type": "markdown",
   "id": "2c7da84c",
   "metadata": {},
   "source": [
    "### Polynomial Regression"
   ]
  },
  {
   "cell_type": "code",
   "execution_count": 12,
   "id": "a3e0eb6e",
   "metadata": {},
   "outputs": [],
   "source": [
    "#It converts normal features---> poly features\n",
    "#ploy features: Those features created by raising existing features to an exponent in order to find out a curve."
   ]
  },
  {
   "cell_type": "markdown",
   "id": "3cc542a7",
   "metadata": {},
   "source": [
    "<u> Step-1: Convert the features into poly features </u>"
   ]
  },
  {
   "cell_type": "code",
   "execution_count": 13,
   "id": "03f1dc3a",
   "metadata": {},
   "outputs": [],
   "source": [
    "from sklearn.preprocessing import PolynomialFeatures\n",
    "pf=PolynomialFeatures(degree=2)  # There is no best degree it is a hyper parameter.. change it n check for accuracy\n",
    "polyx=pf.fit_transform(x)   #xtrain"
   ]
  },
  {
   "cell_type": "markdown",
   "id": "72f52929",
   "metadata": {},
   "source": [
    "<u> Step-2: start building a linear regression model </u>"
   ]
  },
  {
   "cell_type": "code",
   "execution_count": 14,
   "id": "817d1ea6",
   "metadata": {},
   "outputs": [],
   "source": [
    "from sklearn.linear_model import LinearRegression\n",
    "lr=LinearRegression()\n",
    "lr.fit(polyx,y)\n",
    "ypred=lr.predict(polyx)  #xtest"
   ]
  },
  {
   "cell_type": "code",
   "execution_count": 15,
   "id": "dcf7ea29",
   "metadata": {},
   "outputs": [
    {
     "name": "stdout",
     "output_type": "stream",
     "text": [
      "Accuracy:  91.62 %\n"
     ]
    }
   ],
   "source": [
    "from sklearn.metrics import r2_score\n",
    "print(\"Accuracy: \",round(r2_score(y,ypred)*100,2),\"%\")"
   ]
  },
  {
   "cell_type": "code",
   "execution_count": 16,
   "id": "47d26bc1",
   "metadata": {},
   "outputs": [
    {
     "data": {
      "text/plain": [
       "[<matplotlib.lines.Line2D at 0x127afd96bd0>]"
      ]
     },
     "execution_count": 16,
     "metadata": {},
     "output_type": "execute_result"
    },
    {
     "data": {
      "image/png": "[encoded data removed]",
      "text/plain": [
       "<Figure size 640x480 with 1 Axes>"
      ]
     },
     "metadata": {},
     "output_type": "display_data"
    }
   ],
   "source": [
    "plt.scatter(x,y,color=\"red\")\n",
    "plt.plot(x,ypred,color=\"blue\")"
   ]
  },
  {
   "cell_type": "markdown",
   "id": "23a29d0f",
   "metadata": {},
   "source": [
    "- Polynomial Regression is a regression algorithm that models a relationship \n",
    "between x & y as nth degree.\n",
    "- The dataset used in polynomial regression is of non-linear nature.\n",
    "- In polynomial regression the original features are converted into polynomial features of required degree\n",
    "& then modeled using linear model.\n",
    "\n",
    "What is the need of Polynomial regression?\n",
    "- If we apply linear reg. on non-linear dataset then the accuracy will be less & error rate will be high.\n",
    "- for such cases where datapoints are arranged in a non-linear fashion we need polynomial reg. model"
   ]
  },
  {
   "cell_type": "code",
   "execution_count": 17,
   "id": "bfa8de95",
   "metadata": {},
   "outputs": [],
   "source": [
    "pf2=PolynomialFeatures(degree=3)  # There is no best degree it is a hyper parameter.. change it n check for accuracy\n",
    "polyx=pf2.fit_transform(x)   #xtrain"
   ]
  },
  {
   "cell_type": "code",
   "execution_count": 18,
   "id": "91617c0f",
   "metadata": {},
   "outputs": [],
   "source": [
    "lr=LinearRegression()\n",
    "lr.fit(polyx,y)\n",
    "ypred=lr.predict(polyx)  #xtest"
   ]
  },
  {
   "cell_type": "code",
   "execution_count": 19,
   "id": "2967cf35",
   "metadata": {},
   "outputs": [
    {
     "name": "stdout",
     "output_type": "stream",
     "text": [
      "Accuracy:  98.12 %\n"
     ]
    }
   ],
   "source": [
    "from sklearn.metrics import r2_score\n",
    "print(\"Accuracy: \",round(r2_score(y,ypred)*100,2),\"%\")"
   ]
  },
  {
   "cell_type": "code",
   "execution_count": 20,
   "id": "7b093b2c",
   "metadata": {},
   "outputs": [
    {
     "data": {
      "text/plain": [
       "[<matplotlib.lines.Line2D at 0x127afdb8a10>]"
      ]
     },
     "execution_count": 20,
     "metadata": {},
     "output_type": "execute_result"
    },
    {
     "data": {
      "image/png": "[encoded data removed]",
      "text/plain": [
       "<Figure size 640x480 with 1 Axes>"
      ]
     },
     "metadata": {},
     "output_type": "display_data"
    }
   ],
   "source": [
    "plt.scatter(x,y,color=\"red\")\n",
    "plt.plot(x,ypred,color=\"blue\")"
   ]
  },
  {
   "cell_type": "code",
   "execution_count": null,
   "id": "c2985f8d",
   "metadata": {},
   "outputs": [],
   "source": []
  },
  {
   "cell_type": "code",
   "execution_count": null,
   "id": "326ee1bd",
   "metadata": {},
   "outputs": [],
   "source": []
  },
  {
   "cell_type": "code",
   "execution_count": null,
   "id": "bc7e2d27",
   "metadata": {},
   "outputs": [],
   "source": []
  }
 ],
 "metadata": {
  "kernelspec": {
   "display_name": "Python 3 (ipykernel)",
   "language": "python",
   "name": "python3"
  },
  "language_info": {
   "codemirror_mode": {
    "name": "ipython",
    "version": 3
   },
   "file_extension": ".py",
   "mimetype": "text/x-python",
   "name": "python",
   "nbconvert_exporter": "python",
   "pygments_lexer": "ipython3",
   "version": "3.11.4"
  }
 },
 "nbformat": 4,
 "nbformat_minor": 5
}
