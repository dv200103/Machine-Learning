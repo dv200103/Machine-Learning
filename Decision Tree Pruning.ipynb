{
 "cells": [
  {
   "cell_type": "code",
   "execution_count": 3,
   "id": "94ce9bc8",
   "metadata": {},
   "outputs": [],
   "source": [
    "import numpy as np \n",
    "import pandas as pd\n",
    "import matplotlib.pyplot as plt \n",
    "import seaborn as sns\n",
    "from sklearn.model_selection import train_test_split, cross_val_score \n",
    "from sklearn.linear_model import LogisticRegression\n",
    "from sklearn.svm import SVC\n",
    "from sklearn.neighbors import KNeighborsClassifier\n",
    "from sklearn.tree import DecisionTreeClassifier\n",
    "from sklearn.metrics import accuracy_score, classification_report\n",
    "import warnings\n",
    "warnings.filterwarnings(\"ignore\")"
   ]
  },
  {
   "cell_type": "code",
   "execution_count": 4,
   "id": "1203d8c4",
   "metadata": {},
   "outputs": [
    {
     "data": {
      "text/html": [
       "<div>\n",
       "<style scoped>\n",
       "    .dataframe tbody tr th:only-of-type {\n",
       "        vertical-align: middle;\n",
       "    }\n",
       "\n",
       "    .dataframe tbody tr th {\n",
       "        vertical-align: top;\n",
       "    }\n",
       "\n",
       "    .dataframe thead th {\n",
       "        text-align: right;\n",
       "    }\n",
       "</style>\n",
       "<table border=\"1\" class=\"dataframe\">\n",
       "  <thead>\n",
       "    <tr style=\"text-align: right;\">\n",
       "      <th></th>\n",
       "      <th>age</th>\n",
       "      <th>job</th>\n",
       "      <th>marital</th>\n",
       "      <th>education</th>\n",
       "      <th>default</th>\n",
       "      <th>balance</th>\n",
       "      <th>housing</th>\n",
       "      <th>loan</th>\n",
       "      <th>contact</th>\n",
       "      <th>day</th>\n",
       "      <th>month</th>\n",
       "      <th>duration</th>\n",
       "      <th>campaign</th>\n",
       "      <th>pdays</th>\n",
       "      <th>previous</th>\n",
       "      <th>poutcome</th>\n",
       "      <th>deposit</th>\n",
       "    </tr>\n",
       "  </thead>\n",
       "  <tbody>\n",
       "    <tr>\n",
       "      <th>0</th>\n",
       "      <td>59</td>\n",
       "      <td>0</td>\n",
       "      <td>1</td>\n",
       "      <td>1</td>\n",
       "      <td>0</td>\n",
       "      <td>2343</td>\n",
       "      <td>1</td>\n",
       "      <td>0</td>\n",
       "      <td>2</td>\n",
       "      <td>5</td>\n",
       "      <td>8</td>\n",
       "      <td>1042</td>\n",
       "      <td>1</td>\n",
       "      <td>-1</td>\n",
       "      <td>0</td>\n",
       "      <td>3</td>\n",
       "      <td>1</td>\n",
       "    </tr>\n",
       "    <tr>\n",
       "      <th>1</th>\n",
       "      <td>56</td>\n",
       "      <td>0</td>\n",
       "      <td>1</td>\n",
       "      <td>1</td>\n",
       "      <td>0</td>\n",
       "      <td>45</td>\n",
       "      <td>0</td>\n",
       "      <td>0</td>\n",
       "      <td>2</td>\n",
       "      <td>5</td>\n",
       "      <td>8</td>\n",
       "      <td>1467</td>\n",
       "      <td>1</td>\n",
       "      <td>-1</td>\n",
       "      <td>0</td>\n",
       "      <td>3</td>\n",
       "      <td>1</td>\n",
       "    </tr>\n",
       "    <tr>\n",
       "      <th>2</th>\n",
       "      <td>41</td>\n",
       "      <td>9</td>\n",
       "      <td>1</td>\n",
       "      <td>1</td>\n",
       "      <td>0</td>\n",
       "      <td>1270</td>\n",
       "      <td>1</td>\n",
       "      <td>0</td>\n",
       "      <td>2</td>\n",
       "      <td>5</td>\n",
       "      <td>8</td>\n",
       "      <td>1389</td>\n",
       "      <td>1</td>\n",
       "      <td>-1</td>\n",
       "      <td>0</td>\n",
       "      <td>3</td>\n",
       "      <td>1</td>\n",
       "    </tr>\n",
       "    <tr>\n",
       "      <th>3</th>\n",
       "      <td>55</td>\n",
       "      <td>7</td>\n",
       "      <td>1</td>\n",
       "      <td>1</td>\n",
       "      <td>0</td>\n",
       "      <td>2476</td>\n",
       "      <td>1</td>\n",
       "      <td>0</td>\n",
       "      <td>2</td>\n",
       "      <td>5</td>\n",
       "      <td>8</td>\n",
       "      <td>579</td>\n",
       "      <td>1</td>\n",
       "      <td>-1</td>\n",
       "      <td>0</td>\n",
       "      <td>3</td>\n",
       "      <td>1</td>\n",
       "    </tr>\n",
       "    <tr>\n",
       "      <th>4</th>\n",
       "      <td>54</td>\n",
       "      <td>0</td>\n",
       "      <td>1</td>\n",
       "      <td>2</td>\n",
       "      <td>0</td>\n",
       "      <td>184</td>\n",
       "      <td>0</td>\n",
       "      <td>0</td>\n",
       "      <td>2</td>\n",
       "      <td>5</td>\n",
       "      <td>8</td>\n",
       "      <td>673</td>\n",
       "      <td>2</td>\n",
       "      <td>-1</td>\n",
       "      <td>0</td>\n",
       "      <td>3</td>\n",
       "      <td>1</td>\n",
       "    </tr>\n",
       "  </tbody>\n",
       "</table>\n",
       "</div>"
      ],
      "text/plain": [
       "   age  job  marital  education  default  balance  housing  loan  contact  \\\n",
       "0   59    0        1          1        0     2343        1     0        2   \n",
       "1   56    0        1          1        0       45        0     0        2   \n",
       "2   41    9        1          1        0     1270        1     0        2   \n",
       "3   55    7        1          1        0     2476        1     0        2   \n",
       "4   54    0        1          2        0      184        0     0        2   \n",
       "\n",
       "   day  month  duration  campaign  pdays  previous  poutcome  deposit  \n",
       "0    5      8      1042         1     -1         0         3        1  \n",
       "1    5      8      1467         1     -1         0         3        1  \n",
       "2    5      8      1389         1     -1         0         3        1  \n",
       "3    5      8       579         1     -1         0         3        1  \n",
       "4    5      8       673         2     -1         0         3        1  "
      ]
     },
     "execution_count": 4,
     "metadata": {},
     "output_type": "execute_result"
    }
   ],
   "source": [
    "df =pd.read_csv(r\"bank_Dataset for DT.csv\")\n",
    "df.head()"
   ]
  },
  {
   "cell_type": "code",
   "execution_count": 5,
   "id": "11c14ab2",
   "metadata": {},
   "outputs": [
    {
     "data": {
      "text/plain": [
       "0    5873\n",
       "1    5289\n",
       "Name: deposit, dtype: int64"
      ]
     },
     "execution_count": 5,
     "metadata": {},
     "output_type": "execute_result"
    }
   ],
   "source": [
    "df[\"deposit\"].value_counts()"
   ]
  },
  {
   "cell_type": "code",
   "execution_count": 9,
   "id": "f22cbb46",
   "metadata": {},
   "outputs": [
    {
     "name": "stdout",
     "output_type": "stream",
     "text": [
      "<class 'pandas.core.frame.DataFrame'>\n",
      "RangeIndex: 11162 entries, 0 to 11161\n",
      "Data columns (total 17 columns):\n",
      " #   Column     Non-Null Count  Dtype\n",
      "---  ------     --------------  -----\n",
      " 0   age        11162 non-null  int64\n",
      " 1   job        11162 non-null  int64\n",
      " 2   marital    11162 non-null  int64\n",
      " 3   education  11162 non-null  int64\n",
      " 4   default    11162 non-null  int64\n",
      " 5   balance    11162 non-null  int64\n",
      " 6   housing    11162 non-null  int64\n",
      " 7   loan       11162 non-null  int64\n",
      " 8   contact    11162 non-null  int64\n",
      " 9   day        11162 non-null  int64\n",
      " 10  month      11162 non-null  int64\n",
      " 11  duration   11162 non-null  int64\n",
      " 12  campaign   11162 non-null  int64\n",
      " 13  pdays      11162 non-null  int64\n",
      " 14  previous   11162 non-null  int64\n",
      " 15  poutcome   11162 non-null  int64\n",
      " 16  deposit    11162 non-null  int64\n",
      "dtypes: int64(17)\n",
      "memory usage: 1.4 MB\n"
     ]
    }
   ],
   "source": [
    "df.info()"
   ]
  },
  {
   "cell_type": "code",
   "execution_count": 10,
   "id": "9d8de050",
   "metadata": {
    "collapsed": true
   },
   "outputs": [
    {
     "data": {
      "text/html": [
       "<div>\n",
       "<style scoped>\n",
       "    .dataframe tbody tr th:only-of-type {\n",
       "        vertical-align: middle;\n",
       "    }\n",
       "\n",
       "    .dataframe tbody tr th {\n",
       "        vertical-align: top;\n",
       "    }\n",
       "\n",
       "    .dataframe thead th {\n",
       "        text-align: right;\n",
       "    }\n",
       "</style>\n",
       "<table border=\"1\" class=\"dataframe\">\n",
       "  <thead>\n",
       "    <tr style=\"text-align: right;\">\n",
       "      <th></th>\n",
       "      <th>age</th>\n",
       "      <th>job</th>\n",
       "      <th>marital</th>\n",
       "      <th>education</th>\n",
       "      <th>default</th>\n",
       "      <th>balance</th>\n",
       "      <th>housing</th>\n",
       "      <th>loan</th>\n",
       "      <th>contact</th>\n",
       "      <th>day</th>\n",
       "      <th>month</th>\n",
       "      <th>duration</th>\n",
       "      <th>campaign</th>\n",
       "      <th>pdays</th>\n",
       "      <th>previous</th>\n",
       "      <th>poutcome</th>\n",
       "    </tr>\n",
       "  </thead>\n",
       "  <tbody>\n",
       "    <tr>\n",
       "      <th>0</th>\n",
       "      <td>59</td>\n",
       "      <td>0</td>\n",
       "      <td>1</td>\n",
       "      <td>1</td>\n",
       "      <td>0</td>\n",
       "      <td>2343</td>\n",
       "      <td>1</td>\n",
       "      <td>0</td>\n",
       "      <td>2</td>\n",
       "      <td>5</td>\n",
       "      <td>8</td>\n",
       "      <td>1042</td>\n",
       "      <td>1</td>\n",
       "      <td>-1</td>\n",
       "      <td>0</td>\n",
       "      <td>3</td>\n",
       "    </tr>\n",
       "    <tr>\n",
       "      <th>1</th>\n",
       "      <td>56</td>\n",
       "      <td>0</td>\n",
       "      <td>1</td>\n",
       "      <td>1</td>\n",
       "      <td>0</td>\n",
       "      <td>45</td>\n",
       "      <td>0</td>\n",
       "      <td>0</td>\n",
       "      <td>2</td>\n",
       "      <td>5</td>\n",
       "      <td>8</td>\n",
       "      <td>1467</td>\n",
       "      <td>1</td>\n",
       "      <td>-1</td>\n",
       "      <td>0</td>\n",
       "      <td>3</td>\n",
       "    </tr>\n",
       "    <tr>\n",
       "      <th>2</th>\n",
       "      <td>41</td>\n",
       "      <td>9</td>\n",
       "      <td>1</td>\n",
       "      <td>1</td>\n",
       "      <td>0</td>\n",
       "      <td>1270</td>\n",
       "      <td>1</td>\n",
       "      <td>0</td>\n",
       "      <td>2</td>\n",
       "      <td>5</td>\n",
       "      <td>8</td>\n",
       "      <td>1389</td>\n",
       "      <td>1</td>\n",
       "      <td>-1</td>\n",
       "      <td>0</td>\n",
       "      <td>3</td>\n",
       "    </tr>\n",
       "    <tr>\n",
       "      <th>3</th>\n",
       "      <td>55</td>\n",
       "      <td>7</td>\n",
       "      <td>1</td>\n",
       "      <td>1</td>\n",
       "      <td>0</td>\n",
       "      <td>2476</td>\n",
       "      <td>1</td>\n",
       "      <td>0</td>\n",
       "      <td>2</td>\n",
       "      <td>5</td>\n",
       "      <td>8</td>\n",
       "      <td>579</td>\n",
       "      <td>1</td>\n",
       "      <td>-1</td>\n",
       "      <td>0</td>\n",
       "      <td>3</td>\n",
       "    </tr>\n",
       "    <tr>\n",
       "      <th>4</th>\n",
       "      <td>54</td>\n",
       "      <td>0</td>\n",
       "      <td>1</td>\n",
       "      <td>2</td>\n",
       "      <td>0</td>\n",
       "      <td>184</td>\n",
       "      <td>0</td>\n",
       "      <td>0</td>\n",
       "      <td>2</td>\n",
       "      <td>5</td>\n",
       "      <td>8</td>\n",
       "      <td>673</td>\n",
       "      <td>2</td>\n",
       "      <td>-1</td>\n",
       "      <td>0</td>\n",
       "      <td>3</td>\n",
       "    </tr>\n",
       "    <tr>\n",
       "      <th>...</th>\n",
       "      <td>...</td>\n",
       "      <td>...</td>\n",
       "      <td>...</td>\n",
       "      <td>...</td>\n",
       "      <td>...</td>\n",
       "      <td>...</td>\n",
       "      <td>...</td>\n",
       "      <td>...</td>\n",
       "      <td>...</td>\n",
       "      <td>...</td>\n",
       "      <td>...</td>\n",
       "      <td>...</td>\n",
       "      <td>...</td>\n",
       "      <td>...</td>\n",
       "      <td>...</td>\n",
       "      <td>...</td>\n",
       "    </tr>\n",
       "    <tr>\n",
       "      <th>11157</th>\n",
       "      <td>33</td>\n",
       "      <td>1</td>\n",
       "      <td>2</td>\n",
       "      <td>0</td>\n",
       "      <td>0</td>\n",
       "      <td>1</td>\n",
       "      <td>1</td>\n",
       "      <td>0</td>\n",
       "      <td>0</td>\n",
       "      <td>20</td>\n",
       "      <td>0</td>\n",
       "      <td>257</td>\n",
       "      <td>1</td>\n",
       "      <td>-1</td>\n",
       "      <td>0</td>\n",
       "      <td>3</td>\n",
       "    </tr>\n",
       "    <tr>\n",
       "      <th>11158</th>\n",
       "      <td>39</td>\n",
       "      <td>7</td>\n",
       "      <td>1</td>\n",
       "      <td>1</td>\n",
       "      <td>0</td>\n",
       "      <td>733</td>\n",
       "      <td>0</td>\n",
       "      <td>0</td>\n",
       "      <td>2</td>\n",
       "      <td>16</td>\n",
       "      <td>6</td>\n",
       "      <td>83</td>\n",
       "      <td>4</td>\n",
       "      <td>-1</td>\n",
       "      <td>0</td>\n",
       "      <td>3</td>\n",
       "    </tr>\n",
       "    <tr>\n",
       "      <th>11159</th>\n",
       "      <td>32</td>\n",
       "      <td>9</td>\n",
       "      <td>2</td>\n",
       "      <td>1</td>\n",
       "      <td>0</td>\n",
       "      <td>29</td>\n",
       "      <td>0</td>\n",
       "      <td>0</td>\n",
       "      <td>0</td>\n",
       "      <td>19</td>\n",
       "      <td>1</td>\n",
       "      <td>156</td>\n",
       "      <td>2</td>\n",
       "      <td>-1</td>\n",
       "      <td>0</td>\n",
       "      <td>3</td>\n",
       "    </tr>\n",
       "    <tr>\n",
       "      <th>11160</th>\n",
       "      <td>43</td>\n",
       "      <td>9</td>\n",
       "      <td>1</td>\n",
       "      <td>1</td>\n",
       "      <td>0</td>\n",
       "      <td>0</td>\n",
       "      <td>0</td>\n",
       "      <td>1</td>\n",
       "      <td>0</td>\n",
       "      <td>8</td>\n",
       "      <td>8</td>\n",
       "      <td>9</td>\n",
       "      <td>2</td>\n",
       "      <td>172</td>\n",
       "      <td>5</td>\n",
       "      <td>0</td>\n",
       "    </tr>\n",
       "    <tr>\n",
       "      <th>11161</th>\n",
       "      <td>34</td>\n",
       "      <td>9</td>\n",
       "      <td>1</td>\n",
       "      <td>1</td>\n",
       "      <td>0</td>\n",
       "      <td>0</td>\n",
       "      <td>0</td>\n",
       "      <td>0</td>\n",
       "      <td>0</td>\n",
       "      <td>9</td>\n",
       "      <td>5</td>\n",
       "      <td>628</td>\n",
       "      <td>1</td>\n",
       "      <td>-1</td>\n",
       "      <td>0</td>\n",
       "      <td>3</td>\n",
       "    </tr>\n",
       "  </tbody>\n",
       "</table>\n",
       "<p>11162 rows × 16 columns</p>\n",
       "</div>"
      ],
      "text/plain": [
       "       age  job  marital  education  default  balance  housing  loan  contact  \\\n",
       "0       59    0        1          1        0     2343        1     0        2   \n",
       "1       56    0        1          1        0       45        0     0        2   \n",
       "2       41    9        1          1        0     1270        1     0        2   \n",
       "3       55    7        1          1        0     2476        1     0        2   \n",
       "4       54    0        1          2        0      184        0     0        2   \n",
       "...    ...  ...      ...        ...      ...      ...      ...   ...      ...   \n",
       "11157   33    1        2          0        0        1        1     0        0   \n",
       "11158   39    7        1          1        0      733        0     0        2   \n",
       "11159   32    9        2          1        0       29        0     0        0   \n",
       "11160   43    9        1          1        0        0        0     1        0   \n",
       "11161   34    9        1          1        0        0        0     0        0   \n",
       "\n",
       "       day  month  duration  campaign  pdays  previous  poutcome  \n",
       "0        5      8      1042         1     -1         0         3  \n",
       "1        5      8      1467         1     -1         0         3  \n",
       "2        5      8      1389         1     -1         0         3  \n",
       "3        5      8       579         1     -1         0         3  \n",
       "4        5      8       673         2     -1         0         3  \n",
       "...    ...    ...       ...       ...    ...       ...       ...  \n",
       "11157   20      0       257         1     -1         0         3  \n",
       "11158   16      6        83         4     -1         0         3  \n",
       "11159   19      1       156         2     -1         0         3  \n",
       "11160    8      8         9         2    172         5         0  \n",
       "11161    9      5       628         1     -1         0         3  \n",
       "\n",
       "[11162 rows x 16 columns]"
      ]
     },
     "execution_count": 10,
     "metadata": {},
     "output_type": "execute_result"
    }
   ],
   "source": [
    "#separate x and y\n",
    "x=df.iloc[:,0:-1]\n",
    "x"
   ]
  },
  {
   "cell_type": "code",
   "execution_count": 11,
   "id": "32ee8a53",
   "metadata": {
    "collapsed": true
   },
   "outputs": [
    {
     "data": {
      "text/plain": [
       "0        1\n",
       "1        1\n",
       "2        1\n",
       "3        1\n",
       "4        1\n",
       "        ..\n",
       "11157    0\n",
       "11158    0\n",
       "11159    0\n",
       "11160    0\n",
       "11161    0\n",
       "Name: deposit, Length: 11162, dtype: int64"
      ]
     },
     "execution_count": 11,
     "metadata": {},
     "output_type": "execute_result"
    }
   ],
   "source": [
    "y=df[\"deposit\"]\n",
    "y"
   ]
  },
  {
   "cell_type": "code",
   "execution_count": 19,
   "id": "f3a4ef8c",
   "metadata": {},
   "outputs": [],
   "source": [
    "xtrain,xtest,ytrain,ytest= train_test_split(x,y,test_size=0.30,random_state=42)"
   ]
  },
  {
   "cell_type": "code",
   "execution_count": 20,
   "id": "f5d4ece0",
   "metadata": {},
   "outputs": [],
   "source": [
    "lr=LogisticRegression()\n",
    "#knn=KNeighborsClassifier()\n",
    "#svm=SVC()\n",
    "dt=DecisionTreeClassifier()"
   ]
  },
  {
   "cell_type": "code",
   "execution_count": 23,
   "id": "2752dad0",
   "metadata": {},
   "outputs": [],
   "source": [
    "def mymodel(model):\n",
    "    model.fit(xtrain,ytrain)\n",
    "    ypred=model.predict(xtest)\n",
    "    ac=accuracy_score(ytest,ypred)\n",
    "    cr = classification_report(ytest,ypred)\n",
    "    print(f\"Accuracy: {ac} \\n\\n Classification Report \\n {cr}\")"
   ]
  },
  {
   "cell_type": "code",
   "execution_count": 24,
   "id": "6624418f",
   "metadata": {},
   "outputs": [
    {
     "name": "stdout",
     "output_type": "stream",
     "text": [
      "Accuracy: 0.7826216781128695 \n",
      "\n",
      " Classification Report \n",
      "               precision    recall  f1-score   support\n",
      "\n",
      "           0       0.79      0.80      0.79      1742\n",
      "           1       0.78      0.77      0.77      1607\n",
      "\n",
      "    accuracy                           0.78      3349\n",
      "   macro avg       0.78      0.78      0.78      3349\n",
      "weighted avg       0.78      0.78      0.78      3349\n",
      "\n"
     ]
    }
   ],
   "source": [
    "mymodel(dt)"
   ]
  },
  {
   "cell_type": "code",
   "execution_count": 25,
   "id": "31030f20",
   "metadata": {},
   "outputs": [
    {
     "name": "stdout",
     "output_type": "stream",
     "text": [
      "Accuracy: 0.7476858763810093 \n",
      "\n",
      " Classification Report \n",
      "               precision    recall  f1-score   support\n",
      "\n",
      "           0       0.74      0.80      0.77      1742\n",
      "           1       0.76      0.69      0.72      1607\n",
      "\n",
      "    accuracy                           0.75      3349\n",
      "   macro avg       0.75      0.75      0.75      3349\n",
      "weighted avg       0.75      0.75      0.75      3349\n",
      "\n"
     ]
    }
   ],
   "source": [
    "mymodel(lr)"
   ]
  },
  {
   "cell_type": "markdown",
   "id": "baf13c49",
   "metadata": {},
   "source": [
    "Check for Overfitting in DT"
   ]
  },
  {
   "cell_type": "code",
   "execution_count": 27,
   "id": "ca4396be",
   "metadata": {},
   "outputs": [
    {
     "data": {
      "text/plain": [
       "1.0"
      ]
     },
     "execution_count": 27,
     "metadata": {},
     "output_type": "execute_result"
    }
   ],
   "source": [
    "dt.score(xtrain,ytrain)"
   ]
  },
  {
   "cell_type": "code",
   "execution_count": 28,
   "id": "e86bb317",
   "metadata": {},
   "outputs": [
    {
     "data": {
      "text/plain": [
       "0.7826216781128695"
      ]
     },
     "execution_count": 28,
     "metadata": {},
     "output_type": "execute_result"
    }
   ],
   "source": [
    "dt.score(xtest,ytest)"
   ]
  },
  {
   "cell_type": "markdown",
   "id": "d46e34db",
   "metadata": {},
   "source": [
    "Low Bias and High Variance : Overfitting"
   ]
  },
  {
   "cell_type": "markdown",
   "id": "8d42b0a0",
   "metadata": {},
   "source": [
    "# HyperTuning DT"
   ]
  },
  {
   "cell_type": "markdown",
   "id": "ff212298",
   "metadata": {},
   "source": [
    "1. MAX_DEPTH"
   ]
  },
  {
   "cell_type": "code",
   "execution_count": 44,
   "id": "a81c315a",
   "metadata": {},
   "outputs": [
    {
     "name": "stdout",
     "output_type": "stream",
     "text": [
      "For max_depth=1, We get Accuracy= 0.7106598984771574\n",
      "For max_depth=2, We get Accuracy= 0.7055837563451777\n",
      "For max_depth=3, We get Accuracy= 0.775753956404897\n",
      "For max_depth=4, We get Accuracy= 0.7814272917288743\n",
      "For max_depth=5, We get Accuracy= 0.8041206330247835\n",
      "For max_depth=6, We get Accuracy= 0.8056136160047775\n",
      "For max_depth=7, We get Accuracy= 0.8154673036727381\n",
      "For max_depth=8, We get Accuracy= 0.8130785309047477\n",
      "For max_depth=9, We get Accuracy= 0.8062108091967751\n",
      "For max_depth=10, We get Accuracy= 0.8088981785607644\n",
      "For max_depth=11, We get Accuracy= 0.8077037921767691\n",
      "For max_depth=12, We get Accuracy= 0.8023290534487907\n",
      "For max_depth=13, We get Accuracy= 0.797252911316811\n",
      "For max_depth=14, We get Accuracy= 0.7903851896088384\n",
      "For max_depth=15, We get Accuracy= 0.7936697521648253\n"
     ]
    }
   ],
   "source": [
    "acc_list=[]\n",
    "depth_list=[]\n",
    "for i in range(1,16):\n",
    "    dt1= DecisionTreeClassifier(max_depth=i)\n",
    "    dt1.fit(xtrain,ytrain)\n",
    "    ypred=dt1.predict(xtest)\n",
    "    ac=accuracy_score(ytest,ypred)\n",
    "    \n",
    "    depth_list.append(i)\n",
    "    acc_list.append(ac)\n",
    "    \n",
    "    print(f\"For max_depth={i}, We get Accuracy= {ac}\")\n",
    "\n"
   ]
  },
  {
   "cell_type": "code",
   "execution_count": 48,
   "id": "fa25ac71",
   "metadata": {},
   "outputs": [
    {
     "name": "stdout",
     "output_type": "stream",
     "text": [
      "We observed that, Highest Accuracy of the DT is achieved when its max_depth is : 7\n"
     ]
    }
   ],
   "source": [
    "# To find the Max Depth giving highest accuracy    \n",
    "max_acc= acc_list[0]\n",
    "for i in range(1, len(acc_list)): \n",
    "    if (acc_list[i] > max_acc):\n",
    "        max_acc = acc_list[i]\n",
    "max_index = acc_list.index(max_acc)\n",
    "print(f\"We observed that, Highest Accuracy of the DT is achieved when its max_depth is : {max_index+1}\")"
   ]
  },
  {
   "cell_type": "code",
   "execution_count": 49,
   "id": "e1b52d6d",
   "metadata": {},
   "outputs": [
    {
     "name": "stdout",
     "output_type": "stream",
     "text": [
      "Accuracy: 0.815765900268737 \n",
      "\n",
      " Classification Report \n",
      "               precision    recall  f1-score   support\n",
      "\n",
      "           0       0.80      0.86      0.83      1742\n",
      "           1       0.84      0.76      0.80      1607\n",
      "\n",
      "    accuracy                           0.82      3349\n",
      "   macro avg       0.82      0.81      0.81      3349\n",
      "weighted avg       0.82      0.82      0.82      3349\n",
      "\n"
     ]
    }
   ],
   "source": [
    "#Lets build  DT Model with Max_Depth = 7\n",
    "dt2= DecisionTreeClassifier(max_depth=7)\n",
    "mymodel(dt2)"
   ]
  },
  {
   "cell_type": "code",
   "execution_count": 50,
   "id": "d4cbbbf3",
   "metadata": {},
   "outputs": [
    {
     "data": {
      "text/plain": [
       "0.8369384359400999"
      ]
     },
     "execution_count": 50,
     "metadata": {},
     "output_type": "execute_result"
    }
   ],
   "source": [
    "dt2.score(xtrain,ytrain)"
   ]
  },
  {
   "cell_type": "markdown",
   "id": "437c4afb",
   "metadata": {},
   "source": [
    "GREAT!, This has resolved overfitting to a much greater extent !!!"
   ]
  },
  {
   "cell_type": "markdown",
   "id": "2925d1d3",
   "metadata": {},
   "source": [
    "2. MIN_SAMPLE_SPLIT"
   ]
  },
  {
   "cell_type": "code",
   "execution_count": 79,
   "id": "66153e69",
   "metadata": {},
   "outputs": [],
   "source": [
    "sample_split_list=[]\n",
    "acc_list=[]\n",
    "for i in range(2,50):\n",
    "    dt3= DecisionTreeClassifier(min_samples_split=i)\n",
    "    dt3.fit(xtrain,ytrain)\n",
    "    ypred=dt3.predict(xtest)\n",
    "    ac=accuracy_score(ytest,ypred)\n",
    "    \n",
    "    sample_split_list.append(i)\n",
    "    acc_list.append(ac)\n",
    "    \n",
    "    #print(f\"For max_depth={i}, We get Accuracy= {ac}\")"
   ]
  },
  {
   "cell_type": "code",
   "execution_count": 80,
   "id": "79959eea",
   "metadata": {},
   "outputs": [
    {
     "name": "stdout",
     "output_type": "stream",
     "text": [
      "We observed that, Highest Accuracy of the DT is achieved when its min_sample_split is : 49\n"
     ]
    }
   ],
   "source": [
    "# To find the Min_sample_split giving highest accuracy    \n",
    "max_acc= acc_list[0]\n",
    "for i in range(1, len(acc_list)): \n",
    "    if (acc_list[i] > max_acc):\n",
    "        max_acc = acc_list[i]\n",
    "max_index = acc_list.index(max_acc)\n",
    "print(f\"We observed that, Highest Accuracy of the DT is achieved when its min_sample_split is : {max_index+2}\")"
   ]
  },
  {
   "cell_type": "code",
   "execution_count": 81,
   "id": "f20cbd12",
   "metadata": {},
   "outputs": [
    {
     "name": "stdout",
     "output_type": "stream",
     "text": [
      "Accuracy: 0.8127799343087488 \n",
      "\n",
      " Classification Report \n",
      "               precision    recall  f1-score   support\n",
      "\n",
      "           0       0.83      0.80      0.82      1742\n",
      "           1       0.79      0.83      0.81      1607\n",
      "\n",
      "    accuracy                           0.81      3349\n",
      "   macro avg       0.81      0.81      0.81      3349\n",
      "weighted avg       0.81      0.81      0.81      3349\n",
      "\n"
     ]
    }
   ],
   "source": [
    "dt4=DecisionTreeClassifier(min_samples_split=49)\n",
    "mymodel(dt4)"
   ]
  },
  {
   "cell_type": "code",
   "execution_count": 82,
   "id": "a84701ec",
   "metadata": {},
   "outputs": [
    {
     "data": {
      "text/plain": [
       "0.8749520030718034"
      ]
     },
     "execution_count": 82,
     "metadata": {},
     "output_type": "execute_result"
    }
   ],
   "source": [
    "dt4.score(xtrain,ytrain)"
   ]
  },
  {
   "cell_type": "code",
   "execution_count": null,
   "id": "477d8066",
   "metadata": {},
   "outputs": [],
   "source": []
  },
  {
   "cell_type": "code",
   "execution_count": 84,
   "id": "ddfb396d",
   "metadata": {},
   "outputs": [],
   "source": [
    "sample_leaf_list=[]\n",
    "acc_list=[]\n",
    "for i in range(1,50):\n",
    "    dt5= DecisionTreeClassifier(min_samples_leaf=i)\n",
    "    dt5.fit(xtrain,ytrain)\n",
    "    ypred=dt5.predict(xtest)\n",
    "    ac=accuracy_score(ytest,ypred)\n",
    "    \n",
    "    sample_leaf_list.append(i)\n",
    "    acc_list.append(ac)\n",
    "    \n",
    "    #print(f\"For min_sample_leaf={i}, We get Accuracy= {ac}\")"
   ]
  },
  {
   "cell_type": "code",
   "execution_count": 85,
   "id": "d0f8ac80",
   "metadata": {},
   "outputs": [
    {
     "name": "stdout",
     "output_type": "stream",
     "text": [
      "We observed that, Highest Accuracy of the DT is achieved when its min_samples_leaf is : 31\n"
     ]
    }
   ],
   "source": [
    "# To find the Min_sample_leaf giving highest accuracy    \n",
    "max_acc= acc_list[0]\n",
    "for i in range(1, len(acc_list)): \n",
    "    if (acc_list[i] > max_acc):\n",
    "        max_acc = acc_list[i]\n",
    "max_index = acc_list.index(max_acc)\n",
    "print(f\"We observed that, Highest Accuracy of the DT is achieved when its min_samples_leaf is : {max_index+1}\")"
   ]
  },
  {
   "cell_type": "code",
   "execution_count": null,
   "id": "9a70a9f5",
   "metadata": {},
   "outputs": [],
   "source": []
  },
  {
   "cell_type": "code",
   "execution_count": null,
   "id": "781ab596",
   "metadata": {},
   "outputs": [],
   "source": []
  }
 ],
 "metadata": {
  "kernelspec": {
   "display_name": "Python 3",
   "language": "python",
   "name": "python3"
  },
  "language_info": {
   "codemirror_mode": {
    "name": "ipython",
    "version": 3
   },
   "file_extension": ".py",
   "mimetype": "text/x-python",
   "name": "python",
   "nbconvert_exporter": "python",
   "pygments_lexer": "ipython3",
   "version": "3.8.8"
  }
 },
 "nbformat": 4,
 "nbformat_minor": 5
}
