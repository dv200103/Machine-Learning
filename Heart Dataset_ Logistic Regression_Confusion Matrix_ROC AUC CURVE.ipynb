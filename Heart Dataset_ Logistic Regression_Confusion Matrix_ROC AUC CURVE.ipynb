{
 "cells": [
  {
   "cell_type": "code",
   "execution_count": 1,
   "id": "9d50549e",
   "metadata": {},
   "outputs": [],
   "source": [
    "import pandas as pd\n",
    "import numpy as np\n",
    "import matplotlib.pyplot as plt\n",
    "import seaborn as sns\n",
    "import warnings\n",
    "warnings.filterwarnings(\"ignore\")"
   ]
  },
  {
   "cell_type": "code",
   "execution_count": 2,
   "id": "3869e2b4",
   "metadata": {},
   "outputs": [],
   "source": [
    "df=pd.read_csv(\"cardio_train.csv\",delimiter=';')"
   ]
  },
  {
   "cell_type": "code",
   "execution_count": 3,
   "id": "d0686515",
   "metadata": {},
   "outputs": [
    {
     "data": {
      "text/html": [
       "<div>\n",
       "<style scoped>\n",
       "    .dataframe tbody tr th:only-of-type {\n",
       "        vertical-align: middle;\n",
       "    }\n",
       "\n",
       "    .dataframe tbody tr th {\n",
       "        vertical-align: top;\n",
       "    }\n",
       "\n",
       "    .dataframe thead th {\n",
       "        text-align: right;\n",
       "    }\n",
       "</style>\n",
       "<table border=\"1\" class=\"dataframe\">\n",
       "  <thead>\n",
       "    <tr style=\"text-align: right;\">\n",
       "      <th></th>\n",
       "      <th>id</th>\n",
       "      <th>age</th>\n",
       "      <th>gender</th>\n",
       "      <th>height</th>\n",
       "      <th>weight</th>\n",
       "      <th>ap_hi</th>\n",
       "      <th>ap_lo</th>\n",
       "      <th>cholesterol</th>\n",
       "      <th>gluc</th>\n",
       "      <th>smoke</th>\n",
       "      <th>alco</th>\n",
       "      <th>active</th>\n",
       "      <th>cardio</th>\n",
       "    </tr>\n",
       "  </thead>\n",
       "  <tbody>\n",
       "    <tr>\n",
       "      <th>0</th>\n",
       "      <td>0</td>\n",
       "      <td>18393</td>\n",
       "      <td>2</td>\n",
       "      <td>168</td>\n",
       "      <td>62.0</td>\n",
       "      <td>110</td>\n",
       "      <td>80</td>\n",
       "      <td>1</td>\n",
       "      <td>1</td>\n",
       "      <td>0</td>\n",
       "      <td>0</td>\n",
       "      <td>1</td>\n",
       "      <td>0</td>\n",
       "    </tr>\n",
       "    <tr>\n",
       "      <th>1</th>\n",
       "      <td>1</td>\n",
       "      <td>20228</td>\n",
       "      <td>1</td>\n",
       "      <td>156</td>\n",
       "      <td>85.0</td>\n",
       "      <td>140</td>\n",
       "      <td>90</td>\n",
       "      <td>3</td>\n",
       "      <td>1</td>\n",
       "      <td>0</td>\n",
       "      <td>0</td>\n",
       "      <td>1</td>\n",
       "      <td>1</td>\n",
       "    </tr>\n",
       "    <tr>\n",
       "      <th>2</th>\n",
       "      <td>2</td>\n",
       "      <td>18857</td>\n",
       "      <td>1</td>\n",
       "      <td>165</td>\n",
       "      <td>64.0</td>\n",
       "      <td>130</td>\n",
       "      <td>70</td>\n",
       "      <td>3</td>\n",
       "      <td>1</td>\n",
       "      <td>0</td>\n",
       "      <td>0</td>\n",
       "      <td>0</td>\n",
       "      <td>1</td>\n",
       "    </tr>\n",
       "    <tr>\n",
       "      <th>3</th>\n",
       "      <td>3</td>\n",
       "      <td>17623</td>\n",
       "      <td>2</td>\n",
       "      <td>169</td>\n",
       "      <td>82.0</td>\n",
       "      <td>150</td>\n",
       "      <td>100</td>\n",
       "      <td>1</td>\n",
       "      <td>1</td>\n",
       "      <td>0</td>\n",
       "      <td>0</td>\n",
       "      <td>1</td>\n",
       "      <td>1</td>\n",
       "    </tr>\n",
       "    <tr>\n",
       "      <th>4</th>\n",
       "      <td>4</td>\n",
       "      <td>17474</td>\n",
       "      <td>1</td>\n",
       "      <td>156</td>\n",
       "      <td>56.0</td>\n",
       "      <td>100</td>\n",
       "      <td>60</td>\n",
       "      <td>1</td>\n",
       "      <td>1</td>\n",
       "      <td>0</td>\n",
       "      <td>0</td>\n",
       "      <td>0</td>\n",
       "      <td>0</td>\n",
       "    </tr>\n",
       "    <tr>\n",
       "      <th>...</th>\n",
       "      <td>...</td>\n",
       "      <td>...</td>\n",
       "      <td>...</td>\n",
       "      <td>...</td>\n",
       "      <td>...</td>\n",
       "      <td>...</td>\n",
       "      <td>...</td>\n",
       "      <td>...</td>\n",
       "      <td>...</td>\n",
       "      <td>...</td>\n",
       "      <td>...</td>\n",
       "      <td>...</td>\n",
       "      <td>...</td>\n",
       "    </tr>\n",
       "    <tr>\n",
       "      <th>69995</th>\n",
       "      <td>99993</td>\n",
       "      <td>19240</td>\n",
       "      <td>2</td>\n",
       "      <td>168</td>\n",
       "      <td>76.0</td>\n",
       "      <td>120</td>\n",
       "      <td>80</td>\n",
       "      <td>1</td>\n",
       "      <td>1</td>\n",
       "      <td>1</td>\n",
       "      <td>0</td>\n",
       "      <td>1</td>\n",
       "      <td>0</td>\n",
       "    </tr>\n",
       "    <tr>\n",
       "      <th>69996</th>\n",
       "      <td>99995</td>\n",
       "      <td>22601</td>\n",
       "      <td>1</td>\n",
       "      <td>158</td>\n",
       "      <td>126.0</td>\n",
       "      <td>140</td>\n",
       "      <td>90</td>\n",
       "      <td>2</td>\n",
       "      <td>2</td>\n",
       "      <td>0</td>\n",
       "      <td>0</td>\n",
       "      <td>1</td>\n",
       "      <td>1</td>\n",
       "    </tr>\n",
       "    <tr>\n",
       "      <th>69997</th>\n",
       "      <td>99996</td>\n",
       "      <td>19066</td>\n",
       "      <td>2</td>\n",
       "      <td>183</td>\n",
       "      <td>105.0</td>\n",
       "      <td>180</td>\n",
       "      <td>90</td>\n",
       "      <td>3</td>\n",
       "      <td>1</td>\n",
       "      <td>0</td>\n",
       "      <td>1</td>\n",
       "      <td>0</td>\n",
       "      <td>1</td>\n",
       "    </tr>\n",
       "    <tr>\n",
       "      <th>69998</th>\n",
       "      <td>99998</td>\n",
       "      <td>22431</td>\n",
       "      <td>1</td>\n",
       "      <td>163</td>\n",
       "      <td>72.0</td>\n",
       "      <td>135</td>\n",
       "      <td>80</td>\n",
       "      <td>1</td>\n",
       "      <td>2</td>\n",
       "      <td>0</td>\n",
       "      <td>0</td>\n",
       "      <td>0</td>\n",
       "      <td>1</td>\n",
       "    </tr>\n",
       "    <tr>\n",
       "      <th>69999</th>\n",
       "      <td>99999</td>\n",
       "      <td>20540</td>\n",
       "      <td>1</td>\n",
       "      <td>170</td>\n",
       "      <td>72.0</td>\n",
       "      <td>120</td>\n",
       "      <td>80</td>\n",
       "      <td>2</td>\n",
       "      <td>1</td>\n",
       "      <td>0</td>\n",
       "      <td>0</td>\n",
       "      <td>1</td>\n",
       "      <td>0</td>\n",
       "    </tr>\n",
       "  </tbody>\n",
       "</table>\n",
       "<p>70000 rows × 13 columns</p>\n",
       "</div>"
      ],
      "text/plain": [
       "          id    age  gender  height  weight  ap_hi  ap_lo  cholesterol  gluc  \\\n",
       "0          0  18393       2     168    62.0    110     80            1     1   \n",
       "1          1  20228       1     156    85.0    140     90            3     1   \n",
       "2          2  18857       1     165    64.0    130     70            3     1   \n",
       "3          3  17623       2     169    82.0    150    100            1     1   \n",
       "4          4  17474       1     156    56.0    100     60            1     1   \n",
       "...      ...    ...     ...     ...     ...    ...    ...          ...   ...   \n",
       "69995  99993  19240       2     168    76.0    120     80            1     1   \n",
       "69996  99995  22601       1     158   126.0    140     90            2     2   \n",
       "69997  99996  19066       2     183   105.0    180     90            3     1   \n",
       "69998  99998  22431       1     163    72.0    135     80            1     2   \n",
       "69999  99999  20540       1     170    72.0    120     80            2     1   \n",
       "\n",
       "       smoke  alco  active  cardio  \n",
       "0          0     0       1       0  \n",
       "1          0     0       1       1  \n",
       "2          0     0       0       1  \n",
       "3          0     0       1       1  \n",
       "4          0     0       0       0  \n",
       "...      ...   ...     ...     ...  \n",
       "69995      1     0       1       0  \n",
       "69996      0     0       1       1  \n",
       "69997      0     1       0       1  \n",
       "69998      0     0       0       1  \n",
       "69999      0     0       1       0  \n",
       "\n",
       "[70000 rows x 13 columns]"
      ]
     },
     "execution_count": 3,
     "metadata": {},
     "output_type": "execute_result"
    }
   ],
   "source": [
    "df"
   ]
  },
  {
   "cell_type": "code",
   "execution_count": 4,
   "id": "11697978",
   "metadata": {},
   "outputs": [
    {
     "name": "stdout",
     "output_type": "stream",
     "text": [
      "<class 'pandas.core.frame.DataFrame'>\n",
      "RangeIndex: 70000 entries, 0 to 69999\n",
      "Data columns (total 13 columns):\n",
      " #   Column       Non-Null Count  Dtype  \n",
      "---  ------       --------------  -----  \n",
      " 0   id           70000 non-null  int64  \n",
      " 1   age          70000 non-null  int64  \n",
      " 2   gender       70000 non-null  int64  \n",
      " 3   height       70000 non-null  int64  \n",
      " 4   weight       70000 non-null  float64\n",
      " 5   ap_hi        70000 non-null  int64  \n",
      " 6   ap_lo        70000 non-null  int64  \n",
      " 7   cholesterol  70000 non-null  int64  \n",
      " 8   gluc         70000 non-null  int64  \n",
      " 9   smoke        70000 non-null  int64  \n",
      " 10  alco         70000 non-null  int64  \n",
      " 11  active       70000 non-null  int64  \n",
      " 12  cardio       70000 non-null  int64  \n",
      "dtypes: float64(1), int64(12)\n",
      "memory usage: 6.9 MB\n"
     ]
    }
   ],
   "source": [
    "df.info()"
   ]
  },
  {
   "cell_type": "markdown",
   "id": "c916bb4d",
   "metadata": {},
   "source": [
    "## Data Processing"
   ]
  },
  {
   "cell_type": "code",
   "execution_count": 5,
   "id": "9fbc8d38",
   "metadata": {},
   "outputs": [
    {
     "data": {
      "text/plain": [
       "1    45530\n",
       "2    24470\n",
       "Name: gender, dtype: int64"
      ]
     },
     "execution_count": 5,
     "metadata": {},
     "output_type": "execute_result"
    }
   ],
   "source": [
    "df['gender'].value_counts()"
   ]
  },
  {
   "cell_type": "code",
   "execution_count": 6,
   "id": "d6fd12f2",
   "metadata": {},
   "outputs": [],
   "source": [
    "df.drop(['id'],axis=1,inplace=True)"
   ]
  },
  {
   "cell_type": "code",
   "execution_count": 7,
   "id": "450fe2c0",
   "metadata": {},
   "outputs": [],
   "source": [
    "df['age']=round(df['age']/365)"
   ]
  },
  {
   "cell_type": "code",
   "execution_count": 8,
   "id": "9a2ebb0d",
   "metadata": {},
   "outputs": [
    {
     "name": "stdout",
     "output_type": "stream",
     "text": [
      "<class 'pandas.core.frame.DataFrame'>\n",
      "RangeIndex: 70000 entries, 0 to 69999\n",
      "Data columns (total 12 columns):\n",
      " #   Column       Non-Null Count  Dtype  \n",
      "---  ------       --------------  -----  \n",
      " 0   age          70000 non-null  float64\n",
      " 1   gender       70000 non-null  int64  \n",
      " 2   height       70000 non-null  int64  \n",
      " 3   weight       70000 non-null  float64\n",
      " 4   ap_hi        70000 non-null  int64  \n",
      " 5   ap_lo        70000 non-null  int64  \n",
      " 6   cholesterol  70000 non-null  int64  \n",
      " 7   gluc         70000 non-null  int64  \n",
      " 8   smoke        70000 non-null  int64  \n",
      " 9   alco         70000 non-null  int64  \n",
      " 10  active       70000 non-null  int64  \n",
      " 11  cardio       70000 non-null  int64  \n",
      "dtypes: float64(2), int64(10)\n",
      "memory usage: 6.4 MB\n"
     ]
    }
   ],
   "source": [
    "df.info()"
   ]
  },
  {
   "cell_type": "code",
   "execution_count": 9,
   "id": "80750299",
   "metadata": {},
   "outputs": [],
   "source": [
    "df['age']=df['age'].astype('int64')"
   ]
  },
  {
   "cell_type": "code",
   "execution_count": 10,
   "id": "16ea76d2",
   "metadata": {},
   "outputs": [
    {
     "name": "stdout",
     "output_type": "stream",
     "text": [
      "<class 'pandas.core.frame.DataFrame'>\n",
      "RangeIndex: 70000 entries, 0 to 69999\n",
      "Data columns (total 12 columns):\n",
      " #   Column       Non-Null Count  Dtype  \n",
      "---  ------       --------------  -----  \n",
      " 0   age          70000 non-null  int64  \n",
      " 1   gender       70000 non-null  int64  \n",
      " 2   height       70000 non-null  int64  \n",
      " 3   weight       70000 non-null  float64\n",
      " 4   ap_hi        70000 non-null  int64  \n",
      " 5   ap_lo        70000 non-null  int64  \n",
      " 6   cholesterol  70000 non-null  int64  \n",
      " 7   gluc         70000 non-null  int64  \n",
      " 8   smoke        70000 non-null  int64  \n",
      " 9   alco         70000 non-null  int64  \n",
      " 10  active       70000 non-null  int64  \n",
      " 11  cardio       70000 non-null  int64  \n",
      "dtypes: float64(1), int64(11)\n",
      "memory usage: 6.4 MB\n"
     ]
    }
   ],
   "source": [
    "df.info()"
   ]
  },
  {
   "cell_type": "code",
   "execution_count": 11,
   "id": "9313aeed",
   "metadata": {},
   "outputs": [
    {
     "data": {
      "text/plain": [
       "<Axes: xlabel='height', ylabel='Density'>"
      ]
     },
     "execution_count": 11,
     "metadata": {},
     "output_type": "execute_result"
    },
    {
     "data": {
      "image/png": "[encoded data removed]",
      "text/plain": [
       "<Figure size 640x480 with 1 Axes>"
      ]
     },
     "metadata": {},
     "output_type": "display_data"
    }
   ],
   "source": [
    "sns.distplot(df['height'])"
   ]
  },
  {
   "cell_type": "code",
   "execution_count": 12,
   "id": "9a19ac33",
   "metadata": {},
   "outputs": [
    {
     "data": {
      "text/plain": [
       "<Axes: xlabel='weight', ylabel='Density'>"
      ]
     },
     "execution_count": 12,
     "metadata": {},
     "output_type": "execute_result"
    },
    {
     "data": {
      "image/png": "[encoded data removed]",
      "text/plain": [
       "<Figure size 640x480 with 1 Axes>"
      ]
     },
     "metadata": {},
     "output_type": "display_data"
    }
   ],
   "source": [
    "sns.distplot(df['weight'])"
   ]
  },
  {
   "cell_type": "code",
   "execution_count": 13,
   "id": "97bbaac4",
   "metadata": {},
   "outputs": [
    {
     "data": {
      "text/plain": [
       "<Axes: xlabel='age', ylabel='Density'>"
      ]
     },
     "execution_count": 13,
     "metadata": {},
     "output_type": "execute_result"
    },
    {
     "data": {
      "image/png": "[encoded data removed]",
      "text/plain": [
       "<Figure size 640x480 with 1 Axes>"
      ]
     },
     "metadata": {},
     "output_type": "display_data"
    }
   ],
   "source": [
    "sns.distplot(df['age'])"
   ]
  },
  {
   "cell_type": "code",
   "execution_count": 14,
   "id": "88ce70fc",
   "metadata": {},
   "outputs": [
    {
     "data": {
      "text/html": [
       "<div>\n",
       "<style scoped>\n",
       "    .dataframe tbody tr th:only-of-type {\n",
       "        vertical-align: middle;\n",
       "    }\n",
       "\n",
       "    .dataframe tbody tr th {\n",
       "        vertical-align: top;\n",
       "    }\n",
       "\n",
       "    .dataframe thead th {\n",
       "        text-align: right;\n",
       "    }\n",
       "</style>\n",
       "<table border=\"1\" class=\"dataframe\">\n",
       "  <thead>\n",
       "    <tr style=\"text-align: right;\">\n",
       "      <th></th>\n",
       "      <th>age</th>\n",
       "      <th>gender</th>\n",
       "      <th>height</th>\n",
       "      <th>weight</th>\n",
       "      <th>ap_hi</th>\n",
       "      <th>ap_lo</th>\n",
       "      <th>cholesterol</th>\n",
       "      <th>gluc</th>\n",
       "      <th>smoke</th>\n",
       "      <th>alco</th>\n",
       "      <th>active</th>\n",
       "      <th>cardio</th>\n",
       "    </tr>\n",
       "  </thead>\n",
       "  <tbody>\n",
       "    <tr>\n",
       "      <th>3752</th>\n",
       "      <td>42</td>\n",
       "      <td>1</td>\n",
       "      <td>120</td>\n",
       "      <td>30.00</td>\n",
       "      <td>110</td>\n",
       "      <td>70</td>\n",
       "      <td>1</td>\n",
       "      <td>1</td>\n",
       "      <td>0</td>\n",
       "      <td>0</td>\n",
       "      <td>1</td>\n",
       "      <td>0</td>\n",
       "    </tr>\n",
       "    <tr>\n",
       "      <th>5794</th>\n",
       "      <td>48</td>\n",
       "      <td>1</td>\n",
       "      <td>151</td>\n",
       "      <td>37.00</td>\n",
       "      <td>120</td>\n",
       "      <td>80</td>\n",
       "      <td>1</td>\n",
       "      <td>1</td>\n",
       "      <td>0</td>\n",
       "      <td>0</td>\n",
       "      <td>1</td>\n",
       "      <td>0</td>\n",
       "    </tr>\n",
       "    <tr>\n",
       "      <th>10447</th>\n",
       "      <td>60</td>\n",
       "      <td>1</td>\n",
       "      <td>162</td>\n",
       "      <td>38.00</td>\n",
       "      <td>100</td>\n",
       "      <td>70</td>\n",
       "      <td>1</td>\n",
       "      <td>1</td>\n",
       "      <td>0</td>\n",
       "      <td>0</td>\n",
       "      <td>1</td>\n",
       "      <td>0</td>\n",
       "    </tr>\n",
       "    <tr>\n",
       "      <th>10627</th>\n",
       "      <td>59</td>\n",
       "      <td>1</td>\n",
       "      <td>153</td>\n",
       "      <td>37.00</td>\n",
       "      <td>150</td>\n",
       "      <td>80</td>\n",
       "      <td>3</td>\n",
       "      <td>3</td>\n",
       "      <td>0</td>\n",
       "      <td>0</td>\n",
       "      <td>1</td>\n",
       "      <td>1</td>\n",
       "    </tr>\n",
       "    <tr>\n",
       "      <th>11876</th>\n",
       "      <td>48</td>\n",
       "      <td>1</td>\n",
       "      <td>157</td>\n",
       "      <td>39.00</td>\n",
       "      <td>90</td>\n",
       "      <td>70</td>\n",
       "      <td>1</td>\n",
       "      <td>1</td>\n",
       "      <td>0</td>\n",
       "      <td>0</td>\n",
       "      <td>1</td>\n",
       "      <td>0</td>\n",
       "    </tr>\n",
       "    <tr>\n",
       "      <th>14722</th>\n",
       "      <td>62</td>\n",
       "      <td>1</td>\n",
       "      <td>143</td>\n",
       "      <td>34.00</td>\n",
       "      <td>100</td>\n",
       "      <td>70</td>\n",
       "      <td>1</td>\n",
       "      <td>1</td>\n",
       "      <td>0</td>\n",
       "      <td>0</td>\n",
       "      <td>1</td>\n",
       "      <td>0</td>\n",
       "    </tr>\n",
       "    <tr>\n",
       "      <th>16322</th>\n",
       "      <td>60</td>\n",
       "      <td>1</td>\n",
       "      <td>165</td>\n",
       "      <td>35.00</td>\n",
       "      <td>100</td>\n",
       "      <td>70</td>\n",
       "      <td>1</td>\n",
       "      <td>1</td>\n",
       "      <td>0</td>\n",
       "      <td>0</td>\n",
       "      <td>1</td>\n",
       "      <td>0</td>\n",
       "    </tr>\n",
       "    <tr>\n",
       "      <th>16906</th>\n",
       "      <td>47</td>\n",
       "      <td>2</td>\n",
       "      <td>170</td>\n",
       "      <td>31.00</td>\n",
       "      <td>150</td>\n",
       "      <td>90</td>\n",
       "      <td>2</td>\n",
       "      <td>2</td>\n",
       "      <td>0</td>\n",
       "      <td>0</td>\n",
       "      <td>1</td>\n",
       "      <td>1</td>\n",
       "    </tr>\n",
       "    <tr>\n",
       "      <th>18559</th>\n",
       "      <td>50</td>\n",
       "      <td>1</td>\n",
       "      <td>160</td>\n",
       "      <td>30.00</td>\n",
       "      <td>120</td>\n",
       "      <td>80</td>\n",
       "      <td>1</td>\n",
       "      <td>1</td>\n",
       "      <td>0</td>\n",
       "      <td>0</td>\n",
       "      <td>1</td>\n",
       "      <td>1</td>\n",
       "    </tr>\n",
       "    <tr>\n",
       "      <th>19582</th>\n",
       "      <td>58</td>\n",
       "      <td>1</td>\n",
       "      <td>152</td>\n",
       "      <td>38.00</td>\n",
       "      <td>110</td>\n",
       "      <td>80</td>\n",
       "      <td>1</td>\n",
       "      <td>1</td>\n",
       "      <td>0</td>\n",
       "      <td>0</td>\n",
       "      <td>1</td>\n",
       "      <td>0</td>\n",
       "    </tr>\n",
       "    <tr>\n",
       "      <th>22016</th>\n",
       "      <td>42</td>\n",
       "      <td>1</td>\n",
       "      <td>146</td>\n",
       "      <td>32.00</td>\n",
       "      <td>100</td>\n",
       "      <td>70</td>\n",
       "      <td>1</td>\n",
       "      <td>1</td>\n",
       "      <td>0</td>\n",
       "      <td>0</td>\n",
       "      <td>0</td>\n",
       "      <td>0</td>\n",
       "    </tr>\n",
       "    <tr>\n",
       "      <th>25198</th>\n",
       "      <td>51</td>\n",
       "      <td>1</td>\n",
       "      <td>149</td>\n",
       "      <td>35.45</td>\n",
       "      <td>110</td>\n",
       "      <td>70</td>\n",
       "      <td>1</td>\n",
       "      <td>1</td>\n",
       "      <td>0</td>\n",
       "      <td>0</td>\n",
       "      <td>1</td>\n",
       "      <td>0</td>\n",
       "    </tr>\n",
       "    <tr>\n",
       "      <th>26806</th>\n",
       "      <td>64</td>\n",
       "      <td>1</td>\n",
       "      <td>157</td>\n",
       "      <td>23.00</td>\n",
       "      <td>110</td>\n",
       "      <td>80</td>\n",
       "      <td>1</td>\n",
       "      <td>1</td>\n",
       "      <td>0</td>\n",
       "      <td>0</td>\n",
       "      <td>1</td>\n",
       "      <td>0</td>\n",
       "    </tr>\n",
       "    <tr>\n",
       "      <th>29333</th>\n",
       "      <td>60</td>\n",
       "      <td>1</td>\n",
       "      <td>153</td>\n",
       "      <td>37.00</td>\n",
       "      <td>120</td>\n",
       "      <td>80</td>\n",
       "      <td>1</td>\n",
       "      <td>1</td>\n",
       "      <td>0</td>\n",
       "      <td>0</td>\n",
       "      <td>1</td>\n",
       "      <td>1</td>\n",
       "    </tr>\n",
       "    <tr>\n",
       "      <th>29488</th>\n",
       "      <td>56</td>\n",
       "      <td>2</td>\n",
       "      <td>177</td>\n",
       "      <td>22.00</td>\n",
       "      <td>120</td>\n",
       "      <td>80</td>\n",
       "      <td>1</td>\n",
       "      <td>1</td>\n",
       "      <td>1</td>\n",
       "      <td>1</td>\n",
       "      <td>1</td>\n",
       "      <td>0</td>\n",
       "    </tr>\n",
       "    <tr>\n",
       "      <th>31420</th>\n",
       "      <td>56</td>\n",
       "      <td>1</td>\n",
       "      <td>140</td>\n",
       "      <td>39.00</td>\n",
       "      <td>120</td>\n",
       "      <td>80</td>\n",
       "      <td>1</td>\n",
       "      <td>1</td>\n",
       "      <td>0</td>\n",
       "      <td>0</td>\n",
       "      <td>1</td>\n",
       "      <td>0</td>\n",
       "    </tr>\n",
       "    <tr>\n",
       "      <th>32087</th>\n",
       "      <td>43</td>\n",
       "      <td>1</td>\n",
       "      <td>143</td>\n",
       "      <td>36.00</td>\n",
       "      <td>90</td>\n",
       "      <td>60</td>\n",
       "      <td>1</td>\n",
       "      <td>1</td>\n",
       "      <td>0</td>\n",
       "      <td>0</td>\n",
       "      <td>1</td>\n",
       "      <td>0</td>\n",
       "    </tr>\n",
       "    <tr>\n",
       "      <th>33478</th>\n",
       "      <td>42</td>\n",
       "      <td>1</td>\n",
       "      <td>152</td>\n",
       "      <td>39.00</td>\n",
       "      <td>110</td>\n",
       "      <td>70</td>\n",
       "      <td>1</td>\n",
       "      <td>2</td>\n",
       "      <td>1</td>\n",
       "      <td>0</td>\n",
       "      <td>1</td>\n",
       "      <td>1</td>\n",
       "    </tr>\n",
       "    <tr>\n",
       "      <th>33511</th>\n",
       "      <td>58</td>\n",
       "      <td>1</td>\n",
       "      <td>153</td>\n",
       "      <td>34.00</td>\n",
       "      <td>110</td>\n",
       "      <td>70</td>\n",
       "      <td>3</td>\n",
       "      <td>3</td>\n",
       "      <td>0</td>\n",
       "      <td>0</td>\n",
       "      <td>1</td>\n",
       "      <td>1</td>\n",
       "    </tr>\n",
       "    <tr>\n",
       "      <th>33817</th>\n",
       "      <td>59</td>\n",
       "      <td>2</td>\n",
       "      <td>178</td>\n",
       "      <td>11.00</td>\n",
       "      <td>130</td>\n",
       "      <td>90</td>\n",
       "      <td>1</td>\n",
       "      <td>1</td>\n",
       "      <td>0</td>\n",
       "      <td>0</td>\n",
       "      <td>1</td>\n",
       "      <td>1</td>\n",
       "    </tr>\n",
       "    <tr>\n",
       "      <th>33820</th>\n",
       "      <td>62</td>\n",
       "      <td>1</td>\n",
       "      <td>145</td>\n",
       "      <td>36.00</td>\n",
       "      <td>120</td>\n",
       "      <td>80</td>\n",
       "      <td>1</td>\n",
       "      <td>1</td>\n",
       "      <td>0</td>\n",
       "      <td>0</td>\n",
       "      <td>1</td>\n",
       "      <td>0</td>\n",
       "    </tr>\n",
       "    <tr>\n",
       "      <th>34276</th>\n",
       "      <td>40</td>\n",
       "      <td>2</td>\n",
       "      <td>128</td>\n",
       "      <td>28.00</td>\n",
       "      <td>120</td>\n",
       "      <td>80</td>\n",
       "      <td>1</td>\n",
       "      <td>1</td>\n",
       "      <td>0</td>\n",
       "      <td>0</td>\n",
       "      <td>1</td>\n",
       "      <td>0</td>\n",
       "    </tr>\n",
       "    <tr>\n",
       "      <th>34282</th>\n",
       "      <td>56</td>\n",
       "      <td>1</td>\n",
       "      <td>148</td>\n",
       "      <td>36.00</td>\n",
       "      <td>140</td>\n",
       "      <td>80</td>\n",
       "      <td>1</td>\n",
       "      <td>1</td>\n",
       "      <td>0</td>\n",
       "      <td>0</td>\n",
       "      <td>1</td>\n",
       "      <td>1</td>\n",
       "    </tr>\n",
       "    <tr>\n",
       "      <th>34328</th>\n",
       "      <td>40</td>\n",
       "      <td>1</td>\n",
       "      <td>152</td>\n",
       "      <td>39.00</td>\n",
       "      <td>90</td>\n",
       "      <td>60</td>\n",
       "      <td>1</td>\n",
       "      <td>1</td>\n",
       "      <td>0</td>\n",
       "      <td>0</td>\n",
       "      <td>1</td>\n",
       "      <td>0</td>\n",
       "    </tr>\n",
       "    <tr>\n",
       "      <th>35314</th>\n",
       "      <td>54</td>\n",
       "      <td>1</td>\n",
       "      <td>146</td>\n",
       "      <td>32.00</td>\n",
       "      <td>130</td>\n",
       "      <td>80</td>\n",
       "      <td>1</td>\n",
       "      <td>2</td>\n",
       "      <td>0</td>\n",
       "      <td>0</td>\n",
       "      <td>0</td>\n",
       "      <td>0</td>\n",
       "    </tr>\n",
       "    <tr>\n",
       "      <th>38417</th>\n",
       "      <td>60</td>\n",
       "      <td>1</td>\n",
       "      <td>154</td>\n",
       "      <td>32.00</td>\n",
       "      <td>110</td>\n",
       "      <td>60</td>\n",
       "      <td>1</td>\n",
       "      <td>1</td>\n",
       "      <td>0</td>\n",
       "      <td>0</td>\n",
       "      <td>1</td>\n",
       "      <td>0</td>\n",
       "    </tr>\n",
       "    <tr>\n",
       "      <th>38743</th>\n",
       "      <td>58</td>\n",
       "      <td>1</td>\n",
       "      <td>152</td>\n",
       "      <td>38.00</td>\n",
       "      <td>150</td>\n",
       "      <td>1000</td>\n",
       "      <td>1</td>\n",
       "      <td>1</td>\n",
       "      <td>0</td>\n",
       "      <td>0</td>\n",
       "      <td>1</td>\n",
       "      <td>1</td>\n",
       "    </tr>\n",
       "    <tr>\n",
       "      <th>40612</th>\n",
       "      <td>64</td>\n",
       "      <td>1</td>\n",
       "      <td>154</td>\n",
       "      <td>38.00</td>\n",
       "      <td>90</td>\n",
       "      <td>70</td>\n",
       "      <td>1</td>\n",
       "      <td>2</td>\n",
       "      <td>0</td>\n",
       "      <td>0</td>\n",
       "      <td>1</td>\n",
       "      <td>0</td>\n",
       "    </tr>\n",
       "    <tr>\n",
       "      <th>41353</th>\n",
       "      <td>57</td>\n",
       "      <td>1</td>\n",
       "      <td>157</td>\n",
       "      <td>38.00</td>\n",
       "      <td>120</td>\n",
       "      <td>80</td>\n",
       "      <td>1</td>\n",
       "      <td>1</td>\n",
       "      <td>0</td>\n",
       "      <td>0</td>\n",
       "      <td>1</td>\n",
       "      <td>1</td>\n",
       "    </tr>\n",
       "    <tr>\n",
       "      <th>41905</th>\n",
       "      <td>58</td>\n",
       "      <td>1</td>\n",
       "      <td>143</td>\n",
       "      <td>30.00</td>\n",
       "      <td>103</td>\n",
       "      <td>61</td>\n",
       "      <td>2</td>\n",
       "      <td>1</td>\n",
       "      <td>0</td>\n",
       "      <td>0</td>\n",
       "      <td>1</td>\n",
       "      <td>0</td>\n",
       "    </tr>\n",
       "    <tr>\n",
       "      <th>43759</th>\n",
       "      <td>49</td>\n",
       "      <td>1</td>\n",
       "      <td>135</td>\n",
       "      <td>37.00</td>\n",
       "      <td>150</td>\n",
       "      <td>90</td>\n",
       "      <td>2</td>\n",
       "      <td>3</td>\n",
       "      <td>0</td>\n",
       "      <td>0</td>\n",
       "      <td>1</td>\n",
       "      <td>0</td>\n",
       "    </tr>\n",
       "    <tr>\n",
       "      <th>44138</th>\n",
       "      <td>60</td>\n",
       "      <td>1</td>\n",
       "      <td>151</td>\n",
       "      <td>38.00</td>\n",
       "      <td>100</td>\n",
       "      <td>70</td>\n",
       "      <td>1</td>\n",
       "      <td>1</td>\n",
       "      <td>0</td>\n",
       "      <td>0</td>\n",
       "      <td>1</td>\n",
       "      <td>1</td>\n",
       "    </tr>\n",
       "    <tr>\n",
       "      <th>44622</th>\n",
       "      <td>50</td>\n",
       "      <td>1</td>\n",
       "      <td>150</td>\n",
       "      <td>39.00</td>\n",
       "      <td>130</td>\n",
       "      <td>90</td>\n",
       "      <td>1</td>\n",
       "      <td>1</td>\n",
       "      <td>0</td>\n",
       "      <td>0</td>\n",
       "      <td>1</td>\n",
       "      <td>0</td>\n",
       "    </tr>\n",
       "    <tr>\n",
       "      <th>48080</th>\n",
       "      <td>53</td>\n",
       "      <td>1</td>\n",
       "      <td>143</td>\n",
       "      <td>33.00</td>\n",
       "      <td>100</td>\n",
       "      <td>60</td>\n",
       "      <td>1</td>\n",
       "      <td>1</td>\n",
       "      <td>0</td>\n",
       "      <td>0</td>\n",
       "      <td>1</td>\n",
       "      <td>0</td>\n",
       "    </tr>\n",
       "    <tr>\n",
       "      <th>48613</th>\n",
       "      <td>56</td>\n",
       "      <td>1</td>\n",
       "      <td>144</td>\n",
       "      <td>36.00</td>\n",
       "      <td>100</td>\n",
       "      <td>70</td>\n",
       "      <td>1</td>\n",
       "      <td>1</td>\n",
       "      <td>0</td>\n",
       "      <td>0</td>\n",
       "      <td>1</td>\n",
       "      <td>0</td>\n",
       "    </tr>\n",
       "    <tr>\n",
       "      <th>51411</th>\n",
       "      <td>58</td>\n",
       "      <td>1</td>\n",
       "      <td>155</td>\n",
       "      <td>37.00</td>\n",
       "      <td>110</td>\n",
       "      <td>70</td>\n",
       "      <td>1</td>\n",
       "      <td>1</td>\n",
       "      <td>0</td>\n",
       "      <td>0</td>\n",
       "      <td>0</td>\n",
       "      <td>1</td>\n",
       "    </tr>\n",
       "    <tr>\n",
       "      <th>51544</th>\n",
       "      <td>60</td>\n",
       "      <td>1</td>\n",
       "      <td>151</td>\n",
       "      <td>38.00</td>\n",
       "      <td>120</td>\n",
       "      <td>80</td>\n",
       "      <td>1</td>\n",
       "      <td>1</td>\n",
       "      <td>0</td>\n",
       "      <td>1</td>\n",
       "      <td>0</td>\n",
       "      <td>0</td>\n",
       "    </tr>\n",
       "    <tr>\n",
       "      <th>51837</th>\n",
       "      <td>54</td>\n",
       "      <td>2</td>\n",
       "      <td>139</td>\n",
       "      <td>34.00</td>\n",
       "      <td>120</td>\n",
       "      <td>70</td>\n",
       "      <td>1</td>\n",
       "      <td>1</td>\n",
       "      <td>0</td>\n",
       "      <td>0</td>\n",
       "      <td>1</td>\n",
       "      <td>0</td>\n",
       "    </tr>\n",
       "    <tr>\n",
       "      <th>53224</th>\n",
       "      <td>56</td>\n",
       "      <td>1</td>\n",
       "      <td>133</td>\n",
       "      <td>36.00</td>\n",
       "      <td>100</td>\n",
       "      <td>60</td>\n",
       "      <td>1</td>\n",
       "      <td>1</td>\n",
       "      <td>0</td>\n",
       "      <td>0</td>\n",
       "      <td>0</td>\n",
       "      <td>0</td>\n",
       "    </tr>\n",
       "    <tr>\n",
       "      <th>53945</th>\n",
       "      <td>62</td>\n",
       "      <td>1</td>\n",
       "      <td>156</td>\n",
       "      <td>39.00</td>\n",
       "      <td>90</td>\n",
       "      <td>60</td>\n",
       "      <td>1</td>\n",
       "      <td>1</td>\n",
       "      <td>0</td>\n",
       "      <td>0</td>\n",
       "      <td>1</td>\n",
       "      <td>0</td>\n",
       "    </tr>\n",
       "    <tr>\n",
       "      <th>54017</th>\n",
       "      <td>62</td>\n",
       "      <td>1</td>\n",
       "      <td>134</td>\n",
       "      <td>37.00</td>\n",
       "      <td>180</td>\n",
       "      <td>90</td>\n",
       "      <td>1</td>\n",
       "      <td>1</td>\n",
       "      <td>0</td>\n",
       "      <td>0</td>\n",
       "      <td>1</td>\n",
       "      <td>0</td>\n",
       "    </tr>\n",
       "    <tr>\n",
       "      <th>54682</th>\n",
       "      <td>56</td>\n",
       "      <td>1</td>\n",
       "      <td>153</td>\n",
       "      <td>39.00</td>\n",
       "      <td>110</td>\n",
       "      <td>70</td>\n",
       "      <td>1</td>\n",
       "      <td>1</td>\n",
       "      <td>0</td>\n",
       "      <td>0</td>\n",
       "      <td>1</td>\n",
       "      <td>0</td>\n",
       "    </tr>\n",
       "    <tr>\n",
       "      <th>55339</th>\n",
       "      <td>65</td>\n",
       "      <td>1</td>\n",
       "      <td>147</td>\n",
       "      <td>39.00</td>\n",
       "      <td>120</td>\n",
       "      <td>80</td>\n",
       "      <td>1</td>\n",
       "      <td>1</td>\n",
       "      <td>0</td>\n",
       "      <td>0</td>\n",
       "      <td>1</td>\n",
       "      <td>1</td>\n",
       "    </tr>\n",
       "    <tr>\n",
       "      <th>55852</th>\n",
       "      <td>64</td>\n",
       "      <td>1</td>\n",
       "      <td>152</td>\n",
       "      <td>34.00</td>\n",
       "      <td>140</td>\n",
       "      <td>90</td>\n",
       "      <td>1</td>\n",
       "      <td>1</td>\n",
       "      <td>0</td>\n",
       "      <td>0</td>\n",
       "      <td>1</td>\n",
       "      <td>1</td>\n",
       "    </tr>\n",
       "    <tr>\n",
       "      <th>56914</th>\n",
       "      <td>52</td>\n",
       "      <td>1</td>\n",
       "      <td>152</td>\n",
       "      <td>37.00</td>\n",
       "      <td>90</td>\n",
       "      <td>50</td>\n",
       "      <td>1</td>\n",
       "      <td>1</td>\n",
       "      <td>0</td>\n",
       "      <td>0</td>\n",
       "      <td>1</td>\n",
       "      <td>0</td>\n",
       "    </tr>\n",
       "    <tr>\n",
       "      <th>57858</th>\n",
       "      <td>52</td>\n",
       "      <td>2</td>\n",
       "      <td>165</td>\n",
       "      <td>10.00</td>\n",
       "      <td>180</td>\n",
       "      <td>1100</td>\n",
       "      <td>2</td>\n",
       "      <td>2</td>\n",
       "      <td>0</td>\n",
       "      <td>0</td>\n",
       "      <td>1</td>\n",
       "      <td>1</td>\n",
       "    </tr>\n",
       "    <tr>\n",
       "      <th>58200</th>\n",
       "      <td>62</td>\n",
       "      <td>1</td>\n",
       "      <td>169</td>\n",
       "      <td>35.00</td>\n",
       "      <td>140</td>\n",
       "      <td>90</td>\n",
       "      <td>2</td>\n",
       "      <td>1</td>\n",
       "      <td>0</td>\n",
       "      <td>0</td>\n",
       "      <td>1</td>\n",
       "      <td>1</td>\n",
       "    </tr>\n",
       "    <tr>\n",
       "      <th>60188</th>\n",
       "      <td>60</td>\n",
       "      <td>1</td>\n",
       "      <td>162</td>\n",
       "      <td>21.00</td>\n",
       "      <td>120</td>\n",
       "      <td>80</td>\n",
       "      <td>2</td>\n",
       "      <td>1</td>\n",
       "      <td>0</td>\n",
       "      <td>0</td>\n",
       "      <td>1</td>\n",
       "      <td>1</td>\n",
       "    </tr>\n",
       "    <tr>\n",
       "      <th>60699</th>\n",
       "      <td>52</td>\n",
       "      <td>1</td>\n",
       "      <td>171</td>\n",
       "      <td>29.00</td>\n",
       "      <td>110</td>\n",
       "      <td>70</td>\n",
       "      <td>2</td>\n",
       "      <td>1</td>\n",
       "      <td>0</td>\n",
       "      <td>0</td>\n",
       "      <td>1</td>\n",
       "      <td>1</td>\n",
       "    </tr>\n",
       "    <tr>\n",
       "      <th>63113</th>\n",
       "      <td>56</td>\n",
       "      <td>1</td>\n",
       "      <td>158</td>\n",
       "      <td>39.00</td>\n",
       "      <td>90</td>\n",
       "      <td>60</td>\n",
       "      <td>1</td>\n",
       "      <td>1</td>\n",
       "      <td>0</td>\n",
       "      <td>0</td>\n",
       "      <td>0</td>\n",
       "      <td>1</td>\n",
       "    </tr>\n",
       "    <tr>\n",
       "      <th>65082</th>\n",
       "      <td>62</td>\n",
       "      <td>1</td>\n",
       "      <td>145</td>\n",
       "      <td>33.00</td>\n",
       "      <td>130</td>\n",
       "      <td>1000</td>\n",
       "      <td>2</td>\n",
       "      <td>1</td>\n",
       "      <td>0</td>\n",
       "      <td>0</td>\n",
       "      <td>1</td>\n",
       "      <td>1</td>\n",
       "    </tr>\n",
       "    <tr>\n",
       "      <th>65650</th>\n",
       "      <td>52</td>\n",
       "      <td>1</td>\n",
       "      <td>147</td>\n",
       "      <td>38.00</td>\n",
       "      <td>100</td>\n",
       "      <td>70</td>\n",
       "      <td>3</td>\n",
       "      <td>3</td>\n",
       "      <td>0</td>\n",
       "      <td>0</td>\n",
       "      <td>1</td>\n",
       "      <td>0</td>\n",
       "    </tr>\n",
       "  </tbody>\n",
       "</table>\n",
       "</div>"
      ],
      "text/plain": [
       "       age  gender  height  weight  ap_hi  ap_lo  cholesterol  gluc  smoke  \\\n",
       "3752    42       1     120   30.00    110     70            1     1      0   \n",
       "5794    48       1     151   37.00    120     80            1     1      0   \n",
       "10447   60       1     162   38.00    100     70            1     1      0   \n",
       "10627   59       1     153   37.00    150     80            3     3      0   \n",
       "11876   48       1     157   39.00     90     70            1     1      0   \n",
       "14722   62       1     143   34.00    100     70            1     1      0   \n",
       "16322   60       1     165   35.00    100     70            1     1      0   \n",
       "16906   47       2     170   31.00    150     90            2     2      0   \n",
       "18559   50       1     160   30.00    120     80            1     1      0   \n",
       "19582   58       1     152   38.00    110     80            1     1      0   \n",
       "22016   42       1     146   32.00    100     70            1     1      0   \n",
       "25198   51       1     149   35.45    110     70            1     1      0   \n",
       "26806   64       1     157   23.00    110     80            1     1      0   \n",
       "29333   60       1     153   37.00    120     80            1     1      0   \n",
       "29488   56       2     177   22.00    120     80            1     1      1   \n",
       "31420   56       1     140   39.00    120     80            1     1      0   \n",
       "32087   43       1     143   36.00     90     60            1     1      0   \n",
       "33478   42       1     152   39.00    110     70            1     2      1   \n",
       "33511   58       1     153   34.00    110     70            3     3      0   \n",
       "33817   59       2     178   11.00    130     90            1     1      0   \n",
       "33820   62       1     145   36.00    120     80            1     1      0   \n",
       "34276   40       2     128   28.00    120     80            1     1      0   \n",
       "34282   56       1     148   36.00    140     80            1     1      0   \n",
       "34328   40       1     152   39.00     90     60            1     1      0   \n",
       "35314   54       1     146   32.00    130     80            1     2      0   \n",
       "38417   60       1     154   32.00    110     60            1     1      0   \n",
       "38743   58       1     152   38.00    150   1000            1     1      0   \n",
       "40612   64       1     154   38.00     90     70            1     2      0   \n",
       "41353   57       1     157   38.00    120     80            1     1      0   \n",
       "41905   58       1     143   30.00    103     61            2     1      0   \n",
       "43759   49       1     135   37.00    150     90            2     3      0   \n",
       "44138   60       1     151   38.00    100     70            1     1      0   \n",
       "44622   50       1     150   39.00    130     90            1     1      0   \n",
       "48080   53       1     143   33.00    100     60            1     1      0   \n",
       "48613   56       1     144   36.00    100     70            1     1      0   \n",
       "51411   58       1     155   37.00    110     70            1     1      0   \n",
       "51544   60       1     151   38.00    120     80            1     1      0   \n",
       "51837   54       2     139   34.00    120     70            1     1      0   \n",
       "53224   56       1     133   36.00    100     60            1     1      0   \n",
       "53945   62       1     156   39.00     90     60            1     1      0   \n",
       "54017   62       1     134   37.00    180     90            1     1      0   \n",
       "54682   56       1     153   39.00    110     70            1     1      0   \n",
       "55339   65       1     147   39.00    120     80            1     1      0   \n",
       "55852   64       1     152   34.00    140     90            1     1      0   \n",
       "56914   52       1     152   37.00     90     50            1     1      0   \n",
       "57858   52       2     165   10.00    180   1100            2     2      0   \n",
       "58200   62       1     169   35.00    140     90            2     1      0   \n",
       "60188   60       1     162   21.00    120     80            2     1      0   \n",
       "60699   52       1     171   29.00    110     70            2     1      0   \n",
       "63113   56       1     158   39.00     90     60            1     1      0   \n",
       "65082   62       1     145   33.00    130   1000            2     1      0   \n",
       "65650   52       1     147   38.00    100     70            3     3      0   \n",
       "\n",
       "       alco  active  cardio  \n",
       "3752      0       1       0  \n",
       "5794      0       1       0  \n",
       "10447     0       1       0  \n",
       "10627     0       1       1  \n",
       "11876     0       1       0  \n",
       "14722     0       1       0  \n",
       "16322     0       1       0  \n",
       "16906     0       1       1  \n",
       "18559     0       1       1  \n",
       "19582     0       1       0  \n",
       "22016     0       0       0  \n",
       "25198     0       1       0  \n",
       "26806     0       1       0  \n",
       "29333     0       1       1  \n",
       "29488     1       1       0  \n",
       "31420     0       1       0  \n",
       "32087     0       1       0  \n",
       "33478     0       1       1  \n",
       "33511     0       1       1  \n",
       "33817     0       1       1  \n",
       "33820     0       1       0  \n",
       "34276     0       1       0  \n",
       "34282     0       1       1  \n",
       "34328     0       1       0  \n",
       "35314     0       0       0  \n",
       "38417     0       1       0  \n",
       "38743     0       1       1  \n",
       "40612     0       1       0  \n",
       "41353     0       1       1  \n",
       "41905     0       1       0  \n",
       "43759     0       1       0  \n",
       "44138     0       1       1  \n",
       "44622     0       1       0  \n",
       "48080     0       1       0  \n",
       "48613     0       1       0  \n",
       "51411     0       0       1  \n",
       "51544     1       0       0  \n",
       "51837     0       1       0  \n",
       "53224     0       0       0  \n",
       "53945     0       1       0  \n",
       "54017     0       1       0  \n",
       "54682     0       1       0  \n",
       "55339     0       1       1  \n",
       "55852     0       1       1  \n",
       "56914     0       1       0  \n",
       "57858     0       1       1  \n",
       "58200     0       1       1  \n",
       "60188     0       1       1  \n",
       "60699     0       1       1  \n",
       "63113     0       0       1  \n",
       "65082     0       1       1  \n",
       "65650     0       1       0  "
      ]
     },
     "execution_count": 14,
     "metadata": {},
     "output_type": "execute_result"
    }
   ],
   "source": [
    "df[df['weight']<40]"
   ]
  },
  {
   "cell_type": "code",
   "execution_count": 15,
   "id": "6e330018",
   "metadata": {},
   "outputs": [
    {
     "data": {
      "text/plain": [
       "array([   80,    90,    70,   100,    60,    85,    89,   110,    65,\n",
       "          63,    79,  1100,  1000,   800,   120,    50,    30,   109,\n",
       "          84,  1033,   150,    91,    40,    73,    78,    75,    86,\n",
       "          87,  1001,    82,    95,    69,    74,    97,    81,  1200,\n",
       "          83,   119,     0,    93,   105, 10000,    99,    77,    59,\n",
       "        8044,   140,    92,  1044,   108,   125,   115,    68,    61,\n",
       "         106,   102,    94,    66,    52,   170,    76,   160,    62,\n",
       "          96,   130,   113,    67,  9100,    10,    88,   902,     8,\n",
       "         112,   104,    71,    72,  1008,    98,  2088,    20,   802,\n",
       "        8000,  1022,   850,   708,    57,   101,  9011,  1011,    64,\n",
       "        1007,  1177,  7100,    45,   709,  8500,    58,  1110,  8099,\n",
       "        1088,   126,  1077,  1120,     7,   103,  1125,   180,   121,\n",
       "        8100,   710,  5700,  8079,  1111,  1003,     6,  1900,   809,\n",
       "         114,   801,  1002,    53,   111,     1,   118,    56,   182,\n",
       "         810,     9,  7099, 11000,  9800,  8200,  1139,   107,   820,\n",
       "          55,  1400,   190,   900,   122,  6800,   135,   700,    15,\n",
       "        1101,   910,  1140,  1211,   -70,    54,  8077,   901,   880,\n",
       "         870,   585,    49,   602], dtype=int64)"
      ]
     },
     "execution_count": 15,
     "metadata": {},
     "output_type": "execute_result"
    }
   ],
   "source": [
    "df['ap_lo'].unique()"
   ]
  },
  {
   "cell_type": "code",
   "execution_count": 16,
   "id": "f5487c1d",
   "metadata": {},
   "outputs": [],
   "source": [
    "#Deleting ap_lo less than 60 and greater than 150\n",
    "df=df[df['ap_lo']>60]\n",
    "df=df[df['ap_lo']<150]"
   ]
  },
  {
   "cell_type": "code",
   "execution_count": 17,
   "id": "f10aec1c",
   "metadata": {},
   "outputs": [
    {
     "data": {
      "text/plain": [
       "array([  110,   140,   130,   150,   120,   100,   145,   170,   135,\n",
       "         125,   180,   160,   133,   190,    80,   122,   169,   126,\n",
       "         158,    14,   123,    70,   161,   147,   115,   137,   153,\n",
       "          11,   148,    90,   105,   220,   119,   141,   165,   164,\n",
       "          12,   124,   172,   162,   117,   134,   166,   176,   116,\n",
       "          10,   121,    16,   112,   113,   118,   200,   155,   142,\n",
       "         157,   136,   146,   138,   131,  -100,   159,   109,   106,\n",
       "         129,    93,     7,    95,   179,   156,   168,   132,   104,\n",
       "         103,   175,   128,   151,    15,   139, 11500,   127,    17,\n",
       "         108,   144,   102,  1420,   210,    13,   143,   701,   107,\n",
       "          85,   184,   178,   149,   167,   114,   101,  1500,   171,\n",
       "         202,  -115,   111,   907,    20,   188,   185,   163,   154,\n",
       "         177,  -140,   174,  -120, 14020,  1400,   240,   191,   197,\n",
       "        1620,   152,    96,   173,  -150,  1130,   193,    99,   401,\n",
       "       16020,  1202,  1300,   230,   215,  1409, 11020, 13010,  1110,\n",
       "        1205,   195,   187,  2000], dtype=int64)"
      ]
     },
     "execution_count": 17,
     "metadata": {},
     "output_type": "execute_result"
    }
   ],
   "source": [
    "df['ap_hi'].unique()"
   ]
  },
  {
   "cell_type": "code",
   "execution_count": 18,
   "id": "4ae1c4b4",
   "metadata": {},
   "outputs": [],
   "source": [
    "#Deleting ap_hi less than 60 and greater than 150\n",
    "df=df[df['ap_hi']>80]\n",
    "df=df[df['ap_hi']<250]"
   ]
  },
  {
   "cell_type": "code",
   "execution_count": 19,
   "id": "3edcc424",
   "metadata": {},
   "outputs": [],
   "source": [
    "df=df[df['weight']>40]"
   ]
  },
  {
   "cell_type": "markdown",
   "id": "ffafa394",
   "metadata": {},
   "source": [
    "## EDA"
   ]
  },
  {
   "cell_type": "code",
   "execution_count": 20,
   "id": "23d6fee2",
   "metadata": {},
   "outputs": [
    {
     "data": {
      "text/plain": [
       "<Axes: ylabel='count'>"
      ]
     },
     "execution_count": 20,
     "metadata": {},
     "output_type": "execute_result"
    },
    {
     "data": {
      "image/png": "[encoded data removed]",
      "text/plain": [
       "<Figure size 640x480 with 1 Axes>"
      ]
     },
     "metadata": {},
     "output_type": "display_data"
    }
   ],
   "source": [
    "sns.countplot(df['cardio'])"
   ]
  },
  {
   "cell_type": "code",
   "execution_count": null,
   "id": "24006729",
   "metadata": {},
   "outputs": [],
   "source": []
  },
  {
   "cell_type": "code",
   "execution_count": null,
   "id": "ae30a870",
   "metadata": {},
   "outputs": [],
   "source": []
  },
  {
   "cell_type": "code",
   "execution_count": null,
   "id": "4b9b516a",
   "metadata": {},
   "outputs": [],
   "source": []
  },
  {
   "cell_type": "code",
   "execution_count": 21,
   "id": "f00b60ac",
   "metadata": {},
   "outputs": [
    {
     "data": {
      "text/plain": [
       "<seaborn.axisgrid.FacetGrid at 0x21a609a00d0>"
      ]
     },
     "execution_count": 21,
     "metadata": {},
     "output_type": "execute_result"
    },
    {
     "data": {
      "image/png": "[encoded data removed]",
      "text/plain": [
       "<Figure size 1558.88x500 with 3 Axes>"
      ]
     },
     "metadata": {},
     "output_type": "display_data"
    }
   ],
   "source": [
    "sns.catplot(x='gender',y='age',hue='smoke',col='cholesterol',kind='box',data=df)"
   ]
  },
  {
   "cell_type": "code",
   "execution_count": 22,
   "id": "ebb6bf89",
   "metadata": {},
   "outputs": [
    {
     "data": {
      "text/plain": [
       "1    49161\n",
       "2     8894\n",
       "3     7730\n",
       "Name: cholesterol, dtype: int64"
      ]
     },
     "execution_count": 22,
     "metadata": {},
     "output_type": "execute_result"
    }
   ],
   "source": [
    "df['cholesterol'].value_counts()"
   ]
  },
  {
   "cell_type": "code",
   "execution_count": 23,
   "id": "d26fe025",
   "metadata": {},
   "outputs": [
    {
     "data": {
      "text/plain": [
       "<seaborn.axisgrid.FacetGrid at 0x21a60df1f50>"
      ]
     },
     "execution_count": 23,
     "metadata": {},
     "output_type": "execute_result"
    },
    {
     "data": {
      "image/png": "[encoded data removed]",
      "text/plain": [
       "<Figure size 1558.88x500 with 3 Axes>"
      ]
     },
     "metadata": {},
     "output_type": "display_data"
    }
   ],
   "source": [
    "sns.catplot(x='gender',y='age',hue='alco',col='gluc',kind='bar',data=df)"
   ]
  },
  {
   "cell_type": "markdown",
   "id": "a59b2421",
   "metadata": {},
   "source": [
    "## Splitting data into train and test"
   ]
  },
  {
   "cell_type": "code",
   "execution_count": 24,
   "id": "57a3623f",
   "metadata": {},
   "outputs": [],
   "source": [
    "x=df.iloc[:,:-1]\n",
    "y=df['cardio']"
   ]
  },
  {
   "cell_type": "code",
   "execution_count": 25,
   "id": "be2d91c6",
   "metadata": {},
   "outputs": [],
   "source": [
    "from sklearn.model_selection import train_test_split\n",
    "xtrain,xtest,ytrain,ytest=train_test_split(x,y,test_size=0.20,random_state=1)"
   ]
  },
  {
   "cell_type": "code",
   "execution_count": 26,
   "id": "1af1aa96",
   "metadata": {},
   "outputs": [],
   "source": [
    "from sklearn.preprocessing import StandardScaler\n",
    "sc=StandardScaler()\n",
    "xtrain=sc.fit_transform(xtrain)\n",
    "xtest=sc.transform(xtest)"
   ]
  },
  {
   "cell_type": "code",
   "execution_count": 27,
   "id": "6b30ffb9",
   "metadata": {},
   "outputs": [
    {
     "data": {
      "text/html": [
       "<style>#sk-container-id-1 {color: black;}#sk-container-id-1 pre{padding: 0;}#sk-container-id-1 div.sk-toggleable {background-color: white;}#sk-container-id-1 label.sk-toggleable__label {cursor: pointer;display: block;width: 100%;margin-bottom: 0;padding: 0.3em;box-sizing: border-box;text-align: center;}#sk-container-id-1 label.sk-toggleable__label-arrow:before {content: \"▸\";float: left;margin-right: 0.25em;color: #696969;}#sk-container-id-1 label.sk-toggleable__label-arrow:hover:before {color: black;}#sk-container-id-1 div.sk-estimator:hover label.sk-toggleable__label-arrow:before {color: black;}#sk-container-id-1 div.sk-toggleable__content {max-height: 0;max-width: 0;overflow: hidden;text-align: left;background-color: #f0f8ff;}#sk-container-id-1 div.sk-toggleable__content pre {margin: 0.2em;color: black;border-radius: 0.25em;background-color: #f0f8ff;}#sk-container-id-1 input.sk-toggleable__control:checked~div.sk-toggleable__content {max-height: 200px;max-width: 100%;overflow: auto;}#sk-container-id-1 input.sk-toggleable__control:checked~label.sk-toggleable__label-arrow:before {content: \"▾\";}#sk-container-id-1 div.sk-estimator input.sk-toggleable__control:checked~label.sk-toggleable__label {background-color: #d4ebff;}#sk-container-id-1 div.sk-label input.sk-toggleable__control:checked~label.sk-toggleable__label {background-color: #d4ebff;}#sk-container-id-1 input.sk-hidden--visually {border: 0;clip: rect(1px 1px 1px 1px);clip: rect(1px, 1px, 1px, 1px);height: 1px;margin: -1px;overflow: hidden;padding: 0;position: absolute;width: 1px;}#sk-container-id-1 div.sk-estimator {font-family: monospace;background-color: #f0f8ff;border: 1px dotted black;border-radius: 0.25em;box-sizing: border-box;margin-bottom: 0.5em;}#sk-container-id-1 div.sk-estimator:hover {background-color: #d4ebff;}#sk-container-id-1 div.sk-parallel-item::after {content: \"\";width: 100%;border-bottom: 1px solid gray;flex-grow: 1;}#sk-container-id-1 div.sk-label:hover label.sk-toggleable__label {background-color: #d4ebff;}#sk-container-id-1 div.sk-serial::before {content: \"\";position: absolute;border-left: 1px solid gray;box-sizing: border-box;top: 0;bottom: 0;left: 50%;z-index: 0;}#sk-container-id-1 div.sk-serial {display: flex;flex-direction: column;align-items: center;background-color: white;padding-right: 0.2em;padding-left: 0.2em;position: relative;}#sk-container-id-1 div.sk-item {position: relative;z-index: 1;}#sk-container-id-1 div.sk-parallel {display: flex;align-items: stretch;justify-content: center;background-color: white;position: relative;}#sk-container-id-1 div.sk-item::before, #sk-container-id-1 div.sk-parallel-item::before {content: \"\";position: absolute;border-left: 1px solid gray;box-sizing: border-box;top: 0;bottom: 0;left: 50%;z-index: -1;}#sk-container-id-1 div.sk-parallel-item {display: flex;flex-direction: column;z-index: 1;position: relative;background-color: white;}#sk-container-id-1 div.sk-parallel-item:first-child::after {align-self: flex-end;width: 50%;}#sk-container-id-1 div.sk-parallel-item:last-child::after {align-self: flex-start;width: 50%;}#sk-container-id-1 div.sk-parallel-item:only-child::after {width: 0;}#sk-container-id-1 div.sk-dashed-wrapped {border: 1px dashed gray;margin: 0 0.4em 0.5em 0.4em;box-sizing: border-box;padding-bottom: 0.4em;background-color: white;}#sk-container-id-1 div.sk-label label {font-family: monospace;font-weight: bold;display: inline-block;line-height: 1.2em;}#sk-container-id-1 div.sk-label-container {text-align: center;}#sk-container-id-1 div.sk-container {/* jupyter's `normalize.less` sets `[hidden] { display: none; }` but bootstrap.min.css set `[hidden] { display: none !important; }` so we also need the `!important` here to be able to override the default hidden behavior on the sphinx rendered scikit-learn.org. See: https://github.com/scikit-learn/scikit-learn/issues/21755 */display: inline-block !important;position: relative;}#sk-container-id-1 div.sk-text-repr-fallback {display: none;}</style><div id=\"sk-container-id-1\" class=\"sk-top-container\"><div class=\"sk-text-repr-fallback\"><pre>LogisticRegression()</pre><b>In a Jupyter environment, please rerun this cell to show the HTML representation or trust the notebook. <br />On GitHub, the HTML representation is unable to render, please try loading this page with nbviewer.org.</b></div><div class=\"sk-container\" hidden><div class=\"sk-item\"><div class=\"sk-estimator sk-toggleable\"><input class=\"sk-toggleable__control sk-hidden--visually\" id=\"sk-estimator-id-1\" type=\"checkbox\" checked><label for=\"sk-estimator-id-1\" class=\"sk-toggleable__label sk-toggleable__label-arrow\">LogisticRegression</label><div class=\"sk-toggleable__content\"><pre>LogisticRegression()</pre></div></div></div></div></div>"
      ],
      "text/plain": [
       "LogisticRegression()"
      ]
     },
     "execution_count": 27,
     "metadata": {},
     "output_type": "execute_result"
    }
   ],
   "source": [
    "#building a model\n",
    "from sklearn.linear_model import LogisticRegression\n",
    "reg=LogisticRegression()\n",
    "reg.fit(xtrain,ytrain)\n"
   ]
  },
  {
   "cell_type": "code",
   "execution_count": 28,
   "id": "08695209",
   "metadata": {},
   "outputs": [],
   "source": [
    "y_pred_train=reg.predict(xtrain)\n",
    "y_pred_test=reg.predict(xtest)"
   ]
  },
  {
   "cell_type": "markdown",
   "id": "f324c539",
   "metadata": {},
   "source": [
    "### Evaluation of Model"
   ]
  },
  {
   "cell_type": "code",
   "execution_count": 29,
   "id": "933f8aaa",
   "metadata": {},
   "outputs": [],
   "source": [
    "from sklearn.metrics import accuracy_score"
   ]
  },
  {
   "cell_type": "code",
   "execution_count": 30,
   "id": "d02de146",
   "metadata": {},
   "outputs": [
    {
     "name": "stdout",
     "output_type": "stream",
     "text": [
      "Training data\n",
      "0.7261723797218211\n",
      "Testing data\n",
      "0.7203009804666717\n"
     ]
    }
   ],
   "source": [
    "print(\"Training data\")\n",
    "print(accuracy_score(ytrain,y_pred_train))\n",
    "print(\"Testing data\")\n",
    "print(accuracy_score(ytest,y_pred_test))\n"
   ]
  },
  {
   "cell_type": "code",
   "execution_count": 31,
   "id": "62d760f5",
   "metadata": {},
   "outputs": [
    {
     "name": "stdout",
     "output_type": "stream",
     "text": [
      "Training data\n",
      "[[20325  5704]\n",
      " [ 8707 17892]]\n",
      "Testing data\n",
      "[[5011 1481]\n",
      " [2199 4466]]\n"
     ]
    }
   ],
   "source": [
    "from sklearn.metrics import confusion_matrix\n",
    "print(\"Training data\")\n",
    "print(confusion_matrix(ytrain,y_pred_train))\n",
    "print(\"Testing data\")\n",
    "print(confusion_matrix(ytest,y_pred_test))\n"
   ]
  },
  {
   "cell_type": "code",
   "execution_count": 32,
   "id": "7db1afe7",
   "metadata": {},
   "outputs": [],
   "source": [
    "from sklearn.metrics import classification_report,recall_score,precision_score"
   ]
  },
  {
   "cell_type": "code",
   "execution_count": 33,
   "id": "40c352ca",
   "metadata": {},
   "outputs": [
    {
     "name": "stdout",
     "output_type": "stream",
     "text": [
      "Training data\n",
      "              precision    recall  f1-score   support\n",
      "\n",
      "           0       0.70      0.78      0.74     26029\n",
      "           1       0.76      0.67      0.71     26599\n",
      "\n",
      "    accuracy                           0.73     52628\n",
      "   macro avg       0.73      0.73      0.73     52628\n",
      "weighted avg       0.73      0.73      0.73     52628\n",
      "\n",
      "Testing data\n",
      "              precision    recall  f1-score   support\n",
      "\n",
      "           0       0.70      0.77      0.73      6492\n",
      "           1       0.75      0.67      0.71      6665\n",
      "\n",
      "    accuracy                           0.72     13157\n",
      "   macro avg       0.72      0.72      0.72     13157\n",
      "weighted avg       0.72      0.72      0.72     13157\n",
      "\n"
     ]
    }
   ],
   "source": [
    "print(\"Training data\")\n",
    "print(classification_report(ytrain,y_pred_train))\n",
    "print(\"Testing data\")\n",
    "print(classification_report(ytest,y_pred_test))\n"
   ]
  },
  {
   "cell_type": "code",
   "execution_count": 34,
   "id": "02961774",
   "metadata": {},
   "outputs": [
    {
     "name": "stdout",
     "output_type": "stream",
     "text": [
      "0.6726568667995038\n"
     ]
    }
   ],
   "source": [
    "print(recall_score(ytrain,y_pred_train))"
   ]
  },
  {
   "cell_type": "code",
   "execution_count": 35,
   "id": "db081bb8",
   "metadata": {},
   "outputs": [
    {
     "name": "stdout",
     "output_type": "stream",
     "text": [
      "0.7582641125614511\n"
     ]
    }
   ],
   "source": [
    "print(precision_score(ytrain,y_pred_train))"
   ]
  },
  {
   "cell_type": "code",
   "execution_count": 36,
   "id": "9d7e0880",
   "metadata": {},
   "outputs": [],
   "source": [
    "y_train_prob=reg.predict_proba(xtrain)[:,1]"
   ]
  },
  {
   "cell_type": "code",
   "execution_count": 37,
   "id": "7890a3e9",
   "metadata": {},
   "outputs": [
    {
     "data": {
      "text/plain": [
       "array([0.74375227, 0.30577352, 0.07005105, ..., 0.34260155, 0.52917375,\n",
       "       0.69349909])"
      ]
     },
     "execution_count": 37,
     "metadata": {},
     "output_type": "execute_result"
    }
   ],
   "source": [
    "y_train_prob"
   ]
  },
  {
   "cell_type": "code",
   "execution_count": 38,
   "id": "b84d38cf",
   "metadata": {},
   "outputs": [],
   "source": [
    "y_test_prob=reg.predict_proba(xtest)[:,1]"
   ]
  },
  {
   "cell_type": "code",
   "execution_count": 39,
   "id": "09cc52b9",
   "metadata": {},
   "outputs": [
    {
     "data": {
      "text/plain": [
       "array([0.47668036, 0.38503197, 0.33362503, ..., 0.38616164, 0.3816077 ,\n",
       "       0.56969003])"
      ]
     },
     "execution_count": 39,
     "metadata": {},
     "output_type": "execute_result"
    }
   ],
   "source": [
    "y_test_prob"
   ]
  },
  {
   "cell_type": "code",
   "execution_count": 40,
   "id": "e4c39b90",
   "metadata": {},
   "outputs": [],
   "source": [
    "from sklearn.metrics import precision_recall_curve"
   ]
  },
  {
   "cell_type": "code",
   "execution_count": 41,
   "id": "3aaf8fa5",
   "metadata": {},
   "outputs": [],
   "source": [
    "p,r,th=precision_recall_curve(ytrain,y_train_prob)"
   ]
  },
  {
   "cell_type": "code",
   "execution_count": 42,
   "id": "68d671a3",
   "metadata": {},
   "outputs": [
    {
     "data": {
      "text/plain": [
       "<matplotlib.lines.Line2D at 0x21a64412f10>"
      ]
     },
     "execution_count": 42,
     "metadata": {},
     "output_type": "execute_result"
    },
    {
     "data": {
      "image/png": "[encoded data removed]",
      "text/plain": [
       "<Figure size 600x600 with 1 Axes>"
      ]
     },
     "metadata": {},
     "output_type": "display_data"
    }
   ],
   "source": [
    "plt.figure(figsize=(6,6))\n",
    "sns.lineplot(x=th,y=p[:-1],label=\"Precision\")\n",
    "sns.lineplot(x=th,y=r[:-1],label=\"recall\")\n",
    "plt.axvline(0.455)\n"
   ]
  },
  {
   "cell_type": "markdown",
   "id": "fa1bcfb6",
   "metadata": {},
   "source": [
    "#ROC_AUC Curve\n",
    "from sklearn.metrics import roc_curve,auc\n",
    "fpr,tpr,th=roc_curve(ytrain,y_train_prob)\n",
    "sns.lineplot(x=fpr,y=tpr)\n",
    "sns.lineplot(x=[0.0,1.0],y=[0.0,1.0])#,color=\"red\",linestyle=\"--\")\n",
    "plt.xlabel(\"FPR\")\n",
    "plt.ylabel(\"TPR\")"
   ]
  },
  {
   "cell_type": "code",
   "execution_count": null,
   "id": "c743a865",
   "metadata": {},
   "outputs": [],
   "source": []
  }
 ],
 "metadata": {
  "kernelspec": {
   "display_name": "Python 3 (ipykernel)",
   "language": "python",
   "name": "python3"
  },
  "language_info": {
   "codemirror_mode": {
    "name": "ipython",
    "version": 3
   },
   "file_extension": ".py",
   "mimetype": "text/x-python",
   "name": "python",
   "nbconvert_exporter": "python",
   "pygments_lexer": "ipython3",
   "version": "3.11.4"
  }
 },
 "nbformat": 4,
 "nbformat_minor": 5
}
