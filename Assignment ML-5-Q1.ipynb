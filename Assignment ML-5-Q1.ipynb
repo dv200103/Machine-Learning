{
 "cells": [
  {
   "cell_type": "code",
   "execution_count": null,
   "id": "b0597aa9",
   "metadata": {},
   "outputs": [],
   "source": [
    "'''\n",
    "Analyse the heartDisease.csv dataset to explore the machine learning algorithms and build decision tree models to predict the \n",
    "disease.\n",
    "'''"
   ]
  },
  {
   "cell_type": "code",
   "execution_count": 5,
   "id": "303077fc",
   "metadata": {},
   "outputs": [],
   "source": [
    "import numpy as np\n",
    "import pandas as pd\n",
    "from sklearn.model_selection import train_test_split\n",
    "from sklearn.linear_model import LogisticRegression\n",
    "from sklearn.tree import DecisionTreeClassifier\n",
    "from sklearn.metrics import accuracy_score, classification_report\n",
    "import warnings\n",
    "warnings.filterwarnings(\"ignore\")"
   ]
  },
  {
   "cell_type": "code",
   "execution_count": 2,
   "id": "ff2aedc7",
   "metadata": {
    "scrolled": true
   },
   "outputs": [
    {
     "data": {
      "text/html": [
       "<div>\n",
       "<style scoped>\n",
       "    .dataframe tbody tr th:only-of-type {\n",
       "        vertical-align: middle;\n",
       "    }\n",
       "\n",
       "    .dataframe tbody tr th {\n",
       "        vertical-align: top;\n",
       "    }\n",
       "\n",
       "    .dataframe thead th {\n",
       "        text-align: right;\n",
       "    }\n",
       "</style>\n",
       "<table border=\"1\" class=\"dataframe\">\n",
       "  <thead>\n",
       "    <tr style=\"text-align: right;\">\n",
       "      <th></th>\n",
       "      <th>age</th>\n",
       "      <th>gender</th>\n",
       "      <th>chest_pain</th>\n",
       "      <th>rest_bps</th>\n",
       "      <th>cholestrol</th>\n",
       "      <th>fasting_blood_sugar</th>\n",
       "      <th>rest_ecg</th>\n",
       "      <th>thalach</th>\n",
       "      <th>exer_angina</th>\n",
       "      <th>old_peak</th>\n",
       "      <th>slope</th>\n",
       "      <th>ca</th>\n",
       "      <th>thalassemia</th>\n",
       "      <th>target</th>\n",
       "    </tr>\n",
       "  </thead>\n",
       "  <tbody>\n",
       "    <tr>\n",
       "      <th>0</th>\n",
       "      <td>63</td>\n",
       "      <td>1</td>\n",
       "      <td>3</td>\n",
       "      <td>145</td>\n",
       "      <td>233</td>\n",
       "      <td>1</td>\n",
       "      <td>0</td>\n",
       "      <td>150</td>\n",
       "      <td>0</td>\n",
       "      <td>2.3</td>\n",
       "      <td>0</td>\n",
       "      <td>0</td>\n",
       "      <td>1</td>\n",
       "      <td>1</td>\n",
       "    </tr>\n",
       "    <tr>\n",
       "      <th>1</th>\n",
       "      <td>37</td>\n",
       "      <td>1</td>\n",
       "      <td>2</td>\n",
       "      <td>130</td>\n",
       "      <td>250</td>\n",
       "      <td>0</td>\n",
       "      <td>1</td>\n",
       "      <td>187</td>\n",
       "      <td>0</td>\n",
       "      <td>3.5</td>\n",
       "      <td>0</td>\n",
       "      <td>0</td>\n",
       "      <td>2</td>\n",
       "      <td>1</td>\n",
       "    </tr>\n",
       "    <tr>\n",
       "      <th>2</th>\n",
       "      <td>41</td>\n",
       "      <td>0</td>\n",
       "      <td>1</td>\n",
       "      <td>130</td>\n",
       "      <td>204</td>\n",
       "      <td>0</td>\n",
       "      <td>0</td>\n",
       "      <td>172</td>\n",
       "      <td>0</td>\n",
       "      <td>1.4</td>\n",
       "      <td>2</td>\n",
       "      <td>0</td>\n",
       "      <td>2</td>\n",
       "      <td>1</td>\n",
       "    </tr>\n",
       "    <tr>\n",
       "      <th>3</th>\n",
       "      <td>56</td>\n",
       "      <td>1</td>\n",
       "      <td>1</td>\n",
       "      <td>120</td>\n",
       "      <td>236</td>\n",
       "      <td>0</td>\n",
       "      <td>1</td>\n",
       "      <td>178</td>\n",
       "      <td>0</td>\n",
       "      <td>0.8</td>\n",
       "      <td>2</td>\n",
       "      <td>0</td>\n",
       "      <td>2</td>\n",
       "      <td>1</td>\n",
       "    </tr>\n",
       "    <tr>\n",
       "      <th>4</th>\n",
       "      <td>57</td>\n",
       "      <td>0</td>\n",
       "      <td>0</td>\n",
       "      <td>120</td>\n",
       "      <td>354</td>\n",
       "      <td>0</td>\n",
       "      <td>1</td>\n",
       "      <td>163</td>\n",
       "      <td>1</td>\n",
       "      <td>0.6</td>\n",
       "      <td>2</td>\n",
       "      <td>0</td>\n",
       "      <td>2</td>\n",
       "      <td>1</td>\n",
       "    </tr>\n",
       "    <tr>\n",
       "      <th>...</th>\n",
       "      <td>...</td>\n",
       "      <td>...</td>\n",
       "      <td>...</td>\n",
       "      <td>...</td>\n",
       "      <td>...</td>\n",
       "      <td>...</td>\n",
       "      <td>...</td>\n",
       "      <td>...</td>\n",
       "      <td>...</td>\n",
       "      <td>...</td>\n",
       "      <td>...</td>\n",
       "      <td>...</td>\n",
       "      <td>...</td>\n",
       "      <td>...</td>\n",
       "    </tr>\n",
       "    <tr>\n",
       "      <th>298</th>\n",
       "      <td>57</td>\n",
       "      <td>0</td>\n",
       "      <td>0</td>\n",
       "      <td>140</td>\n",
       "      <td>241</td>\n",
       "      <td>0</td>\n",
       "      <td>1</td>\n",
       "      <td>123</td>\n",
       "      <td>1</td>\n",
       "      <td>0.2</td>\n",
       "      <td>1</td>\n",
       "      <td>0</td>\n",
       "      <td>3</td>\n",
       "      <td>0</td>\n",
       "    </tr>\n",
       "    <tr>\n",
       "      <th>299</th>\n",
       "      <td>45</td>\n",
       "      <td>1</td>\n",
       "      <td>3</td>\n",
       "      <td>110</td>\n",
       "      <td>264</td>\n",
       "      <td>0</td>\n",
       "      <td>1</td>\n",
       "      <td>132</td>\n",
       "      <td>0</td>\n",
       "      <td>1.2</td>\n",
       "      <td>1</td>\n",
       "      <td>0</td>\n",
       "      <td>3</td>\n",
       "      <td>0</td>\n",
       "    </tr>\n",
       "    <tr>\n",
       "      <th>300</th>\n",
       "      <td>68</td>\n",
       "      <td>1</td>\n",
       "      <td>0</td>\n",
       "      <td>144</td>\n",
       "      <td>193</td>\n",
       "      <td>1</td>\n",
       "      <td>1</td>\n",
       "      <td>141</td>\n",
       "      <td>0</td>\n",
       "      <td>3.4</td>\n",
       "      <td>1</td>\n",
       "      <td>2</td>\n",
       "      <td>3</td>\n",
       "      <td>0</td>\n",
       "    </tr>\n",
       "    <tr>\n",
       "      <th>301</th>\n",
       "      <td>57</td>\n",
       "      <td>1</td>\n",
       "      <td>0</td>\n",
       "      <td>130</td>\n",
       "      <td>131</td>\n",
       "      <td>0</td>\n",
       "      <td>1</td>\n",
       "      <td>115</td>\n",
       "      <td>1</td>\n",
       "      <td>1.2</td>\n",
       "      <td>1</td>\n",
       "      <td>1</td>\n",
       "      <td>3</td>\n",
       "      <td>0</td>\n",
       "    </tr>\n",
       "    <tr>\n",
       "      <th>302</th>\n",
       "      <td>57</td>\n",
       "      <td>0</td>\n",
       "      <td>1</td>\n",
       "      <td>130</td>\n",
       "      <td>236</td>\n",
       "      <td>0</td>\n",
       "      <td>0</td>\n",
       "      <td>174</td>\n",
       "      <td>0</td>\n",
       "      <td>0.0</td>\n",
       "      <td>1</td>\n",
       "      <td>1</td>\n",
       "      <td>2</td>\n",
       "      <td>0</td>\n",
       "    </tr>\n",
       "  </tbody>\n",
       "</table>\n",
       "<p>303 rows × 14 columns</p>\n",
       "</div>"
      ],
      "text/plain": [
       "     age  gender  chest_pain  rest_bps  cholestrol  fasting_blood_sugar  \\\n",
       "0     63       1           3       145         233                    1   \n",
       "1     37       1           2       130         250                    0   \n",
       "2     41       0           1       130         204                    0   \n",
       "3     56       1           1       120         236                    0   \n",
       "4     57       0           0       120         354                    0   \n",
       "..   ...     ...         ...       ...         ...                  ...   \n",
       "298   57       0           0       140         241                    0   \n",
       "299   45       1           3       110         264                    0   \n",
       "300   68       1           0       144         193                    1   \n",
       "301   57       1           0       130         131                    0   \n",
       "302   57       0           1       130         236                    0   \n",
       "\n",
       "     rest_ecg  thalach  exer_angina  old_peak  slope  ca  thalassemia  target  \n",
       "0           0      150            0       2.3      0   0            1       1  \n",
       "1           1      187            0       3.5      0   0            2       1  \n",
       "2           0      172            0       1.4      2   0            2       1  \n",
       "3           1      178            0       0.8      2   0            2       1  \n",
       "4           1      163            1       0.6      2   0            2       1  \n",
       "..        ...      ...          ...       ...    ...  ..          ...     ...  \n",
       "298         1      123            1       0.2      1   0            3       0  \n",
       "299         1      132            0       1.2      1   0            3       0  \n",
       "300         1      141            0       3.4      1   2            3       0  \n",
       "301         1      115            1       1.2      1   1            3       0  \n",
       "302         0      174            0       0.0      1   1            2       0  \n",
       "\n",
       "[303 rows x 14 columns]"
      ]
     },
     "execution_count": 2,
     "metadata": {},
     "output_type": "execute_result"
    }
   ],
   "source": [
    "df = pd.read_csv(\"HeartDisease.csv\")\n",
    "df"
   ]
  },
  {
   "cell_type": "code",
   "execution_count": 3,
   "id": "aa95bd45",
   "metadata": {
    "scrolled": true
   },
   "outputs": [
    {
     "name": "stdout",
     "output_type": "stream",
     "text": [
      "<class 'pandas.core.frame.DataFrame'>\n",
      "RangeIndex: 303 entries, 0 to 302\n",
      "Data columns (total 14 columns):\n",
      " #   Column               Non-Null Count  Dtype  \n",
      "---  ------               --------------  -----  \n",
      " 0   age                  303 non-null    int64  \n",
      " 1   gender               303 non-null    int64  \n",
      " 2   chest_pain           303 non-null    int64  \n",
      " 3   rest_bps             303 non-null    int64  \n",
      " 4   cholestrol           303 non-null    int64  \n",
      " 5   fasting_blood_sugar  303 non-null    int64  \n",
      " 6   rest_ecg             303 non-null    int64  \n",
      " 7   thalach              303 non-null    int64  \n",
      " 8   exer_angina          303 non-null    int64  \n",
      " 9   old_peak             303 non-null    float64\n",
      " 10  slope                303 non-null    int64  \n",
      " 11  ca                   303 non-null    int64  \n",
      " 12  thalassemia          303 non-null    int64  \n",
      " 13  target               303 non-null    int64  \n",
      "dtypes: float64(1), int64(13)\n",
      "memory usage: 33.3 KB\n"
     ]
    }
   ],
   "source": [
    "df.info()"
   ]
  },
  {
   "cell_type": "code",
   "execution_count": 4,
   "id": "8f93013f",
   "metadata": {
    "scrolled": true
   },
   "outputs": [
    {
     "data": {
      "text/plain": [
       "1    165\n",
       "0    138\n",
       "Name: target, dtype: int64"
      ]
     },
     "execution_count": 4,
     "metadata": {},
     "output_type": "execute_result"
    }
   ],
   "source": [
    "df[\"target\"].value_counts()"
   ]
  },
  {
   "cell_type": "code",
   "execution_count": 6,
   "id": "dac06d61",
   "metadata": {},
   "outputs": [
    {
     "data": {
      "text/html": [
       "<div>\n",
       "<style scoped>\n",
       "    .dataframe tbody tr th:only-of-type {\n",
       "        vertical-align: middle;\n",
       "    }\n",
       "\n",
       "    .dataframe tbody tr th {\n",
       "        vertical-align: top;\n",
       "    }\n",
       "\n",
       "    .dataframe thead th {\n",
       "        text-align: right;\n",
       "    }\n",
       "</style>\n",
       "<table border=\"1\" class=\"dataframe\">\n",
       "  <thead>\n",
       "    <tr style=\"text-align: right;\">\n",
       "      <th></th>\n",
       "      <th>age</th>\n",
       "      <th>gender</th>\n",
       "      <th>chest_pain</th>\n",
       "      <th>rest_bps</th>\n",
       "      <th>cholestrol</th>\n",
       "      <th>fasting_blood_sugar</th>\n",
       "      <th>rest_ecg</th>\n",
       "      <th>thalach</th>\n",
       "      <th>exer_angina</th>\n",
       "      <th>old_peak</th>\n",
       "      <th>slope</th>\n",
       "      <th>ca</th>\n",
       "      <th>thalassemia</th>\n",
       "    </tr>\n",
       "  </thead>\n",
       "  <tbody>\n",
       "    <tr>\n",
       "      <th>0</th>\n",
       "      <td>63</td>\n",
       "      <td>1</td>\n",
       "      <td>3</td>\n",
       "      <td>145</td>\n",
       "      <td>233</td>\n",
       "      <td>1</td>\n",
       "      <td>0</td>\n",
       "      <td>150</td>\n",
       "      <td>0</td>\n",
       "      <td>2.3</td>\n",
       "      <td>0</td>\n",
       "      <td>0</td>\n",
       "      <td>1</td>\n",
       "    </tr>\n",
       "    <tr>\n",
       "      <th>1</th>\n",
       "      <td>37</td>\n",
       "      <td>1</td>\n",
       "      <td>2</td>\n",
       "      <td>130</td>\n",
       "      <td>250</td>\n",
       "      <td>0</td>\n",
       "      <td>1</td>\n",
       "      <td>187</td>\n",
       "      <td>0</td>\n",
       "      <td>3.5</td>\n",
       "      <td>0</td>\n",
       "      <td>0</td>\n",
       "      <td>2</td>\n",
       "    </tr>\n",
       "    <tr>\n",
       "      <th>2</th>\n",
       "      <td>41</td>\n",
       "      <td>0</td>\n",
       "      <td>1</td>\n",
       "      <td>130</td>\n",
       "      <td>204</td>\n",
       "      <td>0</td>\n",
       "      <td>0</td>\n",
       "      <td>172</td>\n",
       "      <td>0</td>\n",
       "      <td>1.4</td>\n",
       "      <td>2</td>\n",
       "      <td>0</td>\n",
       "      <td>2</td>\n",
       "    </tr>\n",
       "    <tr>\n",
       "      <th>3</th>\n",
       "      <td>56</td>\n",
       "      <td>1</td>\n",
       "      <td>1</td>\n",
       "      <td>120</td>\n",
       "      <td>236</td>\n",
       "      <td>0</td>\n",
       "      <td>1</td>\n",
       "      <td>178</td>\n",
       "      <td>0</td>\n",
       "      <td>0.8</td>\n",
       "      <td>2</td>\n",
       "      <td>0</td>\n",
       "      <td>2</td>\n",
       "    </tr>\n",
       "    <tr>\n",
       "      <th>4</th>\n",
       "      <td>57</td>\n",
       "      <td>0</td>\n",
       "      <td>0</td>\n",
       "      <td>120</td>\n",
       "      <td>354</td>\n",
       "      <td>0</td>\n",
       "      <td>1</td>\n",
       "      <td>163</td>\n",
       "      <td>1</td>\n",
       "      <td>0.6</td>\n",
       "      <td>2</td>\n",
       "      <td>0</td>\n",
       "      <td>2</td>\n",
       "    </tr>\n",
       "    <tr>\n",
       "      <th>...</th>\n",
       "      <td>...</td>\n",
       "      <td>...</td>\n",
       "      <td>...</td>\n",
       "      <td>...</td>\n",
       "      <td>...</td>\n",
       "      <td>...</td>\n",
       "      <td>...</td>\n",
       "      <td>...</td>\n",
       "      <td>...</td>\n",
       "      <td>...</td>\n",
       "      <td>...</td>\n",
       "      <td>...</td>\n",
       "      <td>...</td>\n",
       "    </tr>\n",
       "    <tr>\n",
       "      <th>298</th>\n",
       "      <td>57</td>\n",
       "      <td>0</td>\n",
       "      <td>0</td>\n",
       "      <td>140</td>\n",
       "      <td>241</td>\n",
       "      <td>0</td>\n",
       "      <td>1</td>\n",
       "      <td>123</td>\n",
       "      <td>1</td>\n",
       "      <td>0.2</td>\n",
       "      <td>1</td>\n",
       "      <td>0</td>\n",
       "      <td>3</td>\n",
       "    </tr>\n",
       "    <tr>\n",
       "      <th>299</th>\n",
       "      <td>45</td>\n",
       "      <td>1</td>\n",
       "      <td>3</td>\n",
       "      <td>110</td>\n",
       "      <td>264</td>\n",
       "      <td>0</td>\n",
       "      <td>1</td>\n",
       "      <td>132</td>\n",
       "      <td>0</td>\n",
       "      <td>1.2</td>\n",
       "      <td>1</td>\n",
       "      <td>0</td>\n",
       "      <td>3</td>\n",
       "    </tr>\n",
       "    <tr>\n",
       "      <th>300</th>\n",
       "      <td>68</td>\n",
       "      <td>1</td>\n",
       "      <td>0</td>\n",
       "      <td>144</td>\n",
       "      <td>193</td>\n",
       "      <td>1</td>\n",
       "      <td>1</td>\n",
       "      <td>141</td>\n",
       "      <td>0</td>\n",
       "      <td>3.4</td>\n",
       "      <td>1</td>\n",
       "      <td>2</td>\n",
       "      <td>3</td>\n",
       "    </tr>\n",
       "    <tr>\n",
       "      <th>301</th>\n",
       "      <td>57</td>\n",
       "      <td>1</td>\n",
       "      <td>0</td>\n",
       "      <td>130</td>\n",
       "      <td>131</td>\n",
       "      <td>0</td>\n",
       "      <td>1</td>\n",
       "      <td>115</td>\n",
       "      <td>1</td>\n",
       "      <td>1.2</td>\n",
       "      <td>1</td>\n",
       "      <td>1</td>\n",
       "      <td>3</td>\n",
       "    </tr>\n",
       "    <tr>\n",
       "      <th>302</th>\n",
       "      <td>57</td>\n",
       "      <td>0</td>\n",
       "      <td>1</td>\n",
       "      <td>130</td>\n",
       "      <td>236</td>\n",
       "      <td>0</td>\n",
       "      <td>0</td>\n",
       "      <td>174</td>\n",
       "      <td>0</td>\n",
       "      <td>0.0</td>\n",
       "      <td>1</td>\n",
       "      <td>1</td>\n",
       "      <td>2</td>\n",
       "    </tr>\n",
       "  </tbody>\n",
       "</table>\n",
       "<p>303 rows × 13 columns</p>\n",
       "</div>"
      ],
      "text/plain": [
       "     age  gender  chest_pain  rest_bps  cholestrol  fasting_blood_sugar  \\\n",
       "0     63       1           3       145         233                    1   \n",
       "1     37       1           2       130         250                    0   \n",
       "2     41       0           1       130         204                    0   \n",
       "3     56       1           1       120         236                    0   \n",
       "4     57       0           0       120         354                    0   \n",
       "..   ...     ...         ...       ...         ...                  ...   \n",
       "298   57       0           0       140         241                    0   \n",
       "299   45       1           3       110         264                    0   \n",
       "300   68       1           0       144         193                    1   \n",
       "301   57       1           0       130         131                    0   \n",
       "302   57       0           1       130         236                    0   \n",
       "\n",
       "     rest_ecg  thalach  exer_angina  old_peak  slope  ca  thalassemia  \n",
       "0           0      150            0       2.3      0   0            1  \n",
       "1           1      187            0       3.5      0   0            2  \n",
       "2           0      172            0       1.4      2   0            2  \n",
       "3           1      178            0       0.8      2   0            2  \n",
       "4           1      163            1       0.6      2   0            2  \n",
       "..        ...      ...          ...       ...    ...  ..          ...  \n",
       "298         1      123            1       0.2      1   0            3  \n",
       "299         1      132            0       1.2      1   0            3  \n",
       "300         1      141            0       3.4      1   2            3  \n",
       "301         1      115            1       1.2      1   1            3  \n",
       "302         0      174            0       0.0      1   1            2  \n",
       "\n",
       "[303 rows x 13 columns]"
      ]
     },
     "execution_count": 6,
     "metadata": {},
     "output_type": "execute_result"
    }
   ],
   "source": [
    "x = df.iloc[:,:-1]\n",
    "x"
   ]
  },
  {
   "cell_type": "code",
   "execution_count": 7,
   "id": "4890a8a6",
   "metadata": {
    "scrolled": true
   },
   "outputs": [
    {
     "data": {
      "text/plain": [
       "0      1\n",
       "1      1\n",
       "2      1\n",
       "3      1\n",
       "4      1\n",
       "      ..\n",
       "298    0\n",
       "299    0\n",
       "300    0\n",
       "301    0\n",
       "302    0\n",
       "Name: target, Length: 303, dtype: int64"
      ]
     },
     "execution_count": 7,
     "metadata": {},
     "output_type": "execute_result"
    }
   ],
   "source": [
    "y = df.iloc[:,-1]\n",
    "y"
   ]
  },
  {
   "cell_type": "code",
   "execution_count": 8,
   "id": "9d15e361",
   "metadata": {},
   "outputs": [],
   "source": [
    "xtrain, xtest, ytrain, ytest = train_test_split(x,y, test_size = 0.3, random_state = 42)"
   ]
  },
  {
   "cell_type": "code",
   "execution_count": 9,
   "id": "cec9c173",
   "metadata": {},
   "outputs": [],
   "source": [
    "def mymodel(model):\n",
    "    model.fit(xtrain, ytrain)\n",
    "    ypred = model.predict(xtest)\n",
    "    acc = accuracy_score(ytest, ypred)\n",
    "    cr = classification_report(ytest, ypred)\n",
    "    print(f\"Accuracy is {acc} \\n\\n Classfication Report \\n {cr}\")"
   ]
  },
  {
   "cell_type": "code",
   "execution_count": 10,
   "id": "e3dfb169",
   "metadata": {
    "scrolled": true
   },
   "outputs": [
    {
     "name": "stdout",
     "output_type": "stream",
     "text": [
      "Accuracy is 0.8131868131868132 \n",
      "\n",
      " Classfication Report \n",
      "               precision    recall  f1-score   support\n",
      "\n",
      "           0       0.80      0.78      0.79        41\n",
      "           1       0.82      0.84      0.83        50\n",
      "\n",
      "    accuracy                           0.81        91\n",
      "   macro avg       0.81      0.81      0.81        91\n",
      "weighted avg       0.81      0.81      0.81        91\n",
      "\n"
     ]
    }
   ],
   "source": [
    "lr = LogisticRegression()\n",
    "mymodel(lr)"
   ]
  },
  {
   "cell_type": "code",
   "execution_count": 11,
   "id": "febc9fe3",
   "metadata": {},
   "outputs": [
    {
     "name": "stdout",
     "output_type": "stream",
     "text": [
      "Accuracy is 0.7362637362637363 \n",
      "\n",
      " Classfication Report \n",
      "               precision    recall  f1-score   support\n",
      "\n",
      "           0       0.68      0.78      0.73        41\n",
      "           1       0.80      0.70      0.74        50\n",
      "\n",
      "    accuracy                           0.74        91\n",
      "   macro avg       0.74      0.74      0.74        91\n",
      "weighted avg       0.74      0.74      0.74        91\n",
      "\n"
     ]
    }
   ],
   "source": [
    "dt = DecisionTreeClassifier()\n",
    "mymodel(dt)"
   ]
  },
  {
   "cell_type": "code",
   "execution_count": 13,
   "id": "b16bd11c",
   "metadata": {},
   "outputs": [
    {
     "data": {
      "text/plain": [
       "1.0"
      ]
     },
     "execution_count": 13,
     "metadata": {},
     "output_type": "execute_result"
    }
   ],
   "source": [
    "dt.score(xtrain, ytrain)"
   ]
  },
  {
   "cell_type": "code",
   "execution_count": 14,
   "id": "8ddc2550",
   "metadata": {},
   "outputs": [
    {
     "data": {
      "text/plain": [
       "0.7362637362637363"
      ]
     },
     "execution_count": 14,
     "metadata": {},
     "output_type": "execute_result"
    }
   ],
   "source": [
    "dt.score(xtest, ytest)"
   ]
  },
  {
   "cell_type": "code",
   "execution_count": 16,
   "id": "3e4bfe15",
   "metadata": {},
   "outputs": [
    {
     "name": "stdout",
     "output_type": "stream",
     "text": [
      "The accuracy for max_depth = 1 is 0.6923076923076923\n",
      "The accuracy for max_depth = 2 is 0.6923076923076923\n",
      "The accuracy for max_depth = 3 is 0.7692307692307693\n",
      "The accuracy for max_depth = 4 is 0.7362637362637363\n",
      "The accuracy for max_depth = 5 is 0.7582417582417582\n",
      "The accuracy for max_depth = 6 is 0.7582417582417582\n",
      "The accuracy for max_depth = 7 is 0.7252747252747253\n",
      "The accuracy for max_depth = 8 is 0.7362637362637363\n",
      "The accuracy for max_depth = 9 is 0.7252747252747253\n",
      "The accuracy for max_depth = 10 is 0.7142857142857143\n",
      "The accuracy for max_depth = 11 is 0.7252747252747253\n",
      "The accuracy for max_depth = 12 is 0.7252747252747253\n",
      "The accuracy for max_depth = 13 is 0.7472527472527473\n",
      "The accuracy for max_depth = 14 is 0.7142857142857143\n",
      "The accuracy for max_depth = 15 is 0.7362637362637363\n",
      "The accuracy for max_depth = 16 is 0.7582417582417582\n",
      "The accuracy for max_depth = 17 is 0.7362637362637363\n",
      "The accuracy for max_depth = 18 is 0.7472527472527473\n",
      "The accuracy for max_depth = 19 is 0.7142857142857143\n"
     ]
    }
   ],
   "source": [
    "acc_list = []\n",
    "depth_list = []\n",
    "for i in range(1,20):\n",
    "    dt1 = DecisionTreeClassifier(max_depth = i)\n",
    "    dt1.fit(xtrain, ytrain)\n",
    "    ypred = dt1.predict(xtest)\n",
    "    acc = accuracy_score(ytest, ypred)\n",
    "    \n",
    "    acc_list.append(acc)\n",
    "    depth_list.append(i)\n",
    "    \n",
    "    print(f\"The accuracy for max_depth = {i} is {acc}\")"
   ]
  },
  {
   "cell_type": "code",
   "execution_count": 19,
   "id": "b3c9e0f5",
   "metadata": {},
   "outputs": [
    {
     "name": "stdout",
     "output_type": "stream",
     "text": [
      "We observed that, Highest accuracy for our model is we get when max_depth is 3\n"
     ]
    }
   ],
   "source": [
    "max_acc = acc_list[0]\n",
    "for i in range(1,len(acc_list)):\n",
    "    if acc_list[i] > max_acc:\n",
    "        max_acc = acc_list[i]\n",
    "\n",
    "max_index = acc_list.index(max_acc)\n",
    "print(f\"We observed that, Highest accuracy for our model is we get when max_depth is {max_index + 1}\")"
   ]
  },
  {
   "cell_type": "code",
   "execution_count": 24,
   "id": "815997a2",
   "metadata": {
    "scrolled": true
   },
   "outputs": [
    {
     "name": "stdout",
     "output_type": "stream",
     "text": [
      "Accuracy is 0.7692307692307693 \n",
      "\n",
      " Classfication Report \n",
      "               precision    recall  f1-score   support\n",
      "\n",
      "           0       0.73      0.78      0.75        41\n",
      "           1       0.81      0.76      0.78        50\n",
      "\n",
      "    accuracy                           0.77        91\n",
      "   macro avg       0.77      0.77      0.77        91\n",
      "weighted avg       0.77      0.77      0.77        91\n",
      "\n"
     ]
    }
   ],
   "source": [
    "dt2 = DecisionTreeClassifier(max_depth = 3)\n",
    "mymodel(dt2)"
   ]
  },
  {
   "cell_type": "code",
   "execution_count": 25,
   "id": "de6eea64",
   "metadata": {
    "scrolled": true
   },
   "outputs": [
    {
     "data": {
      "text/plain": [
       "0.8679245283018868"
      ]
     },
     "execution_count": 25,
     "metadata": {},
     "output_type": "execute_result"
    }
   ],
   "source": [
    "dt2.score(xtrain, ytrain)"
   ]
  },
  {
   "cell_type": "code",
   "execution_count": 33,
   "id": "dda54bb4",
   "metadata": {
    "scrolled": true
   },
   "outputs": [
    {
     "name": "stdout",
     "output_type": "stream",
     "text": [
      "The accuracy for min_samples_split = 2 is 0.7252747252747253\n",
      "The accuracy for min_samples_split = 3 is 0.7142857142857143\n",
      "The accuracy for min_samples_split = 4 is 0.7362637362637363\n",
      "The accuracy for min_samples_split = 5 is 0.7252747252747253\n",
      "The accuracy for min_samples_split = 6 is 0.7582417582417582\n",
      "The accuracy for min_samples_split = 7 is 0.7472527472527473\n",
      "The accuracy for min_samples_split = 8 is 0.7472527472527473\n",
      "The accuracy for min_samples_split = 9 is 0.7252747252747253\n",
      "The accuracy for min_samples_split = 10 is 0.7142857142857143\n",
      "The accuracy for min_samples_split = 11 is 0.7142857142857143\n",
      "The accuracy for min_samples_split = 12 is 0.7142857142857143\n",
      "The accuracy for min_samples_split = 13 is 0.7142857142857143\n",
      "The accuracy for min_samples_split = 14 is 0.7142857142857143\n",
      "The accuracy for min_samples_split = 15 is 0.7142857142857143\n",
      "The accuracy for min_samples_split = 16 is 0.7142857142857143\n",
      "The accuracy for min_samples_split = 17 is 0.7142857142857143\n",
      "The accuracy for min_samples_split = 18 is 0.7142857142857143\n",
      "The accuracy for min_samples_split = 19 is 0.7142857142857143\n",
      "The accuracy for min_samples_split = 20 is 0.7692307692307693\n",
      "The accuracy for min_samples_split = 21 is 0.7692307692307693\n",
      "The accuracy for min_samples_split = 22 is 0.7692307692307693\n",
      "The accuracy for min_samples_split = 23 is 0.7692307692307693\n",
      "The accuracy for min_samples_split = 24 is 0.7692307692307693\n",
      "The accuracy for min_samples_split = 25 is 0.7692307692307693\n",
      "The accuracy for min_samples_split = 26 is 0.7692307692307693\n",
      "The accuracy for min_samples_split = 27 is 0.7692307692307693\n",
      "The accuracy for min_samples_split = 28 is 0.7692307692307693\n",
      "The accuracy for min_samples_split = 29 is 0.7692307692307693\n",
      "The accuracy for min_samples_split = 30 is 0.7692307692307693\n",
      "The accuracy for min_samples_split = 31 is 0.7692307692307693\n",
      "The accuracy for min_samples_split = 32 is 0.7692307692307693\n",
      "The accuracy for min_samples_split = 33 is 0.7692307692307693\n",
      "The accuracy for min_samples_split = 34 is 0.7692307692307693\n",
      "The accuracy for min_samples_split = 35 is 0.6703296703296703\n",
      "The accuracy for min_samples_split = 36 is 0.6703296703296703\n",
      "The accuracy for min_samples_split = 37 is 0.6703296703296703\n",
      "The accuracy for min_samples_split = 38 is 0.6703296703296703\n",
      "The accuracy for min_samples_split = 39 is 0.6703296703296703\n",
      "The accuracy for min_samples_split = 40 is 0.6593406593406593\n",
      "The accuracy for min_samples_split = 41 is 0.6593406593406593\n",
      "The accuracy for min_samples_split = 42 is 0.6593406593406593\n",
      "The accuracy for min_samples_split = 43 is 0.6593406593406593\n",
      "The accuracy for min_samples_split = 44 is 0.6593406593406593\n",
      "The accuracy for min_samples_split = 45 is 0.6593406593406593\n",
      "The accuracy for min_samples_split = 46 is 0.6593406593406593\n",
      "The accuracy for min_samples_split = 47 is 0.6593406593406593\n",
      "The accuracy for min_samples_split = 48 is 0.6593406593406593\n",
      "The accuracy for min_samples_split = 49 is 0.6593406593406593\n",
      "The accuracy for min_samples_split = 50 is 0.6593406593406593\n",
      "The accuracy for min_samples_split = 51 is 0.6593406593406593\n",
      "The accuracy for min_samples_split = 52 is 0.6593406593406593\n",
      "The accuracy for min_samples_split = 53 is 0.6593406593406593\n",
      "The accuracy for min_samples_split = 54 is 0.6593406593406593\n",
      "The accuracy for min_samples_split = 55 is 0.6593406593406593\n",
      "The accuracy for min_samples_split = 56 is 0.6593406593406593\n",
      "The accuracy for min_samples_split = 57 is 0.6593406593406593\n",
      "The accuracy for min_samples_split = 58 is 0.6593406593406593\n",
      "The accuracy for min_samples_split = 59 is 0.6593406593406593\n",
      "The accuracy for min_samples_split = 60 is 0.6593406593406593\n",
      "The accuracy for min_samples_split = 61 is 0.6593406593406593\n",
      "The accuracy for min_samples_split = 62 is 0.6593406593406593\n",
      "The accuracy for min_samples_split = 63 is 0.6593406593406593\n",
      "The accuracy for min_samples_split = 64 is 0.6593406593406593\n",
      "The accuracy for min_samples_split = 65 is 0.6593406593406593\n",
      "The accuracy for min_samples_split = 66 is 0.6593406593406593\n",
      "The accuracy for min_samples_split = 67 is 0.6593406593406593\n",
      "The accuracy for min_samples_split = 68 is 0.6593406593406593\n",
      "The accuracy for min_samples_split = 69 is 0.6593406593406593\n",
      "The accuracy for min_samples_split = 70 is 0.6593406593406593\n",
      "The accuracy for min_samples_split = 71 is 0.6593406593406593\n",
      "The accuracy for min_samples_split = 72 is 0.6593406593406593\n",
      "The accuracy for min_samples_split = 73 is 0.6593406593406593\n",
      "The accuracy for min_samples_split = 74 is 0.6593406593406593\n",
      "The accuracy for min_samples_split = 75 is 0.6593406593406593\n",
      "The accuracy for min_samples_split = 76 is 0.6593406593406593\n",
      "The accuracy for min_samples_split = 77 is 0.6593406593406593\n",
      "The accuracy for min_samples_split = 78 is 0.6593406593406593\n",
      "The accuracy for min_samples_split = 79 is 0.6593406593406593\n",
      "The accuracy for min_samples_split = 80 is 0.6593406593406593\n",
      "The accuracy for min_samples_split = 81 is 0.6593406593406593\n",
      "The accuracy for min_samples_split = 82 is 0.6593406593406593\n",
      "The accuracy for min_samples_split = 83 is 0.6593406593406593\n",
      "The accuracy for min_samples_split = 84 is 0.6593406593406593\n",
      "The accuracy for min_samples_split = 85 is 0.6593406593406593\n",
      "The accuracy for min_samples_split = 86 is 0.6593406593406593\n",
      "The accuracy for min_samples_split = 87 is 0.6593406593406593\n",
      "The accuracy for min_samples_split = 88 is 0.6593406593406593\n",
      "The accuracy for min_samples_split = 89 is 0.6593406593406593\n",
      "The accuracy for min_samples_split = 90 is 0.6593406593406593\n",
      "The accuracy for min_samples_split = 91 is 0.6923076923076923\n",
      "The accuracy for min_samples_split = 92 is 0.6923076923076923\n",
      "The accuracy for min_samples_split = 93 is 0.6923076923076923\n",
      "The accuracy for min_samples_split = 94 is 0.6923076923076923\n",
      "The accuracy for min_samples_split = 95 is 0.6923076923076923\n",
      "The accuracy for min_samples_split = 96 is 0.6923076923076923\n",
      "The accuracy for min_samples_split = 97 is 0.6923076923076923\n",
      "The accuracy for min_samples_split = 98 is 0.6923076923076923\n",
      "The accuracy for min_samples_split = 99 is 0.6923076923076923\n"
     ]
    }
   ],
   "source": [
    "acc_list = []\n",
    "split_list = []\n",
    "for i in range(2,100):\n",
    "    dt3 = DecisionTreeClassifier(min_samples_split = i)\n",
    "    dt3.fit(xtrain, ytrain)\n",
    "    ypred = dt3.predict(xtest)\n",
    "    acc = accuracy_score(ytest, ypred)\n",
    "    \n",
    "    acc_list.append(acc)\n",
    "    split_list.append(i)\n",
    "    \n",
    "    print(f\"The accuracy for min_samples_split = {i} is {acc}\")"
   ]
  },
  {
   "cell_type": "code",
   "execution_count": 34,
   "id": "3e887805",
   "metadata": {},
   "outputs": [
    {
     "name": "stdout",
     "output_type": "stream",
     "text": [
      "We observed that, Highest accuracy for our model is we get when min_samples_split is 20\n"
     ]
    }
   ],
   "source": [
    "max_acc = acc_list[0]\n",
    "for i in range(1,len(acc_list)):\n",
    "    if acc_list[i] > max_acc:\n",
    "        max_acc = acc_list[i]\n",
    "\n",
    "max_index = acc_list.index(max_acc)\n",
    "print(f\"We observed that, Highest accuracy for our model is we get when min_samples_split is {max_index + 2}\")"
   ]
  },
  {
   "cell_type": "code",
   "execution_count": 35,
   "id": "1b505240",
   "metadata": {
    "scrolled": false
   },
   "outputs": [
    {
     "name": "stdout",
     "output_type": "stream",
     "text": [
      "Accuracy is 0.7692307692307693 \n",
      "\n",
      " Classfication Report \n",
      "               precision    recall  f1-score   support\n",
      "\n",
      "           0       0.71      0.83      0.76        41\n",
      "           1       0.84      0.72      0.77        50\n",
      "\n",
      "    accuracy                           0.77        91\n",
      "   macro avg       0.77      0.77      0.77        91\n",
      "weighted avg       0.78      0.77      0.77        91\n",
      "\n"
     ]
    }
   ],
   "source": [
    "dt4 = DecisionTreeClassifier(min_samples_split = 20)\n",
    "mymodel(dt4)"
   ]
  },
  {
   "cell_type": "code",
   "execution_count": 36,
   "id": "11a722fe",
   "metadata": {
    "scrolled": true
   },
   "outputs": [
    {
     "data": {
      "text/plain": [
       "0.8867924528301887"
      ]
     },
     "execution_count": 36,
     "metadata": {},
     "output_type": "execute_result"
    }
   ],
   "source": [
    "dt4.score(xtrain, ytrain)"
   ]
  },
  {
   "cell_type": "code",
   "execution_count": 47,
   "id": "f7385b5b",
   "metadata": {},
   "outputs": [
    {
     "name": "stdout",
     "output_type": "stream",
     "text": [
      "The accuracy for min_samples_leaf = 1 is 0.7252747252747253\n",
      "The accuracy for min_samples_leaf = 2 is 0.6813186813186813\n",
      "The accuracy for min_samples_leaf = 3 is 0.7472527472527473\n",
      "The accuracy for min_samples_leaf = 4 is 0.7692307692307693\n",
      "The accuracy for min_samples_leaf = 5 is 0.7142857142857143\n",
      "The accuracy for min_samples_leaf = 6 is 0.7142857142857143\n",
      "The accuracy for min_samples_leaf = 7 is 0.7142857142857143\n",
      "The accuracy for min_samples_leaf = 8 is 0.7142857142857143\n",
      "The accuracy for min_samples_leaf = 9 is 0.7692307692307693\n",
      "The accuracy for min_samples_leaf = 10 is 0.8021978021978022\n",
      "The accuracy for min_samples_leaf = 11 is 0.8021978021978022\n",
      "The accuracy for min_samples_leaf = 12 is 0.8021978021978022\n",
      "The accuracy for min_samples_leaf = 13 is 0.8021978021978022\n",
      "The accuracy for min_samples_leaf = 14 is 0.8021978021978022\n",
      "The accuracy for min_samples_leaf = 15 is 0.8021978021978022\n",
      "The accuracy for min_samples_leaf = 16 is 0.7802197802197802\n",
      "The accuracy for min_samples_leaf = 17 is 0.7802197802197802\n",
      "The accuracy for min_samples_leaf = 18 is 0.7032967032967034\n",
      "The accuracy for min_samples_leaf = 19 is 0.7032967032967034\n",
      "The accuracy for min_samples_leaf = 20 is 0.6923076923076923\n",
      "The accuracy for min_samples_leaf = 21 is 0.6923076923076923\n",
      "The accuracy for min_samples_leaf = 22 is 0.6923076923076923\n",
      "The accuracy for min_samples_leaf = 23 is 0.6923076923076923\n",
      "The accuracy for min_samples_leaf = 24 is 0.6923076923076923\n",
      "The accuracy for min_samples_leaf = 25 is 0.6923076923076923\n",
      "The accuracy for min_samples_leaf = 26 is 0.6923076923076923\n",
      "The accuracy for min_samples_leaf = 27 is 0.6923076923076923\n",
      "The accuracy for min_samples_leaf = 28 is 0.6923076923076923\n",
      "The accuracy for min_samples_leaf = 29 is 0.6923076923076923\n",
      "The accuracy for min_samples_leaf = 30 is 0.6923076923076923\n",
      "The accuracy for min_samples_leaf = 31 is 0.6923076923076923\n",
      "The accuracy for min_samples_leaf = 32 is 0.6923076923076923\n",
      "The accuracy for min_samples_leaf = 33 is 0.6923076923076923\n",
      "The accuracy for min_samples_leaf = 34 is 0.6923076923076923\n",
      "The accuracy for min_samples_leaf = 35 is 0.6923076923076923\n",
      "The accuracy for min_samples_leaf = 36 is 0.6923076923076923\n",
      "The accuracy for min_samples_leaf = 37 is 0.6923076923076923\n",
      "The accuracy for min_samples_leaf = 38 is 0.6923076923076923\n",
      "The accuracy for min_samples_leaf = 39 is 0.6923076923076923\n",
      "The accuracy for min_samples_leaf = 40 is 0.6923076923076923\n",
      "The accuracy for min_samples_leaf = 41 is 0.6923076923076923\n",
      "The accuracy for min_samples_leaf = 42 is 0.6923076923076923\n",
      "The accuracy for min_samples_leaf = 43 is 0.6923076923076923\n",
      "The accuracy for min_samples_leaf = 44 is 0.6923076923076923\n",
      "The accuracy for min_samples_leaf = 45 is 0.6923076923076923\n",
      "The accuracy for min_samples_leaf = 46 is 0.6923076923076923\n",
      "The accuracy for min_samples_leaf = 47 is 0.6923076923076923\n",
      "The accuracy for min_samples_leaf = 48 is 0.6923076923076923\n",
      "The accuracy for min_samples_leaf = 49 is 0.6923076923076923\n"
     ]
    }
   ],
   "source": [
    "acc_list = []\n",
    "leaf_list = []\n",
    "for i in range(1,50):\n",
    "    dt5 = DecisionTreeClassifier(min_samples_leaf = i)\n",
    "    dt5.fit(xtrain, ytrain)\n",
    "    ypred = dt5.predict(xtest)\n",
    "    acc = accuracy_score(ytest, ypred)\n",
    "    \n",
    "    acc_list.append(acc)\n",
    "    leaf_list.append(i)\n",
    "    \n",
    "    print(f\"The accuracy for min_samples_leaf = {i} is {acc}\")"
   ]
  },
  {
   "cell_type": "code",
   "execution_count": 48,
   "id": "b74f2869",
   "metadata": {},
   "outputs": [
    {
     "name": "stdout",
     "output_type": "stream",
     "text": [
      "We observed that, Highest accuracy for our model is we get when min_samples_leaf is 10\n"
     ]
    }
   ],
   "source": [
    "max_acc = acc_list[0]\n",
    "for i in range(1,len(acc_list)):\n",
    "    if acc_list[i] > max_acc:\n",
    "        max_acc = acc_list[i]\n",
    "\n",
    "max_index = acc_list.index(max_acc)\n",
    "print(f\"We observed that, Highest accuracy for our model is we get when min_samples_leaf is {max_index + 1}\")"
   ]
  },
  {
   "cell_type": "code",
   "execution_count": 49,
   "id": "547b9004",
   "metadata": {
    "scrolled": true
   },
   "outputs": [
    {
     "name": "stdout",
     "output_type": "stream",
     "text": [
      "Accuracy is 0.8021978021978022 \n",
      "\n",
      " Classfication Report \n",
      "               precision    recall  f1-score   support\n",
      "\n",
      "           0       0.77      0.80      0.79        41\n",
      "           1       0.83      0.80      0.82        50\n",
      "\n",
      "    accuracy                           0.80        91\n",
      "   macro avg       0.80      0.80      0.80        91\n",
      "weighted avg       0.80      0.80      0.80        91\n",
      "\n"
     ]
    }
   ],
   "source": [
    "dt6 = DecisionTreeClassifier(min_samples_leaf = 10)\n",
    "mymodel(dt6)"
   ]
  },
  {
   "cell_type": "code",
   "execution_count": 50,
   "id": "b081b314",
   "metadata": {
    "scrolled": false
   },
   "outputs": [
    {
     "data": {
      "text/plain": [
       "0.8726415094339622"
      ]
     },
     "execution_count": 50,
     "metadata": {},
     "output_type": "execute_result"
    }
   ],
   "source": [
    "dt6.score(xtrain, ytrain)"
   ]
  },
  {
   "cell_type": "code",
   "execution_count": 51,
   "id": "a24d50f8",
   "metadata": {},
   "outputs": [
    {
     "name": "stdout",
     "output_type": "stream",
     "text": [
      "Accuracy is 0.8021978021978022 \n",
      "\n",
      " Classfication Report \n",
      "               precision    recall  f1-score   support\n",
      "\n",
      "           0       0.79      0.76      0.77        41\n",
      "           1       0.81      0.84      0.82        50\n",
      "\n",
      "    accuracy                           0.80        91\n",
      "   macro avg       0.80      0.80      0.80        91\n",
      "weighted avg       0.80      0.80      0.80        91\n",
      "\n"
     ]
    }
   ],
   "source": [
    "dt7 = DecisionTreeClassifier(max_depth = 3, min_samples_split = 20,min_samples_leaf = 10)\n",
    "mymodel(dt7)"
   ]
  },
  {
   "cell_type": "code",
   "execution_count": 52,
   "id": "82985e8f",
   "metadata": {},
   "outputs": [
    {
     "data": {
      "text/plain": [
       "0.8632075471698113"
      ]
     },
     "execution_count": 52,
     "metadata": {},
     "output_type": "execute_result"
    }
   ],
   "source": [
    "dt7.score(xtrain, ytrain)"
   ]
  }
 ],
 "metadata": {
  "kernelspec": {
   "display_name": "Python 3 (ipykernel)",
   "language": "python",
   "name": "python3"
  },
  "language_info": {
   "codemirror_mode": {
    "name": "ipython",
    "version": 3
   },
   "file_extension": ".py",
   "mimetype": "text/x-python",
   "name": "python",
   "nbconvert_exporter": "python",
   "pygments_lexer": "ipython3",
   "version": "3.11.4"
  }
 },
 "nbformat": 4,
 "nbformat_minor": 5
}
