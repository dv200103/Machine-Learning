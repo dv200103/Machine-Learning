{
 "cells": [
  {
   "cell_type": "code",
   "execution_count": 1,
   "id": "a8154e24",
   "metadata": {},
   "outputs": [],
   "source": [
    "import pandas as pd\n",
    "import numpy as np\n",
    "import matplotlib.pyplot as plt\n",
    "# from matplotlib import pyplot as plt\n",
    "import seaborn as sns\n",
    "from sklearn.model_selection import train_test_split, cross_val_score\n",
    "from sklearn.linear_model import LogisticRegression\n",
    "from sklearn.svm import SVC\n",
    "from sklearn.neighbors import KNeighborsClassifier\n",
    "from sklearn.tree import DecisionTreeClassifier\n",
    "from sklearn.metrics import accuracy_score, classification_report\n",
    "import warnings\n",
    "warnings.filterwarnings(\"ignore\")"
   ]
  },
  {
   "cell_type": "code",
   "execution_count": 2,
   "id": "b8585587",
   "metadata": {},
   "outputs": [
    {
     "data": {
      "text/html": [
       "<div>\n",
       "<style scoped>\n",
       "    .dataframe tbody tr th:only-of-type {\n",
       "        vertical-align: middle;\n",
       "    }\n",
       "\n",
       "    .dataframe tbody tr th {\n",
       "        vertical-align: top;\n",
       "    }\n",
       "\n",
       "    .dataframe thead th {\n",
       "        text-align: right;\n",
       "    }\n",
       "</style>\n",
       "<table border=\"1\" class=\"dataframe\">\n",
       "  <thead>\n",
       "    <tr style=\"text-align: right;\">\n",
       "      <th></th>\n",
       "      <th>age</th>\n",
       "      <th>job</th>\n",
       "      <th>marital</th>\n",
       "      <th>education</th>\n",
       "      <th>default</th>\n",
       "      <th>balance</th>\n",
       "      <th>housing</th>\n",
       "      <th>loan</th>\n",
       "      <th>contact</th>\n",
       "      <th>day</th>\n",
       "      <th>month</th>\n",
       "      <th>duration</th>\n",
       "      <th>campaign</th>\n",
       "      <th>pdays</th>\n",
       "      <th>previous</th>\n",
       "      <th>poutcome</th>\n",
       "      <th>deposit</th>\n",
       "    </tr>\n",
       "  </thead>\n",
       "  <tbody>\n",
       "    <tr>\n",
       "      <th>0</th>\n",
       "      <td>59</td>\n",
       "      <td>0</td>\n",
       "      <td>1</td>\n",
       "      <td>1</td>\n",
       "      <td>0</td>\n",
       "      <td>2343</td>\n",
       "      <td>1</td>\n",
       "      <td>0</td>\n",
       "      <td>2</td>\n",
       "      <td>5</td>\n",
       "      <td>8</td>\n",
       "      <td>1042</td>\n",
       "      <td>1</td>\n",
       "      <td>-1</td>\n",
       "      <td>0</td>\n",
       "      <td>3</td>\n",
       "      <td>1</td>\n",
       "    </tr>\n",
       "    <tr>\n",
       "      <th>1</th>\n",
       "      <td>56</td>\n",
       "      <td>0</td>\n",
       "      <td>1</td>\n",
       "      <td>1</td>\n",
       "      <td>0</td>\n",
       "      <td>45</td>\n",
       "      <td>0</td>\n",
       "      <td>0</td>\n",
       "      <td>2</td>\n",
       "      <td>5</td>\n",
       "      <td>8</td>\n",
       "      <td>1467</td>\n",
       "      <td>1</td>\n",
       "      <td>-1</td>\n",
       "      <td>0</td>\n",
       "      <td>3</td>\n",
       "      <td>1</td>\n",
       "    </tr>\n",
       "    <tr>\n",
       "      <th>2</th>\n",
       "      <td>41</td>\n",
       "      <td>9</td>\n",
       "      <td>1</td>\n",
       "      <td>1</td>\n",
       "      <td>0</td>\n",
       "      <td>1270</td>\n",
       "      <td>1</td>\n",
       "      <td>0</td>\n",
       "      <td>2</td>\n",
       "      <td>5</td>\n",
       "      <td>8</td>\n",
       "      <td>1389</td>\n",
       "      <td>1</td>\n",
       "      <td>-1</td>\n",
       "      <td>0</td>\n",
       "      <td>3</td>\n",
       "      <td>1</td>\n",
       "    </tr>\n",
       "    <tr>\n",
       "      <th>3</th>\n",
       "      <td>55</td>\n",
       "      <td>7</td>\n",
       "      <td>1</td>\n",
       "      <td>1</td>\n",
       "      <td>0</td>\n",
       "      <td>2476</td>\n",
       "      <td>1</td>\n",
       "      <td>0</td>\n",
       "      <td>2</td>\n",
       "      <td>5</td>\n",
       "      <td>8</td>\n",
       "      <td>579</td>\n",
       "      <td>1</td>\n",
       "      <td>-1</td>\n",
       "      <td>0</td>\n",
       "      <td>3</td>\n",
       "      <td>1</td>\n",
       "    </tr>\n",
       "    <tr>\n",
       "      <th>4</th>\n",
       "      <td>54</td>\n",
       "      <td>0</td>\n",
       "      <td>1</td>\n",
       "      <td>2</td>\n",
       "      <td>0</td>\n",
       "      <td>184</td>\n",
       "      <td>0</td>\n",
       "      <td>0</td>\n",
       "      <td>2</td>\n",
       "      <td>5</td>\n",
       "      <td>8</td>\n",
       "      <td>673</td>\n",
       "      <td>2</td>\n",
       "      <td>-1</td>\n",
       "      <td>0</td>\n",
       "      <td>3</td>\n",
       "      <td>1</td>\n",
       "    </tr>\n",
       "    <tr>\n",
       "      <th>...</th>\n",
       "      <td>...</td>\n",
       "      <td>...</td>\n",
       "      <td>...</td>\n",
       "      <td>...</td>\n",
       "      <td>...</td>\n",
       "      <td>...</td>\n",
       "      <td>...</td>\n",
       "      <td>...</td>\n",
       "      <td>...</td>\n",
       "      <td>...</td>\n",
       "      <td>...</td>\n",
       "      <td>...</td>\n",
       "      <td>...</td>\n",
       "      <td>...</td>\n",
       "      <td>...</td>\n",
       "      <td>...</td>\n",
       "      <td>...</td>\n",
       "    </tr>\n",
       "    <tr>\n",
       "      <th>11157</th>\n",
       "      <td>33</td>\n",
       "      <td>1</td>\n",
       "      <td>2</td>\n",
       "      <td>0</td>\n",
       "      <td>0</td>\n",
       "      <td>1</td>\n",
       "      <td>1</td>\n",
       "      <td>0</td>\n",
       "      <td>0</td>\n",
       "      <td>20</td>\n",
       "      <td>0</td>\n",
       "      <td>257</td>\n",
       "      <td>1</td>\n",
       "      <td>-1</td>\n",
       "      <td>0</td>\n",
       "      <td>3</td>\n",
       "      <td>0</td>\n",
       "    </tr>\n",
       "    <tr>\n",
       "      <th>11158</th>\n",
       "      <td>39</td>\n",
       "      <td>7</td>\n",
       "      <td>1</td>\n",
       "      <td>1</td>\n",
       "      <td>0</td>\n",
       "      <td>733</td>\n",
       "      <td>0</td>\n",
       "      <td>0</td>\n",
       "      <td>2</td>\n",
       "      <td>16</td>\n",
       "      <td>6</td>\n",
       "      <td>83</td>\n",
       "      <td>4</td>\n",
       "      <td>-1</td>\n",
       "      <td>0</td>\n",
       "      <td>3</td>\n",
       "      <td>0</td>\n",
       "    </tr>\n",
       "    <tr>\n",
       "      <th>11159</th>\n",
       "      <td>32</td>\n",
       "      <td>9</td>\n",
       "      <td>2</td>\n",
       "      <td>1</td>\n",
       "      <td>0</td>\n",
       "      <td>29</td>\n",
       "      <td>0</td>\n",
       "      <td>0</td>\n",
       "      <td>0</td>\n",
       "      <td>19</td>\n",
       "      <td>1</td>\n",
       "      <td>156</td>\n",
       "      <td>2</td>\n",
       "      <td>-1</td>\n",
       "      <td>0</td>\n",
       "      <td>3</td>\n",
       "      <td>0</td>\n",
       "    </tr>\n",
       "    <tr>\n",
       "      <th>11160</th>\n",
       "      <td>43</td>\n",
       "      <td>9</td>\n",
       "      <td>1</td>\n",
       "      <td>1</td>\n",
       "      <td>0</td>\n",
       "      <td>0</td>\n",
       "      <td>0</td>\n",
       "      <td>1</td>\n",
       "      <td>0</td>\n",
       "      <td>8</td>\n",
       "      <td>8</td>\n",
       "      <td>9</td>\n",
       "      <td>2</td>\n",
       "      <td>172</td>\n",
       "      <td>5</td>\n",
       "      <td>0</td>\n",
       "      <td>0</td>\n",
       "    </tr>\n",
       "    <tr>\n",
       "      <th>11161</th>\n",
       "      <td>34</td>\n",
       "      <td>9</td>\n",
       "      <td>1</td>\n",
       "      <td>1</td>\n",
       "      <td>0</td>\n",
       "      <td>0</td>\n",
       "      <td>0</td>\n",
       "      <td>0</td>\n",
       "      <td>0</td>\n",
       "      <td>9</td>\n",
       "      <td>5</td>\n",
       "      <td>628</td>\n",
       "      <td>1</td>\n",
       "      <td>-1</td>\n",
       "      <td>0</td>\n",
       "      <td>3</td>\n",
       "      <td>0</td>\n",
       "    </tr>\n",
       "  </tbody>\n",
       "</table>\n",
       "<p>11162 rows × 17 columns</p>\n",
       "</div>"
      ],
      "text/plain": [
       "       age  job  marital  education  default  balance  housing  loan  contact  \\\n",
       "0       59    0        1          1        0     2343        1     0        2   \n",
       "1       56    0        1          1        0       45        0     0        2   \n",
       "2       41    9        1          1        0     1270        1     0        2   \n",
       "3       55    7        1          1        0     2476        1     0        2   \n",
       "4       54    0        1          2        0      184        0     0        2   \n",
       "...    ...  ...      ...        ...      ...      ...      ...   ...      ...   \n",
       "11157   33    1        2          0        0        1        1     0        0   \n",
       "11158   39    7        1          1        0      733        0     0        2   \n",
       "11159   32    9        2          1        0       29        0     0        0   \n",
       "11160   43    9        1          1        0        0        0     1        0   \n",
       "11161   34    9        1          1        0        0        0     0        0   \n",
       "\n",
       "       day  month  duration  campaign  pdays  previous  poutcome  deposit  \n",
       "0        5      8      1042         1     -1         0         3        1  \n",
       "1        5      8      1467         1     -1         0         3        1  \n",
       "2        5      8      1389         1     -1         0         3        1  \n",
       "3        5      8       579         1     -1         0         3        1  \n",
       "4        5      8       673         2     -1         0         3        1  \n",
       "...    ...    ...       ...       ...    ...       ...       ...      ...  \n",
       "11157   20      0       257         1     -1         0         3        0  \n",
       "11158   16      6        83         4     -1         0         3        0  \n",
       "11159   19      1       156         2     -1         0         3        0  \n",
       "11160    8      8         9         2    172         5         0        0  \n",
       "11161    9      5       628         1     -1         0         3        0  \n",
       "\n",
       "[11162 rows x 17 columns]"
      ]
     },
     "execution_count": 2,
     "metadata": {},
     "output_type": "execute_result"
    }
   ],
   "source": [
    "df = pd.read_csv(\"bank_Dataset for DT.csv\")\n",
    "df"
   ]
  },
  {
   "cell_type": "code",
   "execution_count": 3,
   "id": "e7b726cc",
   "metadata": {},
   "outputs": [
    {
     "data": {
      "text/plain": [
       "0    5873\n",
       "1    5289\n",
       "Name: deposit, dtype: int64"
      ]
     },
     "execution_count": 3,
     "metadata": {},
     "output_type": "execute_result"
    }
   ],
   "source": [
    "df[\"deposit\"].value_counts()"
   ]
  },
  {
   "cell_type": "code",
   "execution_count": 4,
   "id": "b8deb5dc",
   "metadata": {
    "scrolled": true
   },
   "outputs": [
    {
     "name": "stdout",
     "output_type": "stream",
     "text": [
      "<class 'pandas.core.frame.DataFrame'>\n",
      "RangeIndex: 11162 entries, 0 to 11161\n",
      "Data columns (total 17 columns):\n",
      " #   Column     Non-Null Count  Dtype\n",
      "---  ------     --------------  -----\n",
      " 0   age        11162 non-null  int64\n",
      " 1   job        11162 non-null  int64\n",
      " 2   marital    11162 non-null  int64\n",
      " 3   education  11162 non-null  int64\n",
      " 4   default    11162 non-null  int64\n",
      " 5   balance    11162 non-null  int64\n",
      " 6   housing    11162 non-null  int64\n",
      " 7   loan       11162 non-null  int64\n",
      " 8   contact    11162 non-null  int64\n",
      " 9   day        11162 non-null  int64\n",
      " 10  month      11162 non-null  int64\n",
      " 11  duration   11162 non-null  int64\n",
      " 12  campaign   11162 non-null  int64\n",
      " 13  pdays      11162 non-null  int64\n",
      " 14  previous   11162 non-null  int64\n",
      " 15  poutcome   11162 non-null  int64\n",
      " 16  deposit    11162 non-null  int64\n",
      "dtypes: int64(17)\n",
      "memory usage: 1.4 MB\n"
     ]
    }
   ],
   "source": [
    "df.info()"
   ]
  },
  {
   "cell_type": "code",
   "execution_count": 5,
   "id": "f04e2775",
   "metadata": {},
   "outputs": [
    {
     "data": {
      "text/html": [
       "<div>\n",
       "<style scoped>\n",
       "    .dataframe tbody tr th:only-of-type {\n",
       "        vertical-align: middle;\n",
       "    }\n",
       "\n",
       "    .dataframe tbody tr th {\n",
       "        vertical-align: top;\n",
       "    }\n",
       "\n",
       "    .dataframe thead th {\n",
       "        text-align: right;\n",
       "    }\n",
       "</style>\n",
       "<table border=\"1\" class=\"dataframe\">\n",
       "  <thead>\n",
       "    <tr style=\"text-align: right;\">\n",
       "      <th></th>\n",
       "      <th>age</th>\n",
       "      <th>job</th>\n",
       "      <th>marital</th>\n",
       "      <th>education</th>\n",
       "      <th>default</th>\n",
       "      <th>balance</th>\n",
       "      <th>housing</th>\n",
       "      <th>loan</th>\n",
       "      <th>contact</th>\n",
       "      <th>day</th>\n",
       "      <th>month</th>\n",
       "      <th>duration</th>\n",
       "      <th>campaign</th>\n",
       "      <th>pdays</th>\n",
       "      <th>previous</th>\n",
       "      <th>poutcome</th>\n",
       "    </tr>\n",
       "  </thead>\n",
       "  <tbody>\n",
       "    <tr>\n",
       "      <th>0</th>\n",
       "      <td>59</td>\n",
       "      <td>0</td>\n",
       "      <td>1</td>\n",
       "      <td>1</td>\n",
       "      <td>0</td>\n",
       "      <td>2343</td>\n",
       "      <td>1</td>\n",
       "      <td>0</td>\n",
       "      <td>2</td>\n",
       "      <td>5</td>\n",
       "      <td>8</td>\n",
       "      <td>1042</td>\n",
       "      <td>1</td>\n",
       "      <td>-1</td>\n",
       "      <td>0</td>\n",
       "      <td>3</td>\n",
       "    </tr>\n",
       "    <tr>\n",
       "      <th>1</th>\n",
       "      <td>56</td>\n",
       "      <td>0</td>\n",
       "      <td>1</td>\n",
       "      <td>1</td>\n",
       "      <td>0</td>\n",
       "      <td>45</td>\n",
       "      <td>0</td>\n",
       "      <td>0</td>\n",
       "      <td>2</td>\n",
       "      <td>5</td>\n",
       "      <td>8</td>\n",
       "      <td>1467</td>\n",
       "      <td>1</td>\n",
       "      <td>-1</td>\n",
       "      <td>0</td>\n",
       "      <td>3</td>\n",
       "    </tr>\n",
       "    <tr>\n",
       "      <th>2</th>\n",
       "      <td>41</td>\n",
       "      <td>9</td>\n",
       "      <td>1</td>\n",
       "      <td>1</td>\n",
       "      <td>0</td>\n",
       "      <td>1270</td>\n",
       "      <td>1</td>\n",
       "      <td>0</td>\n",
       "      <td>2</td>\n",
       "      <td>5</td>\n",
       "      <td>8</td>\n",
       "      <td>1389</td>\n",
       "      <td>1</td>\n",
       "      <td>-1</td>\n",
       "      <td>0</td>\n",
       "      <td>3</td>\n",
       "    </tr>\n",
       "    <tr>\n",
       "      <th>3</th>\n",
       "      <td>55</td>\n",
       "      <td>7</td>\n",
       "      <td>1</td>\n",
       "      <td>1</td>\n",
       "      <td>0</td>\n",
       "      <td>2476</td>\n",
       "      <td>1</td>\n",
       "      <td>0</td>\n",
       "      <td>2</td>\n",
       "      <td>5</td>\n",
       "      <td>8</td>\n",
       "      <td>579</td>\n",
       "      <td>1</td>\n",
       "      <td>-1</td>\n",
       "      <td>0</td>\n",
       "      <td>3</td>\n",
       "    </tr>\n",
       "    <tr>\n",
       "      <th>4</th>\n",
       "      <td>54</td>\n",
       "      <td>0</td>\n",
       "      <td>1</td>\n",
       "      <td>2</td>\n",
       "      <td>0</td>\n",
       "      <td>184</td>\n",
       "      <td>0</td>\n",
       "      <td>0</td>\n",
       "      <td>2</td>\n",
       "      <td>5</td>\n",
       "      <td>8</td>\n",
       "      <td>673</td>\n",
       "      <td>2</td>\n",
       "      <td>-1</td>\n",
       "      <td>0</td>\n",
       "      <td>3</td>\n",
       "    </tr>\n",
       "    <tr>\n",
       "      <th>...</th>\n",
       "      <td>...</td>\n",
       "      <td>...</td>\n",
       "      <td>...</td>\n",
       "      <td>...</td>\n",
       "      <td>...</td>\n",
       "      <td>...</td>\n",
       "      <td>...</td>\n",
       "      <td>...</td>\n",
       "      <td>...</td>\n",
       "      <td>...</td>\n",
       "      <td>...</td>\n",
       "      <td>...</td>\n",
       "      <td>...</td>\n",
       "      <td>...</td>\n",
       "      <td>...</td>\n",
       "      <td>...</td>\n",
       "    </tr>\n",
       "    <tr>\n",
       "      <th>11157</th>\n",
       "      <td>33</td>\n",
       "      <td>1</td>\n",
       "      <td>2</td>\n",
       "      <td>0</td>\n",
       "      <td>0</td>\n",
       "      <td>1</td>\n",
       "      <td>1</td>\n",
       "      <td>0</td>\n",
       "      <td>0</td>\n",
       "      <td>20</td>\n",
       "      <td>0</td>\n",
       "      <td>257</td>\n",
       "      <td>1</td>\n",
       "      <td>-1</td>\n",
       "      <td>0</td>\n",
       "      <td>3</td>\n",
       "    </tr>\n",
       "    <tr>\n",
       "      <th>11158</th>\n",
       "      <td>39</td>\n",
       "      <td>7</td>\n",
       "      <td>1</td>\n",
       "      <td>1</td>\n",
       "      <td>0</td>\n",
       "      <td>733</td>\n",
       "      <td>0</td>\n",
       "      <td>0</td>\n",
       "      <td>2</td>\n",
       "      <td>16</td>\n",
       "      <td>6</td>\n",
       "      <td>83</td>\n",
       "      <td>4</td>\n",
       "      <td>-1</td>\n",
       "      <td>0</td>\n",
       "      <td>3</td>\n",
       "    </tr>\n",
       "    <tr>\n",
       "      <th>11159</th>\n",
       "      <td>32</td>\n",
       "      <td>9</td>\n",
       "      <td>2</td>\n",
       "      <td>1</td>\n",
       "      <td>0</td>\n",
       "      <td>29</td>\n",
       "      <td>0</td>\n",
       "      <td>0</td>\n",
       "      <td>0</td>\n",
       "      <td>19</td>\n",
       "      <td>1</td>\n",
       "      <td>156</td>\n",
       "      <td>2</td>\n",
       "      <td>-1</td>\n",
       "      <td>0</td>\n",
       "      <td>3</td>\n",
       "    </tr>\n",
       "    <tr>\n",
       "      <th>11160</th>\n",
       "      <td>43</td>\n",
       "      <td>9</td>\n",
       "      <td>1</td>\n",
       "      <td>1</td>\n",
       "      <td>0</td>\n",
       "      <td>0</td>\n",
       "      <td>0</td>\n",
       "      <td>1</td>\n",
       "      <td>0</td>\n",
       "      <td>8</td>\n",
       "      <td>8</td>\n",
       "      <td>9</td>\n",
       "      <td>2</td>\n",
       "      <td>172</td>\n",
       "      <td>5</td>\n",
       "      <td>0</td>\n",
       "    </tr>\n",
       "    <tr>\n",
       "      <th>11161</th>\n",
       "      <td>34</td>\n",
       "      <td>9</td>\n",
       "      <td>1</td>\n",
       "      <td>1</td>\n",
       "      <td>0</td>\n",
       "      <td>0</td>\n",
       "      <td>0</td>\n",
       "      <td>0</td>\n",
       "      <td>0</td>\n",
       "      <td>9</td>\n",
       "      <td>5</td>\n",
       "      <td>628</td>\n",
       "      <td>1</td>\n",
       "      <td>-1</td>\n",
       "      <td>0</td>\n",
       "      <td>3</td>\n",
       "    </tr>\n",
       "  </tbody>\n",
       "</table>\n",
       "<p>11162 rows × 16 columns</p>\n",
       "</div>"
      ],
      "text/plain": [
       "       age  job  marital  education  default  balance  housing  loan  contact  \\\n",
       "0       59    0        1          1        0     2343        1     0        2   \n",
       "1       56    0        1          1        0       45        0     0        2   \n",
       "2       41    9        1          1        0     1270        1     0        2   \n",
       "3       55    7        1          1        0     2476        1     0        2   \n",
       "4       54    0        1          2        0      184        0     0        2   \n",
       "...    ...  ...      ...        ...      ...      ...      ...   ...      ...   \n",
       "11157   33    1        2          0        0        1        1     0        0   \n",
       "11158   39    7        1          1        0      733        0     0        2   \n",
       "11159   32    9        2          1        0       29        0     0        0   \n",
       "11160   43    9        1          1        0        0        0     1        0   \n",
       "11161   34    9        1          1        0        0        0     0        0   \n",
       "\n",
       "       day  month  duration  campaign  pdays  previous  poutcome  \n",
       "0        5      8      1042         1     -1         0         3  \n",
       "1        5      8      1467         1     -1         0         3  \n",
       "2        5      8      1389         1     -1         0         3  \n",
       "3        5      8       579         1     -1         0         3  \n",
       "4        5      8       673         2     -1         0         3  \n",
       "...    ...    ...       ...       ...    ...       ...       ...  \n",
       "11157   20      0       257         1     -1         0         3  \n",
       "11158   16      6        83         4     -1         0         3  \n",
       "11159   19      1       156         2     -1         0         3  \n",
       "11160    8      8         9         2    172         5         0  \n",
       "11161    9      5       628         1     -1         0         3  \n",
       "\n",
       "[11162 rows x 16 columns]"
      ]
     },
     "execution_count": 5,
     "metadata": {},
     "output_type": "execute_result"
    }
   ],
   "source": [
    "x = df.iloc[:,:-1]\n",
    "x"
   ]
  },
  {
   "cell_type": "code",
   "execution_count": 6,
   "id": "2339910b",
   "metadata": {},
   "outputs": [],
   "source": [
    "# y = df.iloc[:,-1]\n",
    "# y"
   ]
  },
  {
   "cell_type": "code",
   "execution_count": 7,
   "id": "1ee7c713",
   "metadata": {
    "scrolled": true
   },
   "outputs": [
    {
     "data": {
      "text/plain": [
       "0        1\n",
       "1        1\n",
       "2        1\n",
       "3        1\n",
       "4        1\n",
       "        ..\n",
       "11157    0\n",
       "11158    0\n",
       "11159    0\n",
       "11160    0\n",
       "11161    0\n",
       "Name: deposit, Length: 11162, dtype: int64"
      ]
     },
     "execution_count": 7,
     "metadata": {},
     "output_type": "execute_result"
    }
   ],
   "source": [
    "y = df[\"deposit\"]\n",
    "y"
   ]
  },
  {
   "cell_type": "code",
   "execution_count": 8,
   "id": "ecc1b41b",
   "metadata": {},
   "outputs": [],
   "source": [
    "lr = LogisticRegression()\n",
    "# knn = KNeigborsClassifier()\n",
    "# svm = SVC()\n",
    "dt = DecisionTreeClassifier()"
   ]
  },
  {
   "cell_type": "code",
   "execution_count": 9,
   "id": "aae75a8d",
   "metadata": {},
   "outputs": [],
   "source": [
    "xtrain, xtest, ytrain, ytest = train_test_split(x,y, test_size = 0.3, random_state = 42)"
   ]
  },
  {
   "cell_type": "code",
   "execution_count": 10,
   "id": "74f6d742",
   "metadata": {},
   "outputs": [],
   "source": [
    "def mymodel(model):\n",
    "    model.fit(xtrain, ytrain)\n",
    "    ypred = model.predict(xtest)\n",
    "    ac = accuracy_score(ytest, ypred)\n",
    "    cr = classification_report(ytest, ypred)\n",
    "    print(f\"Accuracy is {ac} \\n\\n Classifcation report \\n {cr}\")"
   ]
  },
  {
   "cell_type": "code",
   "execution_count": 11,
   "id": "87e0930f",
   "metadata": {},
   "outputs": [
    {
     "name": "stdout",
     "output_type": "stream",
     "text": [
      "Accuracy is 0.7476858763810093 \n",
      "\n",
      " Classifcation report \n",
      "               precision    recall  f1-score   support\n",
      "\n",
      "           0       0.74      0.80      0.77      1742\n",
      "           1       0.76      0.69      0.72      1607\n",
      "\n",
      "    accuracy                           0.75      3349\n",
      "   macro avg       0.75      0.75      0.75      3349\n",
      "weighted avg       0.75      0.75      0.75      3349\n",
      "\n"
     ]
    }
   ],
   "source": [
    "mymodel(lr)"
   ]
  },
  {
   "cell_type": "code",
   "execution_count": 12,
   "id": "2e69d006",
   "metadata": {
    "scrolled": true
   },
   "outputs": [
    {
     "name": "stdout",
     "output_type": "stream",
     "text": [
      "Accuracy is 0.7811286951328755 \n",
      "\n",
      " Classifcation report \n",
      "               precision    recall  f1-score   support\n",
      "\n",
      "           0       0.79      0.79      0.79      1742\n",
      "           1       0.77      0.77      0.77      1607\n",
      "\n",
      "    accuracy                           0.78      3349\n",
      "   macro avg       0.78      0.78      0.78      3349\n",
      "weighted avg       0.78      0.78      0.78      3349\n",
      "\n"
     ]
    }
   ],
   "source": [
    "mymodel(dt) # Accuracy for None which is Default value for max_depth"
   ]
  },
  {
   "cell_type": "markdown",
   "id": "67ab2112",
   "metadata": {},
   "source": [
    "# Checking for overfitting in dt"
   ]
  },
  {
   "cell_type": "code",
   "execution_count": 13,
   "id": "2adc723e",
   "metadata": {},
   "outputs": [
    {
     "data": {
      "text/plain": [
       "1.0"
      ]
     },
     "execution_count": 13,
     "metadata": {},
     "output_type": "execute_result"
    }
   ],
   "source": [
    "dt.score(xtrain,ytrain)"
   ]
  },
  {
   "cell_type": "code",
   "execution_count": 14,
   "id": "82bb09e4",
   "metadata": {
    "scrolled": true
   },
   "outputs": [
    {
     "data": {
      "text/plain": [
       "0.7811286951328755"
      ]
     },
     "execution_count": 14,
     "metadata": {},
     "output_type": "execute_result"
    }
   ],
   "source": [
    "dt.score(xtest,ytest)"
   ]
  },
  {
   "cell_type": "code",
   "execution_count": 15,
   "id": "06303ac8",
   "metadata": {},
   "outputs": [
    {
     "data": {
      "text/plain": [
       "' \\nBy analyzing above accuracy values for bias(trainig error) is zero because opposite of accuracy is error and offcourse there is \\nsome varaince(testing error) because it is not 1 like bias,\\nSo Low/Zero Bias and High Variance means the our dt model is Overfit.\\n'"
      ]
     },
     "execution_count": 15,
     "metadata": {},
     "output_type": "execute_result"
    }
   ],
   "source": [
    "''' \n",
    "By analyzing above accuracy values for bias(trainig error) is zero because opposite of accuracy is error and offcourse there is \n",
    "some varaince(testing error) because it is not 1 like bias,\n",
    "So Low/Zero Bias and High Variance means the our dt model is Overfit.\n",
    "'''"
   ]
  },
  {
   "cell_type": "markdown",
   "id": "a310bb31",
   "metadata": {},
   "source": [
    "# Hypertunning dt"
   ]
  },
  {
   "cell_type": "raw",
   "id": "002a9f9a",
   "metadata": {},
   "source": [
    "1.MAX_DEPTH"
   ]
  },
  {
   "cell_type": "code",
   "execution_count": 16,
   "id": "d10f2cfa",
   "metadata": {},
   "outputs": [
    {
     "name": "stdout",
     "output_type": "stream",
     "text": [
      "The accuracy for max_depth = 1 is 0.7106598984771574\n",
      "The accuracy for max_depth = 2 is 0.7055837563451777\n",
      "The accuracy for max_depth = 3 is 0.775753956404897\n",
      "The accuracy for max_depth = 4 is 0.7814272917288743\n",
      "The accuracy for max_depth = 5 is 0.8041206330247835\n",
      "The accuracy for max_depth = 6 is 0.80501642281278\n",
      "The accuracy for max_depth = 7 is 0.8148701104807405\n",
      "The accuracy for max_depth = 8 is 0.8106897581367573\n",
      "The accuracy for max_depth = 9 is 0.8062108091967751\n",
      "The accuracy for max_depth = 10 is 0.8062108091967751\n",
      "The accuracy for max_depth = 11 is 0.806509405792774\n",
      "The accuracy for max_depth = 12 is 0.8026276500447895\n",
      "The accuracy for max_depth = 13 is 0.7999402806808003\n",
      "The accuracy for max_depth = 14 is 0.7936697521648253\n",
      "The accuracy for max_depth = 15 is 0.7933711555688265\n"
     ]
    }
   ],
   "source": [
    "acc_list = []\n",
    "dep_list = []\n",
    "for i in range(1,16):\n",
    "    dt1 = DecisionTreeClassifier(max_depth = i)\n",
    "    dt1.fit(xtrain, ytrain)\n",
    "    ypred = dt1.predict(xtest)\n",
    "    acc = accuracy_score(ytest, ypred)\n",
    "    \n",
    "    acc_list.append(acc)\n",
    "    dep_list.append(i)\n",
    "    \n",
    "    print(f\"The accuracy for max_depth = {i} is {acc}\")"
   ]
  },
  {
   "cell_type": "code",
   "execution_count": 17,
   "id": "943c539e",
   "metadata": {},
   "outputs": [
    {
     "name": "stdout",
     "output_type": "stream",
     "text": [
      "We observed that , Highest accuracy of the our dt model we get when its max_depth is 7 \n"
     ]
    }
   ],
   "source": [
    "# To find the Max_Depth giving the highest accuracy.\n",
    "max_acc = acc_list[0]\n",
    "for i in range(1, len(acc_list)):\n",
    "    if acc_list[i] > max_acc :\n",
    "        max_acc = acc_list[i]\n",
    "max_index = acc_list.index(max_acc)\n",
    "print(f\"We observed that , Highest accuracy of the our dt model we get when its max_depth is {max_index + 1} \")    "
   ]
  },
  {
   "cell_type": "code",
   "execution_count": 18,
   "id": "074618fc",
   "metadata": {},
   "outputs": [
    {
     "name": "stdout",
     "output_type": "stream",
     "text": [
      "Accuracy is 0.8154673036727381 \n",
      "\n",
      " Classifcation report \n",
      "               precision    recall  f1-score   support\n",
      "\n",
      "           0       0.80      0.87      0.83      1742\n",
      "           1       0.84      0.76      0.80      1607\n",
      "\n",
      "    accuracy                           0.82      3349\n",
      "   macro avg       0.82      0.81      0.81      3349\n",
      "weighted avg       0.82      0.82      0.81      3349\n",
      "\n"
     ]
    }
   ],
   "source": [
    "# Let's build dt model with Max_Depth = 7\n",
    "dt2 = DecisionTreeClassifier(max_depth = 7)\n",
    "mymodel(dt2)"
   ]
  },
  {
   "cell_type": "code",
   "execution_count": 19,
   "id": "23c76444",
   "metadata": {},
   "outputs": [
    {
     "data": {
      "text/plain": [
       "0.8369384359400999"
      ]
     },
     "execution_count": 19,
     "metadata": {},
     "output_type": "execute_result"
    }
   ],
   "source": [
    "# Checking Bias(think in opposite(error) way of below value(accuracy of training)) after HyperTunning with max_depth = 7.\n",
    "dt2.score(xtrain, ytrain)"
   ]
  },
  {
   "cell_type": "code",
   "execution_count": 20,
   "id": "c855b80a",
   "metadata": {},
   "outputs": [
    {
     "data": {
      "text/plain": [
       "0.8154673036727381"
      ]
     },
     "execution_count": 20,
     "metadata": {},
     "output_type": "execute_result"
    }
   ],
   "source": [
    "# Checking Variance(think in opposite(error) way of below value(accuracy of testing)) after HyperTunning with max_depth = 7.\n",
    "dt2.score(xtest, ytest)"
   ]
  },
  {
   "cell_type": "markdown",
   "id": "7b48f8fd",
   "metadata": {},
   "source": [
    "GREAT!, This has resolved overfitting to much greater extend!!!"
   ]
  },
  {
   "cell_type": "markdown",
   "id": "76bc727c",
   "metadata": {},
   "source": [
    "2) MIN_SAMPLE_SPLIT"
   ]
  },
  {
   "cell_type": "code",
   "execution_count": 28,
   "id": "3b4188cd",
   "metadata": {},
   "outputs": [
    {
     "name": "stdout",
     "output_type": "stream",
     "text": [
      "The accuracy of min_sample_split = 2 is 0.7802329053448791\n",
      "The accuracy of min_sample_split = 3 is 0.782024484920872\n",
      "The accuracy of min_sample_split = 4 is 0.7799343087488803\n",
      "The accuracy of min_sample_split = 5 is 0.7829202747088683\n",
      "The accuracy of min_sample_split = 6 is 0.786503433860854\n",
      "The accuracy of min_sample_split = 7 is 0.7847118542848611\n",
      "The accuracy of min_sample_split = 8 is 0.7826216781128695\n",
      "The accuracy of min_sample_split = 9 is 0.7832188713048671\n",
      "The accuracy of min_sample_split = 10 is 0.7856076440728575\n",
      "The accuracy of min_sample_split = 11 is 0.7885936100328457\n",
      "The accuracy of min_sample_split = 12 is 0.7897879964168408\n",
      "The accuracy of min_sample_split = 13 is 0.7873992236488504\n",
      "The accuracy of min_sample_split = 14 is 0.7945655419528217\n",
      "The accuracy of min_sample_split = 15 is 0.7945655419528217\n",
      "The accuracy of min_sample_split = 16 is 0.7939683487608241\n",
      "The accuracy of min_sample_split = 17 is 0.7951627351448194\n",
      "The accuracy of min_sample_split = 18 is 0.794266945356823\n",
      "The accuracy of min_sample_split = 19 is 0.7966557181248134\n",
      "The accuracy of min_sample_split = 20 is 0.8008360704687967\n",
      "The accuracy of min_sample_split = 21 is 0.8020304568527918\n",
      "The accuracy of min_sample_split = 22 is 0.8032248432367871\n",
      "The accuracy of min_sample_split = 23 is 0.8029262466407883\n",
      "The accuracy of min_sample_split = 24 is 0.8023290534487907\n",
      "The accuracy of min_sample_split = 25 is 0.8032248432367871\n",
      "The accuracy of min_sample_split = 26 is 0.8041206330247835\n",
      "The accuracy of min_sample_split = 27 is 0.8047178262167811\n",
      "The accuracy of min_sample_split = 28 is 0.8041206330247835\n",
      "The accuracy of min_sample_split = 29 is 0.8041206330247835\n",
      "The accuracy of min_sample_split = 30 is 0.8047178262167811\n",
      "The accuracy of min_sample_split = 31 is 0.8014332636607943\n",
      "The accuracy of min_sample_split = 32 is 0.8026276500447895\n",
      "The accuracy of min_sample_split = 33 is 0.808002388772768\n",
      "The accuracy of min_sample_split = 34 is 0.808002388772768\n",
      "The accuracy of min_sample_split = 35 is 0.8074051955807704\n",
      "The accuracy of min_sample_split = 36 is 0.808002388772768\n",
      "The accuracy of min_sample_split = 37 is 0.8083009853687668\n",
      "The accuracy of min_sample_split = 38 is 0.8077037921767691\n",
      "The accuracy of min_sample_split = 39 is 0.8077037921767691\n",
      "The accuracy of min_sample_split = 40 is 0.8074051955807704\n",
      "The accuracy of min_sample_split = 41 is 0.809495371752762\n",
      "The accuracy of min_sample_split = 42 is 0.8088981785607644\n",
      "The accuracy of min_sample_split = 43 is 0.809495371752762\n",
      "The accuracy of min_sample_split = 44 is 0.8097939683487608\n",
      "The accuracy of min_sample_split = 45 is 0.8100925649447597\n",
      "The accuracy of min_sample_split = 46 is 0.8100925649447597\n",
      "The accuracy of min_sample_split = 47 is 0.8112869513287548\n",
      "The accuracy of min_sample_split = 48 is 0.8121827411167513\n",
      "The accuracy of min_sample_split = 49 is 0.8121827411167513\n",
      "The accuracy of min_sample_split = 50 is 0.8124813377127501\n",
      "The accuracy of min_sample_split = 51 is 0.815765900268737\n",
      "The accuracy of min_sample_split = 52 is 0.8148701104807405\n",
      "The accuracy of min_sample_split = 53 is 0.8151687070767393\n",
      "The accuracy of min_sample_split = 54 is 0.8160644968647357\n",
      "The accuracy of min_sample_split = 55 is 0.8151687070767393\n",
      "The accuracy of min_sample_split = 56 is 0.815765900268737\n",
      "The accuracy of min_sample_split = 57 is 0.8154673036727381\n",
      "The accuracy of min_sample_split = 58 is 0.8151687070767393\n",
      "The accuracy of min_sample_split = 59 is 0.8169602866527321\n",
      "The accuracy of min_sample_split = 60 is 0.8178560764407286\n",
      "The accuracy of min_sample_split = 61 is 0.8184532696327261\n",
      "The accuracy of min_sample_split = 62 is 0.8184532696327261\n",
      "The accuracy of min_sample_split = 63 is 0.8190504628247238\n",
      "The accuracy of min_sample_split = 64 is 0.8199462526127202\n",
      "The accuracy of min_sample_split = 65 is 0.8199462526127202\n",
      "The accuracy of min_sample_split = 66 is 0.8199462526127202\n",
      "The accuracy of min_sample_split = 67 is 0.8196476560167214\n",
      "The accuracy of min_sample_split = 68 is 0.8208420424007167\n",
      "The accuracy of min_sample_split = 69 is 0.8208420424007167\n",
      "The accuracy of min_sample_split = 70 is 0.8205434458047178\n",
      "The accuracy of min_sample_split = 71 is 0.8220364287847118\n",
      "The accuracy of min_sample_split = 72 is 0.8214392355927143\n",
      "The accuracy of min_sample_split = 73 is 0.8235294117647058\n",
      "The accuracy of min_sample_split = 74 is 0.8244252015527023\n",
      "The accuracy of min_sample_split = 75 is 0.8250223947447\n",
      "The accuracy of min_sample_split = 76 is 0.8250223947447\n",
      "The accuracy of min_sample_split = 77 is 0.8250223947447\n",
      "The accuracy of min_sample_split = 78 is 0.8256195879366975\n",
      "The accuracy of min_sample_split = 79 is 0.8256195879366975\n",
      "The accuracy of min_sample_split = 80 is 0.8253209913406987\n",
      "The accuracy of min_sample_split = 81 is 0.8271125709166915\n",
      "The accuracy of min_sample_split = 82 is 0.8268139743206927\n",
      "The accuracy of min_sample_split = 83 is 0.8232308151687071\n",
      "The accuracy of min_sample_split = 84 is 0.8226336219767094\n",
      "The accuracy of min_sample_split = 85 is 0.8229322185727083\n",
      "The accuracy of min_sample_split = 86 is 0.8232308151687071\n",
      "The accuracy of min_sample_split = 87 is 0.8235294117647058\n",
      "The accuracy of min_sample_split = 88 is 0.8250223947447\n",
      "The accuracy of min_sample_split = 89 is 0.8250223947447\n",
      "The accuracy of min_sample_split = 90 is 0.8253209913406987\n",
      "The accuracy of min_sample_split = 91 is 0.8253209913406987\n",
      "The accuracy of min_sample_split = 92 is 0.8247237981487011\n",
      "The accuracy of min_sample_split = 93 is 0.8232308151687071\n",
      "The accuracy of min_sample_split = 94 is 0.8232308151687071\n",
      "The accuracy of min_sample_split = 95 is 0.8214392355927143\n",
      "The accuracy of min_sample_split = 96 is 0.8217378321887131\n",
      "The accuracy of min_sample_split = 97 is 0.8217378321887131\n",
      "The accuracy of min_sample_split = 98 is 0.8217378321887131\n",
      "The accuracy of min_sample_split = 99 is 0.8217378321887131\n"
     ]
    }
   ],
   "source": [
    "acc_list = []\n",
    "split_list = []\n",
    "for i in range(2,100):\n",
    "    dt2 = DecisionTreeClassifier(min_samples_split = i)\n",
    "    dt2.fit(xtrain, ytrain)\n",
    "    ypred = dt2.predict(xtest)\n",
    "    ac = accuracy_score(ytest, ypred)\n",
    "   \n",
    "    acc_list.append(ac)\n",
    "    split_list.append(i)\n",
    "    \n",
    "    print(f\"The accuracy of min_sample_split = {i} is {ac}\")"
   ]
  },
  {
   "cell_type": "code",
   "execution_count": 30,
   "id": "657e65ff",
   "metadata": {},
   "outputs": [
    {
     "name": "stdout",
     "output_type": "stream",
     "text": [
      "We observed that, Highest accuracy of our dt model we get when its min_sample_split is 81\n"
     ]
    }
   ],
   "source": [
    "max_acc = acc_list[0]\n",
    "for i in range(1,len(acc_list)):\n",
    "    if acc_list[i] > max_acc:\n",
    "        max_acc = acc_list[i]\n",
    "        \n",
    "max_index = acc_list.index(max_acc)\n",
    "print(f\"We observed that, Highest accuracy of our dt model we get when its min_sample_split is {max_index + 2}\")"
   ]
  },
  {
   "cell_type": "code",
   "execution_count": 31,
   "id": "aa089a09",
   "metadata": {},
   "outputs": [
    {
     "name": "stdout",
     "output_type": "stream",
     "text": [
      "Accuracy is 0.8268139743206927 \n",
      "\n",
      " Classifcation report \n",
      "               precision    recall  f1-score   support\n",
      "\n",
      "           0       0.84      0.82      0.83      1742\n",
      "           1       0.81      0.83      0.82      1607\n",
      "\n",
      "    accuracy                           0.83      3349\n",
      "   macro avg       0.83      0.83      0.83      3349\n",
      "weighted avg       0.83      0.83      0.83      3349\n",
      "\n"
     ]
    }
   ],
   "source": [
    "dt3 = DecisionTreeClassifier(min_samples_split = 81)\n",
    "mymodel(dt3)"
   ]
  },
  {
   "cell_type": "code",
   "execution_count": 32,
   "id": "e279e94d",
   "metadata": {},
   "outputs": [
    {
     "data": {
      "text/plain": [
       "0.8622808140279022"
      ]
     },
     "execution_count": 32,
     "metadata": {},
     "output_type": "execute_result"
    }
   ],
   "source": [
    "dt3.score(xtrain, ytrain)"
   ]
  },
  {
   "cell_type": "markdown",
   "id": "81939a3c",
   "metadata": {},
   "source": [
    "3.MIN_SAMPLES_LEAF"
   ]
  },
  {
   "cell_type": "code",
   "execution_count": 37,
   "id": "aa11539b",
   "metadata": {},
   "outputs": [
    {
     "name": "stdout",
     "output_type": "stream",
     "text": [
      "The accuracy of min_samples_leaf = 1 is 0.7817258883248731\n",
      "The accuracy of min_samples_leaf = 2 is 0.7826216781128695\n",
      "The accuracy of min_samples_leaf = 3 is 0.7921767691848313\n",
      "The accuracy of min_samples_leaf = 4 is 0.787996416840848\n",
      "The accuracy of min_samples_leaf = 5 is 0.7978501045088086\n",
      "The accuracy of min_samples_leaf = 6 is 0.795759928336817\n",
      "The accuracy of min_samples_leaf = 7 is 0.798745894296805\n",
      "The accuracy of min_samples_leaf = 8 is 0.8005374738727978\n",
      "The accuracy of min_samples_leaf = 9 is 0.8071065989847716\n",
      "The accuracy of min_samples_leaf = 10 is 0.815765900268737\n",
      "The accuracy of min_samples_leaf = 11 is 0.8136757240967453\n",
      "The accuracy of min_samples_leaf = 12 is 0.8169602866527321\n",
      "The accuracy of min_samples_leaf = 13 is 0.8178560764407286\n",
      "The accuracy of min_samples_leaf = 14 is 0.8238280083607047\n",
      "The accuracy of min_samples_leaf = 15 is 0.8250223947447\n",
      "The accuracy of min_samples_leaf = 16 is 0.8259181845326963\n",
      "The accuracy of min_samples_leaf = 17 is 0.8274111675126904\n",
      "The accuracy of min_samples_leaf = 18 is 0.8262167811286951\n",
      "The accuracy of min_samples_leaf = 19 is 0.8274111675126904\n",
      "The accuracy of min_samples_leaf = 20 is 0.8283069573006868\n",
      "The accuracy of min_samples_leaf = 21 is 0.828008360704688\n",
      "The accuracy of min_samples_leaf = 22 is 0.8300985368766796\n",
      "The accuracy of min_samples_leaf = 23 is 0.8336816960286653\n",
      "The accuracy of min_samples_leaf = 24 is 0.8360704687966557\n",
      "The accuracy of min_samples_leaf = 25 is 0.8324873096446701\n",
      "The accuracy of min_samples_leaf = 26 is 0.8318901164526724\n",
      "The accuracy of min_samples_leaf = 27 is 0.828008360704688\n",
      "The accuracy of min_samples_leaf = 28 is 0.8330845028366677\n",
      "The accuracy of min_samples_leaf = 29 is 0.8324873096446701\n",
      "The accuracy of min_samples_leaf = 30 is 0.8315915198566737\n",
      "The accuracy of min_samples_leaf = 31 is 0.8351746790086593\n",
      "The accuracy of min_samples_leaf = 32 is 0.8327859062406688\n",
      "The accuracy of min_samples_leaf = 33 is 0.8300985368766796\n",
      "The accuracy of min_samples_leaf = 34 is 0.8321887130486713\n",
      "The accuracy of min_samples_leaf = 35 is 0.8345774858166617\n",
      "The accuracy of min_samples_leaf = 36 is 0.8318901164526724\n",
      "The accuracy of min_samples_leaf = 37 is 0.8315915198566737\n",
      "The accuracy of min_samples_leaf = 38 is 0.8300985368766796\n",
      "The accuracy of min_samples_leaf = 39 is 0.8351746790086593\n",
      "The accuracy of min_samples_leaf = 40 is 0.8351746790086593\n",
      "The accuracy of min_samples_leaf = 41 is 0.8336816960286653\n",
      "The accuracy of min_samples_leaf = 42 is 0.8289041504926844\n",
      "The accuracy of min_samples_leaf = 43 is 0.8297999402806808\n",
      "The accuracy of min_samples_leaf = 44 is 0.829501343684682\n",
      "The accuracy of min_samples_leaf = 45 is 0.8303971334726784\n",
      "The accuracy of min_samples_leaf = 46 is 0.8292027470886831\n",
      "The accuracy of min_samples_leaf = 47 is 0.8277097641086891\n",
      "The accuracy of min_samples_leaf = 48 is 0.8277097641086891\n",
      "The accuracy of min_samples_leaf = 49 is 0.8286055538966856\n"
     ]
    }
   ],
   "source": [
    "acc_list = []\n",
    "leaf_list = []\n",
    "for i in range(1,50):\n",
    "    dt4 = DecisionTreeClassifier(min_samples_leaf = i)\n",
    "    dt4.fit(xtrain, ytrain)\n",
    "    ypred = dt4.predict(xtest)\n",
    "    ac = accuracy_score(ytest, ypred)\n",
    "    \n",
    "    acc_list.append(ac)\n",
    "    leaf_list.append(i)\n",
    "    \n",
    "    print(f\"The accuracy of min_samples_leaf = {i} is {ac}\")"
   ]
  },
  {
   "cell_type": "code",
   "execution_count": 38,
   "id": "373ab3c1",
   "metadata": {},
   "outputs": [
    {
     "name": "stdout",
     "output_type": "stream",
     "text": [
      "We observed that, Highest accuracy of our model we get when its min_samples_leaf is 24\n"
     ]
    }
   ],
   "source": [
    "max_acc = acc_list[0]\n",
    "for i in range(1,len(acc_list)):\n",
    "    if acc_list[i] > max_acc:\n",
    "        max_acc = acc_list[i]\n",
    "max_index = acc_list.index(max_acc)\n",
    "print(f\"We observed that, Highest accuracy of our model we get when its min_samples_leaf is {max_index + 1}\")"
   ]
  },
  {
   "cell_type": "code",
   "execution_count": 39,
   "id": "508d7c6c",
   "metadata": {},
   "outputs": [
    {
     "name": "stdout",
     "output_type": "stream",
     "text": [
      "Accuracy is 0.8348760824126605 \n",
      "\n",
      " Classifcation report \n",
      "               precision    recall  f1-score   support\n",
      "\n",
      "           0       0.87      0.81      0.84      1742\n",
      "           1       0.80      0.87      0.83      1607\n",
      "\n",
      "    accuracy                           0.83      3349\n",
      "   macro avg       0.84      0.84      0.83      3349\n",
      "weighted avg       0.84      0.83      0.83      3349\n",
      "\n"
     ]
    }
   ],
   "source": [
    "dt5 = DecisionTreeClassifier(min_samples_leaf  = 24)\n",
    "mymodel(dt5)"
   ]
  },
  {
   "cell_type": "code",
   "execution_count": 40,
   "id": "6fe07903",
   "metadata": {
    "scrolled": false
   },
   "outputs": [
    {
     "data": {
      "text/plain": [
       "0.8531933956226802"
      ]
     },
     "execution_count": 40,
     "metadata": {},
     "output_type": "execute_result"
    }
   ],
   "source": [
    "dt5.score(xtrain, ytrain)"
   ]
  },
  {
   "cell_type": "code",
   "execution_count": 42,
   "id": "889c1879",
   "metadata": {
    "scrolled": true
   },
   "outputs": [
    {
     "name": "stdout",
     "output_type": "stream",
     "text": [
      "Accuracy is 0.817258883248731 \n",
      "\n",
      " Classifcation report \n",
      "               precision    recall  f1-score   support\n",
      "\n",
      "           0       0.81      0.84      0.83      1742\n",
      "           1       0.82      0.79      0.81      1607\n",
      "\n",
      "    accuracy                           0.82      3349\n",
      "   macro avg       0.82      0.82      0.82      3349\n",
      "weighted avg       0.82      0.82      0.82      3349\n",
      "\n"
     ]
    }
   ],
   "source": [
    "dt6 = DecisionTreeClassifier(max_depth = 7, min_samples_split = 81, min_samples_leaf = 24)\n",
    "mymodel(dt6)"
   ]
  },
  {
   "cell_type": "code",
   "execution_count": 43,
   "id": "28a7201d",
   "metadata": {},
   "outputs": [
    {
     "data": {
      "text/plain": [
       "0.8233713042365288"
      ]
     },
     "execution_count": 43,
     "metadata": {},
     "output_type": "execute_result"
    }
   ],
   "source": [
    "dt6.score(xtrain, ytrain)"
   ]
  }
 ],
 "metadata": {
  "kernelspec": {
   "display_name": "Python 3 (ipykernel)",
   "language": "python",
   "name": "python3"
  },
  "language_info": {
   "codemirror_mode": {
    "name": "ipython",
    "version": 3
   },
   "file_extension": ".py",
   "mimetype": "text/x-python",
   "name": "python",
   "nbconvert_exporter": "python",
   "pygments_lexer": "ipython3",
   "version": "3.11.4"
  }
 },
 "nbformat": 4,
 "nbformat_minor": 5
}
