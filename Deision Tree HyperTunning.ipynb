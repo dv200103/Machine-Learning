{
 "cells": [
  {
   "cell_type": "code",
   "execution_count": 1,
   "id": "94ce9bc8",
   "metadata": {},
   "outputs": [],
   "source": [
    "import numpy as np \n",
    "import pandas as pd\n",
    "import matplotlib.pyplot as plt \n",
    "import seaborn as sns\n",
    "from sklearn.model_selection import train_test_split, cross_val_score \n",
    "from sklearn.linear_model import LogisticRegression\n",
    "from sklearn.svm import SVC\n",
    "from sklearn.neighbors import KNeighborsClassifier\n",
    "from sklearn.tree import DecisionTreeClassifier\n",
    "from sklearn.metrics import accuracy_score, classification_report\n",
    "import warnings\n",
    "warnings.filterwarnings(\"ignore\")"
   ]
  },
  {
   "cell_type": "code",
   "execution_count": 2,
   "id": "1203d8c4",
   "metadata": {},
   "outputs": [
    {
     "data": {
      "text/html": [
       "<div>\n",
       "<style scoped>\n",
       "    .dataframe tbody tr th:only-of-type {\n",
       "        vertical-align: middle;\n",
       "    }\n",
       "\n",
       "    .dataframe tbody tr th {\n",
       "        vertical-align: top;\n",
       "    }\n",
       "\n",
       "    .dataframe thead th {\n",
       "        text-align: right;\n",
       "    }\n",
       "</style>\n",
       "<table border=\"1\" class=\"dataframe\">\n",
       "  <thead>\n",
       "    <tr style=\"text-align: right;\">\n",
       "      <th></th>\n",
       "      <th>age</th>\n",
       "      <th>job</th>\n",
       "      <th>marital</th>\n",
       "      <th>education</th>\n",
       "      <th>default</th>\n",
       "      <th>balance</th>\n",
       "      <th>housing</th>\n",
       "      <th>loan</th>\n",
       "      <th>contact</th>\n",
       "      <th>day</th>\n",
       "      <th>month</th>\n",
       "      <th>duration</th>\n",
       "      <th>campaign</th>\n",
       "      <th>pdays</th>\n",
       "      <th>previous</th>\n",
       "      <th>poutcome</th>\n",
       "      <th>deposit</th>\n",
       "    </tr>\n",
       "  </thead>\n",
       "  <tbody>\n",
       "    <tr>\n",
       "      <th>0</th>\n",
       "      <td>59</td>\n",
       "      <td>0</td>\n",
       "      <td>1</td>\n",
       "      <td>1</td>\n",
       "      <td>0</td>\n",
       "      <td>2343</td>\n",
       "      <td>1</td>\n",
       "      <td>0</td>\n",
       "      <td>2</td>\n",
       "      <td>5</td>\n",
       "      <td>8</td>\n",
       "      <td>1042</td>\n",
       "      <td>1</td>\n",
       "      <td>-1</td>\n",
       "      <td>0</td>\n",
       "      <td>3</td>\n",
       "      <td>1</td>\n",
       "    </tr>\n",
       "    <tr>\n",
       "      <th>1</th>\n",
       "      <td>56</td>\n",
       "      <td>0</td>\n",
       "      <td>1</td>\n",
       "      <td>1</td>\n",
       "      <td>0</td>\n",
       "      <td>45</td>\n",
       "      <td>0</td>\n",
       "      <td>0</td>\n",
       "      <td>2</td>\n",
       "      <td>5</td>\n",
       "      <td>8</td>\n",
       "      <td>1467</td>\n",
       "      <td>1</td>\n",
       "      <td>-1</td>\n",
       "      <td>0</td>\n",
       "      <td>3</td>\n",
       "      <td>1</td>\n",
       "    </tr>\n",
       "    <tr>\n",
       "      <th>2</th>\n",
       "      <td>41</td>\n",
       "      <td>9</td>\n",
       "      <td>1</td>\n",
       "      <td>1</td>\n",
       "      <td>0</td>\n",
       "      <td>1270</td>\n",
       "      <td>1</td>\n",
       "      <td>0</td>\n",
       "      <td>2</td>\n",
       "      <td>5</td>\n",
       "      <td>8</td>\n",
       "      <td>1389</td>\n",
       "      <td>1</td>\n",
       "      <td>-1</td>\n",
       "      <td>0</td>\n",
       "      <td>3</td>\n",
       "      <td>1</td>\n",
       "    </tr>\n",
       "    <tr>\n",
       "      <th>3</th>\n",
       "      <td>55</td>\n",
       "      <td>7</td>\n",
       "      <td>1</td>\n",
       "      <td>1</td>\n",
       "      <td>0</td>\n",
       "      <td>2476</td>\n",
       "      <td>1</td>\n",
       "      <td>0</td>\n",
       "      <td>2</td>\n",
       "      <td>5</td>\n",
       "      <td>8</td>\n",
       "      <td>579</td>\n",
       "      <td>1</td>\n",
       "      <td>-1</td>\n",
       "      <td>0</td>\n",
       "      <td>3</td>\n",
       "      <td>1</td>\n",
       "    </tr>\n",
       "    <tr>\n",
       "      <th>4</th>\n",
       "      <td>54</td>\n",
       "      <td>0</td>\n",
       "      <td>1</td>\n",
       "      <td>2</td>\n",
       "      <td>0</td>\n",
       "      <td>184</td>\n",
       "      <td>0</td>\n",
       "      <td>0</td>\n",
       "      <td>2</td>\n",
       "      <td>5</td>\n",
       "      <td>8</td>\n",
       "      <td>673</td>\n",
       "      <td>2</td>\n",
       "      <td>-1</td>\n",
       "      <td>0</td>\n",
       "      <td>3</td>\n",
       "      <td>1</td>\n",
       "    </tr>\n",
       "  </tbody>\n",
       "</table>\n",
       "</div>"
      ],
      "text/plain": [
       "   age  job  marital  education  default  balance  housing  loan  contact  \\\n",
       "0   59    0        1          1        0     2343        1     0        2   \n",
       "1   56    0        1          1        0       45        0     0        2   \n",
       "2   41    9        1          1        0     1270        1     0        2   \n",
       "3   55    7        1          1        0     2476        1     0        2   \n",
       "4   54    0        1          2        0      184        0     0        2   \n",
       "\n",
       "   day  month  duration  campaign  pdays  previous  poutcome  deposit  \n",
       "0    5      8      1042         1     -1         0         3        1  \n",
       "1    5      8      1467         1     -1         0         3        1  \n",
       "2    5      8      1389         1     -1         0         3        1  \n",
       "3    5      8       579         1     -1         0         3        1  \n",
       "4    5      8       673         2     -1         0         3        1  "
      ]
     },
     "execution_count": 2,
     "metadata": {},
     "output_type": "execute_result"
    }
   ],
   "source": [
    "df =pd.read_csv(r\"bank_Dataset for DT.csv\")\n",
    "df.head()"
   ]
  },
  {
   "cell_type": "code",
   "execution_count": 3,
   "id": "11c14ab2",
   "metadata": {},
   "outputs": [
    {
     "data": {
      "text/plain": [
       "0    5873\n",
       "1    5289\n",
       "Name: deposit, dtype: int64"
      ]
     },
     "execution_count": 3,
     "metadata": {},
     "output_type": "execute_result"
    }
   ],
   "source": [
    "df[\"deposit\"].value_counts()"
   ]
  },
  {
   "cell_type": "code",
   "execution_count": 4,
   "id": "f22cbb46",
   "metadata": {},
   "outputs": [
    {
     "name": "stdout",
     "output_type": "stream",
     "text": [
      "<class 'pandas.core.frame.DataFrame'>\n",
      "RangeIndex: 11162 entries, 0 to 11161\n",
      "Data columns (total 17 columns):\n",
      " #   Column     Non-Null Count  Dtype\n",
      "---  ------     --------------  -----\n",
      " 0   age        11162 non-null  int64\n",
      " 1   job        11162 non-null  int64\n",
      " 2   marital    11162 non-null  int64\n",
      " 3   education  11162 non-null  int64\n",
      " 4   default    11162 non-null  int64\n",
      " 5   balance    11162 non-null  int64\n",
      " 6   housing    11162 non-null  int64\n",
      " 7   loan       11162 non-null  int64\n",
      " 8   contact    11162 non-null  int64\n",
      " 9   day        11162 non-null  int64\n",
      " 10  month      11162 non-null  int64\n",
      " 11  duration   11162 non-null  int64\n",
      " 12  campaign   11162 non-null  int64\n",
      " 13  pdays      11162 non-null  int64\n",
      " 14  previous   11162 non-null  int64\n",
      " 15  poutcome   11162 non-null  int64\n",
      " 16  deposit    11162 non-null  int64\n",
      "dtypes: int64(17)\n",
      "memory usage: 1.4 MB\n"
     ]
    }
   ],
   "source": [
    "df.info()"
   ]
  },
  {
   "cell_type": "code",
   "execution_count": 5,
   "id": "9d8de050",
   "metadata": {},
   "outputs": [
    {
     "data": {
      "text/html": [
       "<div>\n",
       "<style scoped>\n",
       "    .dataframe tbody tr th:only-of-type {\n",
       "        vertical-align: middle;\n",
       "    }\n",
       "\n",
       "    .dataframe tbody tr th {\n",
       "        vertical-align: top;\n",
       "    }\n",
       "\n",
       "    .dataframe thead th {\n",
       "        text-align: right;\n",
       "    }\n",
       "</style>\n",
       "<table border=\"1\" class=\"dataframe\">\n",
       "  <thead>\n",
       "    <tr style=\"text-align: right;\">\n",
       "      <th></th>\n",
       "      <th>age</th>\n",
       "      <th>job</th>\n",
       "      <th>marital</th>\n",
       "      <th>education</th>\n",
       "      <th>default</th>\n",
       "      <th>balance</th>\n",
       "      <th>housing</th>\n",
       "      <th>loan</th>\n",
       "      <th>contact</th>\n",
       "      <th>day</th>\n",
       "      <th>month</th>\n",
       "      <th>duration</th>\n",
       "      <th>campaign</th>\n",
       "      <th>pdays</th>\n",
       "      <th>previous</th>\n",
       "      <th>poutcome</th>\n",
       "    </tr>\n",
       "  </thead>\n",
       "  <tbody>\n",
       "    <tr>\n",
       "      <th>0</th>\n",
       "      <td>59</td>\n",
       "      <td>0</td>\n",
       "      <td>1</td>\n",
       "      <td>1</td>\n",
       "      <td>0</td>\n",
       "      <td>2343</td>\n",
       "      <td>1</td>\n",
       "      <td>0</td>\n",
       "      <td>2</td>\n",
       "      <td>5</td>\n",
       "      <td>8</td>\n",
       "      <td>1042</td>\n",
       "      <td>1</td>\n",
       "      <td>-1</td>\n",
       "      <td>0</td>\n",
       "      <td>3</td>\n",
       "    </tr>\n",
       "    <tr>\n",
       "      <th>1</th>\n",
       "      <td>56</td>\n",
       "      <td>0</td>\n",
       "      <td>1</td>\n",
       "      <td>1</td>\n",
       "      <td>0</td>\n",
       "      <td>45</td>\n",
       "      <td>0</td>\n",
       "      <td>0</td>\n",
       "      <td>2</td>\n",
       "      <td>5</td>\n",
       "      <td>8</td>\n",
       "      <td>1467</td>\n",
       "      <td>1</td>\n",
       "      <td>-1</td>\n",
       "      <td>0</td>\n",
       "      <td>3</td>\n",
       "    </tr>\n",
       "    <tr>\n",
       "      <th>2</th>\n",
       "      <td>41</td>\n",
       "      <td>9</td>\n",
       "      <td>1</td>\n",
       "      <td>1</td>\n",
       "      <td>0</td>\n",
       "      <td>1270</td>\n",
       "      <td>1</td>\n",
       "      <td>0</td>\n",
       "      <td>2</td>\n",
       "      <td>5</td>\n",
       "      <td>8</td>\n",
       "      <td>1389</td>\n",
       "      <td>1</td>\n",
       "      <td>-1</td>\n",
       "      <td>0</td>\n",
       "      <td>3</td>\n",
       "    </tr>\n",
       "    <tr>\n",
       "      <th>3</th>\n",
       "      <td>55</td>\n",
       "      <td>7</td>\n",
       "      <td>1</td>\n",
       "      <td>1</td>\n",
       "      <td>0</td>\n",
       "      <td>2476</td>\n",
       "      <td>1</td>\n",
       "      <td>0</td>\n",
       "      <td>2</td>\n",
       "      <td>5</td>\n",
       "      <td>8</td>\n",
       "      <td>579</td>\n",
       "      <td>1</td>\n",
       "      <td>-1</td>\n",
       "      <td>0</td>\n",
       "      <td>3</td>\n",
       "    </tr>\n",
       "    <tr>\n",
       "      <th>4</th>\n",
       "      <td>54</td>\n",
       "      <td>0</td>\n",
       "      <td>1</td>\n",
       "      <td>2</td>\n",
       "      <td>0</td>\n",
       "      <td>184</td>\n",
       "      <td>0</td>\n",
       "      <td>0</td>\n",
       "      <td>2</td>\n",
       "      <td>5</td>\n",
       "      <td>8</td>\n",
       "      <td>673</td>\n",
       "      <td>2</td>\n",
       "      <td>-1</td>\n",
       "      <td>0</td>\n",
       "      <td>3</td>\n",
       "    </tr>\n",
       "    <tr>\n",
       "      <th>...</th>\n",
       "      <td>...</td>\n",
       "      <td>...</td>\n",
       "      <td>...</td>\n",
       "      <td>...</td>\n",
       "      <td>...</td>\n",
       "      <td>...</td>\n",
       "      <td>...</td>\n",
       "      <td>...</td>\n",
       "      <td>...</td>\n",
       "      <td>...</td>\n",
       "      <td>...</td>\n",
       "      <td>...</td>\n",
       "      <td>...</td>\n",
       "      <td>...</td>\n",
       "      <td>...</td>\n",
       "      <td>...</td>\n",
       "    </tr>\n",
       "    <tr>\n",
       "      <th>11157</th>\n",
       "      <td>33</td>\n",
       "      <td>1</td>\n",
       "      <td>2</td>\n",
       "      <td>0</td>\n",
       "      <td>0</td>\n",
       "      <td>1</td>\n",
       "      <td>1</td>\n",
       "      <td>0</td>\n",
       "      <td>0</td>\n",
       "      <td>20</td>\n",
       "      <td>0</td>\n",
       "      <td>257</td>\n",
       "      <td>1</td>\n",
       "      <td>-1</td>\n",
       "      <td>0</td>\n",
       "      <td>3</td>\n",
       "    </tr>\n",
       "    <tr>\n",
       "      <th>11158</th>\n",
       "      <td>39</td>\n",
       "      <td>7</td>\n",
       "      <td>1</td>\n",
       "      <td>1</td>\n",
       "      <td>0</td>\n",
       "      <td>733</td>\n",
       "      <td>0</td>\n",
       "      <td>0</td>\n",
       "      <td>2</td>\n",
       "      <td>16</td>\n",
       "      <td>6</td>\n",
       "      <td>83</td>\n",
       "      <td>4</td>\n",
       "      <td>-1</td>\n",
       "      <td>0</td>\n",
       "      <td>3</td>\n",
       "    </tr>\n",
       "    <tr>\n",
       "      <th>11159</th>\n",
       "      <td>32</td>\n",
       "      <td>9</td>\n",
       "      <td>2</td>\n",
       "      <td>1</td>\n",
       "      <td>0</td>\n",
       "      <td>29</td>\n",
       "      <td>0</td>\n",
       "      <td>0</td>\n",
       "      <td>0</td>\n",
       "      <td>19</td>\n",
       "      <td>1</td>\n",
       "      <td>156</td>\n",
       "      <td>2</td>\n",
       "      <td>-1</td>\n",
       "      <td>0</td>\n",
       "      <td>3</td>\n",
       "    </tr>\n",
       "    <tr>\n",
       "      <th>11160</th>\n",
       "      <td>43</td>\n",
       "      <td>9</td>\n",
       "      <td>1</td>\n",
       "      <td>1</td>\n",
       "      <td>0</td>\n",
       "      <td>0</td>\n",
       "      <td>0</td>\n",
       "      <td>1</td>\n",
       "      <td>0</td>\n",
       "      <td>8</td>\n",
       "      <td>8</td>\n",
       "      <td>9</td>\n",
       "      <td>2</td>\n",
       "      <td>172</td>\n",
       "      <td>5</td>\n",
       "      <td>0</td>\n",
       "    </tr>\n",
       "    <tr>\n",
       "      <th>11161</th>\n",
       "      <td>34</td>\n",
       "      <td>9</td>\n",
       "      <td>1</td>\n",
       "      <td>1</td>\n",
       "      <td>0</td>\n",
       "      <td>0</td>\n",
       "      <td>0</td>\n",
       "      <td>0</td>\n",
       "      <td>0</td>\n",
       "      <td>9</td>\n",
       "      <td>5</td>\n",
       "      <td>628</td>\n",
       "      <td>1</td>\n",
       "      <td>-1</td>\n",
       "      <td>0</td>\n",
       "      <td>3</td>\n",
       "    </tr>\n",
       "  </tbody>\n",
       "</table>\n",
       "<p>11162 rows × 16 columns</p>\n",
       "</div>"
      ],
      "text/plain": [
       "       age  job  marital  education  default  balance  housing  loan  contact  \\\n",
       "0       59    0        1          1        0     2343        1     0        2   \n",
       "1       56    0        1          1        0       45        0     0        2   \n",
       "2       41    9        1          1        0     1270        1     0        2   \n",
       "3       55    7        1          1        0     2476        1     0        2   \n",
       "4       54    0        1          2        0      184        0     0        2   \n",
       "...    ...  ...      ...        ...      ...      ...      ...   ...      ...   \n",
       "11157   33    1        2          0        0        1        1     0        0   \n",
       "11158   39    7        1          1        0      733        0     0        2   \n",
       "11159   32    9        2          1        0       29        0     0        0   \n",
       "11160   43    9        1          1        0        0        0     1        0   \n",
       "11161   34    9        1          1        0        0        0     0        0   \n",
       "\n",
       "       day  month  duration  campaign  pdays  previous  poutcome  \n",
       "0        5      8      1042         1     -1         0         3  \n",
       "1        5      8      1467         1     -1         0         3  \n",
       "2        5      8      1389         1     -1         0         3  \n",
       "3        5      8       579         1     -1         0         3  \n",
       "4        5      8       673         2     -1         0         3  \n",
       "...    ...    ...       ...       ...    ...       ...       ...  \n",
       "11157   20      0       257         1     -1         0         3  \n",
       "11158   16      6        83         4     -1         0         3  \n",
       "11159   19      1       156         2     -1         0         3  \n",
       "11160    8      8         9         2    172         5         0  \n",
       "11161    9      5       628         1     -1         0         3  \n",
       "\n",
       "[11162 rows x 16 columns]"
      ]
     },
     "execution_count": 5,
     "metadata": {},
     "output_type": "execute_result"
    }
   ],
   "source": [
    "#separate x and y\n",
    "x=df.iloc[:,:-1]\n",
    "x"
   ]
  },
  {
   "cell_type": "code",
   "execution_count": 6,
   "id": "32ee8a53",
   "metadata": {},
   "outputs": [
    {
     "data": {
      "text/plain": [
       "0        1\n",
       "1        1\n",
       "2        1\n",
       "3        1\n",
       "4        1\n",
       "        ..\n",
       "11157    0\n",
       "11158    0\n",
       "11159    0\n",
       "11160    0\n",
       "11161    0\n",
       "Name: deposit, Length: 11162, dtype: int64"
      ]
     },
     "execution_count": 6,
     "metadata": {},
     "output_type": "execute_result"
    }
   ],
   "source": [
    "y=df[\"deposit\"]\n",
    "y"
   ]
  },
  {
   "cell_type": "code",
   "execution_count": 7,
   "id": "f3a4ef8c",
   "metadata": {},
   "outputs": [],
   "source": [
    "xtrain,xtest,ytrain,ytest= train_test_split(x,y,test_size=0.30,random_state=42)"
   ]
  },
  {
   "cell_type": "code",
   "execution_count": 8,
   "id": "f5d4ece0",
   "metadata": {},
   "outputs": [],
   "source": [
    "lr=LogisticRegression()\n",
    "#knn=KNeighborsClassifier()\n",
    "#svm=SVC()\n",
    "dt=DecisionTreeClassifier()"
   ]
  },
  {
   "cell_type": "code",
   "execution_count": 9,
   "id": "fb58c5c8",
   "metadata": {
    "collapsed": true
   },
   "outputs": [
    {
     "name": "stdout",
     "output_type": "stream",
     "text": [
      "Accuracy: 0.7476858763810093 \n",
      "\n",
      " Classification Report \n",
      "               precision    recall  f1-score   support\n",
      "\n",
      "           0       0.74      0.80      0.77      1742\n",
      "           1       0.76      0.69      0.72      1607\n",
      "\n",
      "    accuracy                           0.75      3349\n",
      "   macro avg       0.75      0.75      0.75      3349\n",
      "weighted avg       0.75      0.75      0.75      3349\n",
      "\n"
     ]
    }
   ],
   "source": [
    "lr.fit(xtrain,ytrain) # Training the model on Logistic Regression Algo\n",
    "ypred=lr.predict(xtest) # Prediction after training the Model on Logistic Regression\n",
    "ac=accuracy_score(ytest,ypred)\n",
    "cr = classification_report(ytest,ypred)\n",
    "print(f\"Accuracy: {ac} \\n\\n Classification Report \\n {cr}\")"
   ]
  },
  {
   "cell_type": "code",
   "execution_count": 26,
   "id": "d329d475",
   "metadata": {},
   "outputs": [
    {
     "name": "stdout",
     "output_type": "stream",
     "text": [
      "Accuracy: 0.7799343087488803 \n",
      "\n",
      " Classification Report \n",
      "               precision    recall  f1-score   support\n",
      "\n",
      "           0       0.79      0.79      0.79      1742\n",
      "           1       0.77      0.77      0.77      1607\n",
      "\n",
      "    accuracy                           0.78      3349\n",
      "   macro avg       0.78      0.78      0.78      3349\n",
      "weighted avg       0.78      0.78      0.78      3349\n",
      "\n"
     ]
    }
   ],
   "source": [
    "dt.fit(xtrain,ytrain) # Training the model on Logistic Regression Algo\n",
    "ypred=dt.predict(xtest) # Prediction after training the Model on Logistic Regression\n",
    "ac=accuracy_score(ytest,ypred)\n",
    "cr = classification_report(ytest,ypred)\n",
    "print(f\"Accuracy: {ac} \\n\\n Classification Report \\n {cr}\")"
   ]
  },
  {
   "cell_type": "code",
   "execution_count": 28,
   "id": "2752dad0",
   "metadata": {},
   "outputs": [],
   "source": [
    "def mymodel(model):\n",
    "    model.fit(xtrain,ytrain)\n",
    "    ypred=model.predict(xtest)\n",
    "    ac=accuracy_score(ytest,ypred)\n",
    "    cr = classification_report(ytest,ypred)\n",
    "    print(f\"Accuracy: {ac} \\n\\n Classification Report \\n {cr}\")"
   ]
  },
  {
   "cell_type": "code",
   "execution_count": 29,
   "id": "6624418f",
   "metadata": {},
   "outputs": [
    {
     "name": "stdout",
     "output_type": "stream",
     "text": [
      "Accuracy: 0.7823230815168707 \n",
      "\n",
      " Classification Report \n",
      "               precision    recall  f1-score   support\n",
      "\n",
      "           0       0.79      0.80      0.79      1742\n",
      "           1       0.78      0.77      0.77      1607\n",
      "\n",
      "    accuracy                           0.78      3349\n",
      "   macro avg       0.78      0.78      0.78      3349\n",
      "weighted avg       0.78      0.78      0.78      3349\n",
      "\n"
     ]
    }
   ],
   "source": [
    "mymodel(dt)"
   ]
  },
  {
   "cell_type": "code",
   "execution_count": 30,
   "id": "31030f20",
   "metadata": {},
   "outputs": [
    {
     "name": "stdout",
     "output_type": "stream",
     "text": [
      "Accuracy: 0.7476858763810093 \n",
      "\n",
      " Classification Report \n",
      "               precision    recall  f1-score   support\n",
      "\n",
      "           0       0.74      0.80      0.77      1742\n",
      "           1       0.76      0.69      0.72      1607\n",
      "\n",
      "    accuracy                           0.75      3349\n",
      "   macro avg       0.75      0.75      0.75      3349\n",
      "weighted avg       0.75      0.75      0.75      3349\n",
      "\n"
     ]
    }
   ],
   "source": [
    "mymodel(lr)"
   ]
  },
  {
   "cell_type": "markdown",
   "id": "baf13c49",
   "metadata": {},
   "source": [
    "Check for Overfitting in DT"
   ]
  },
  {
   "cell_type": "code",
   "execution_count": 31,
   "id": "ca4396be",
   "metadata": {},
   "outputs": [
    {
     "data": {
      "text/plain": [
       "1.0"
      ]
     },
     "execution_count": 31,
     "metadata": {},
     "output_type": "execute_result"
    }
   ],
   "source": [
    "dt.score(xtrain,ytrain)"
   ]
  },
  {
   "cell_type": "code",
   "execution_count": 14,
   "id": "e86bb317",
   "metadata": {},
   "outputs": [
    {
     "data": {
      "text/plain": [
       "0.7876978202448492"
      ]
     },
     "execution_count": 14,
     "metadata": {},
     "output_type": "execute_result"
    }
   ],
   "source": [
    "dt.score(xtest,ytest)"
   ]
  },
  {
   "cell_type": "markdown",
   "id": "d46e34db",
   "metadata": {},
   "source": [
    "Low Bias and High Variance : Overfitting"
   ]
  },
  {
   "cell_type": "markdown",
   "id": "8d42b0a0",
   "metadata": {},
   "source": [
    "# HyperTuning DT"
   ]
  },
  {
   "cell_type": "markdown",
   "id": "ff212298",
   "metadata": {},
   "source": [
    "1. MAX_DEPTH"
   ]
  },
  {
   "cell_type": "code",
   "execution_count": 34,
   "id": "59d71b55",
   "metadata": {},
   "outputs": [
    {
     "name": "stdout",
     "output_type": "stream",
     "text": [
      ", We get Accuracy= 0.7055837563451777\n"
     ]
    }
   ],
   "source": [
    "dt1= DecisionTreeClassifier(max_depth=)\n",
    "dt1.fit(xtrain,ytrain)\n",
    "ypred=dt1.predict(xtest)\n",
    "ac=accuracy_score(ytest,ypred)\n",
    "#depth_list.append(i)\n",
    "#acc_list.append(ac)\n",
    "print(f\", We get Accuracy= {ac}\")"
   ]
  },
  {
   "cell_type": "code",
   "execution_count": 35,
   "id": "7961538f",
   "metadata": {},
   "outputs": [
    {
     "data": {
      "text/plain": [
       "0.7249456034813772"
      ]
     },
     "execution_count": 35,
     "metadata": {},
     "output_type": "execute_result"
    }
   ],
   "source": []
  },
  {
   "cell_type": "code",
   "execution_count": null,
   "id": "006f67f2",
   "metadata": {},
   "outputs": [],
   "source": []
  },
  {
   "cell_type": "code",
   "execution_count": 38,
   "id": "a81c315a",
   "metadata": {},
   "outputs": [
    {
     "name": "stdout",
     "output_type": "stream",
     "text": [
      "For max_depth=1, We get Accuracy= 71.06598984771574\n",
      "For max_depth=2, We get Accuracy= 70.55837563451777\n",
      "For max_depth=3, We get Accuracy= 77.5753956404897\n",
      "For max_depth=4, We get Accuracy= 78.14272917288743\n",
      "For max_depth=5, We get Accuracy= 80.38220364287847\n",
      "For max_depth=6, We get Accuracy= 80.59122126007765\n",
      "For max_depth=7, We get Accuracy= 81.5765900268737\n",
      "For max_depth=8, We get Accuracy= 81.30785309047477\n",
      "For max_depth=9, We get Accuracy= 80.59122126007765\n",
      "For max_depth=10, We get Accuracy= 80.59122126007765\n",
      "For max_depth=11, We get Accuracy= 80.8002388772768\n",
      "For max_depth=12, We get Accuracy= 80.3523439832786\n",
      "For max_depth=13, We get Accuracy= 79.69543147208121\n",
      "For max_depth=14, We get Accuracy= 79.48641385488206\n",
      "For max_depth=15, We get Accuracy= 79.33711555688265\n",
      "For max_depth=16, We get Accuracy= 79.30725589728277\n",
      "For max_depth=17, We get Accuracy= 79.03851896088383\n",
      "For max_depth=18, We get Accuracy= 78.6503433860854\n",
      "For max_depth=19, We get Accuracy= 78.7996416840848\n"
     ]
    }
   ],
   "source": [
    "acc_list=[]\n",
    "depth_list=[]\n",
    "for i in range(1,20):\n",
    "    dt1= DecisionTreeClassifier(max_depth=i)\n",
    "    dt1.fit(xtrain,ytrain)\n",
    "    ypred=dt1.predict(xtest)\n",
    "    ac=accuracy_score(ytest,ypred)\n",
    "    \n",
    "    depth_list.append(i)\n",
    "    acc_list.append(ac)\n",
    "    \n",
    "    print(f\"For max_depth={i}, We get Accuracy= {ac*100}\")\n",
    "\n"
   ]
  },
  {
   "cell_type": "code",
   "execution_count": 42,
   "id": "24961df4",
   "metadata": {},
   "outputs": [
    {
     "data": {
      "text/plain": [
       "5"
      ]
     },
     "execution_count": 42,
     "metadata": {},
     "output_type": "execute_result"
    }
   ],
   "source": [
    "list1=[72.3,72.4,71.8,73.01,72.9,73.5,72.11]\n",
    "max_acc=list1[0]\n",
    "for i in range(1,len(list1)):\n",
    "    if max_acc<list1[i]:\n",
    "        max_acc=list1[i]\n",
    "    \n",
    "list1.index(max_acc)"
   ]
  },
  {
   "cell_type": "code",
   "execution_count": 43,
   "id": "fa25ac71",
   "metadata": {},
   "outputs": [
    {
     "name": "stdout",
     "output_type": "stream",
     "text": [
      "We observed that, Highest Accuracy of the DT is achieved when its max_depth is : 7\n"
     ]
    }
   ],
   "source": [
    "# To find the Max Depth giving highest accuracy    \n",
    "max_acc= acc_list[0]\n",
    "for i in range(1, len(acc_list)): \n",
    "    if (acc_list[i] > max_acc):\n",
    "        max_acc = acc_list[i]\n",
    "max_index = acc_list.index(max_acc)\n",
    "print(f\"We observed that, Highest Accuracy of the DT is achieved when its max_depth is : {max_index+1}\")"
   ]
  },
  {
   "cell_type": "code",
   "execution_count": 44,
   "id": "e1b52d6d",
   "metadata": {},
   "outputs": [
    {
     "name": "stdout",
     "output_type": "stream",
     "text": [
      "Accuracy: 0.8133771275007465 \n",
      "\n",
      " Classification Report \n",
      "               precision    recall  f1-score   support\n",
      "\n",
      "           0       0.80      0.86      0.83      1742\n",
      "           1       0.84      0.76      0.80      1607\n",
      "\n",
      "    accuracy                           0.81      3349\n",
      "   macro avg       0.82      0.81      0.81      3349\n",
      "weighted avg       0.82      0.81      0.81      3349\n",
      "\n"
     ]
    }
   ],
   "source": [
    "#Lets build  DT Model with Max_Depth = 7\n",
    "dt2= DecisionTreeClassifier(max_depth=7)\n",
    "mymodel(dt2)"
   ]
  },
  {
   "cell_type": "code",
   "execution_count": 45,
   "id": "d4cbbbf3",
   "metadata": {},
   "outputs": [
    {
     "data": {
      "text/plain": [
       "0.8369384359400999"
      ]
     },
     "execution_count": 45,
     "metadata": {},
     "output_type": "execute_result"
    }
   ],
   "source": [
    "dt2.score(xtrain,ytrain)"
   ]
  },
  {
   "cell_type": "markdown",
   "id": "437c4afb",
   "metadata": {},
   "source": [
    "GREAT!, This has resolved overfitting to a much greater extent !!!"
   ]
  },
  {
   "cell_type": "markdown",
   "id": "2925d1d3",
   "metadata": {},
   "source": [
    "2. MIN_SAMPLE_SPLIT"
   ]
  },
  {
   "cell_type": "code",
   "execution_count": 53,
   "id": "66153e69",
   "metadata": {},
   "outputs": [
    {
     "name": "stdout",
     "output_type": "stream",
     "text": [
      "For min_sample_split=2, We get Accuracy= 0.7769483427888922\n",
      "For min_sample_split=3, We get Accuracy= 0.7814272917288743\n",
      "For min_sample_split=4, We get Accuracy= 0.7805315019408778\n",
      "For min_sample_split=5, We get Accuracy= 0.7802329053448791\n",
      "For min_sample_split=6, We get Accuracy= 0.7814272917288743\n",
      "For min_sample_split=7, We get Accuracy= 0.78501045088086\n",
      "For min_sample_split=8, We get Accuracy= 0.7829202747088683\n",
      "For min_sample_split=9, We get Accuracy= 0.78501045088086\n",
      "For min_sample_split=10, We get Accuracy= 0.78501045088086\n",
      "For min_sample_split=11, We get Accuracy= 0.786503433860854\n",
      "For min_sample_split=12, We get Accuracy= 0.7888922066288444\n",
      "For min_sample_split=13, We get Accuracy= 0.7873992236488504\n",
      "For min_sample_split=14, We get Accuracy= 0.794266945356823\n",
      "For min_sample_split=15, We get Accuracy= 0.7954613317408181\n",
      "For min_sample_split=16, We get Accuracy= 0.7933711555688265\n",
      "For min_sample_split=17, We get Accuracy= 0.795759928336817\n",
      "For min_sample_split=18, We get Accuracy= 0.7933711555688265\n",
      "For min_sample_split=19, We get Accuracy= 0.7963571215288145\n",
      "For min_sample_split=20, We get Accuracy= 0.8005374738727978\n",
      "For min_sample_split=21, We get Accuracy= 0.8020304568527918\n",
      "For min_sample_split=22, We get Accuracy= 0.803523439832786\n",
      "For min_sample_split=23, We get Accuracy= 0.803523439832786\n",
      "For min_sample_split=24, We get Accuracy= 0.8023290534487907\n",
      "For min_sample_split=25, We get Accuracy= 0.8038220364287847\n",
      "For min_sample_split=26, We get Accuracy= 0.8032248432367871\n",
      "For min_sample_split=27, We get Accuracy= 0.80501642281278\n",
      "For min_sample_split=28, We get Accuracy= 0.8038220364287847\n",
      "For min_sample_split=29, We get Accuracy= 0.8041206330247835\n",
      "For min_sample_split=30, We get Accuracy= 0.8041206330247835\n",
      "For min_sample_split=31, We get Accuracy= 0.8011346670647954\n",
      "For min_sample_split=32, We get Accuracy= 0.8032248432367871\n",
      "For min_sample_split=33, We get Accuracy= 0.8068080023887728\n",
      "For min_sample_split=34, We get Accuracy= 0.808002388772768\n",
      "For min_sample_split=35, We get Accuracy= 0.808002388772768\n",
      "For min_sample_split=36, We get Accuracy= 0.808002388772768\n",
      "For min_sample_split=37, We get Accuracy= 0.8088981785607644\n",
      "For min_sample_split=38, We get Accuracy= 0.8071065989847716\n",
      "For min_sample_split=39, We get Accuracy= 0.8077037921767691\n",
      "For min_sample_split=40, We get Accuracy= 0.8074051955807704\n",
      "For min_sample_split=41, We get Accuracy= 0.8085995819647656\n",
      "For min_sample_split=42, We get Accuracy= 0.8097939683487608\n",
      "For min_sample_split=43, We get Accuracy= 0.8091967751567632\n",
      "For min_sample_split=44, We get Accuracy= 0.8088981785607644\n",
      "For min_sample_split=45, We get Accuracy= 0.8103911615407584\n",
      "For min_sample_split=46, We get Accuracy= 0.8103911615407584\n",
      "For min_sample_split=47, We get Accuracy= 0.8115855479247537\n",
      "For min_sample_split=48, We get Accuracy= 0.8118841445207524\n",
      "For min_sample_split=49, We get Accuracy= 0.8118841445207524\n",
      "For min_sample_split=50, We get Accuracy= 0.8121827411167513\n",
      "For min_sample_split=51, We get Accuracy= 0.815765900268737\n",
      "For min_sample_split=52, We get Accuracy= 0.8148701104807405\n",
      "For min_sample_split=53, We get Accuracy= 0.815765900268737\n",
      "For min_sample_split=54, We get Accuracy= 0.8151687070767393\n",
      "For min_sample_split=55, We get Accuracy= 0.8151687070767393\n",
      "For min_sample_split=56, We get Accuracy= 0.8160644968647357\n",
      "For min_sample_split=57, We get Accuracy= 0.815765900268737\n",
      "For min_sample_split=58, We get Accuracy= 0.8151687070767393\n",
      "For min_sample_split=59, We get Accuracy= 0.8166616900567334\n",
      "For min_sample_split=60, We get Accuracy= 0.8178560764407286\n",
      "For min_sample_split=61, We get Accuracy= 0.8178560764407286\n",
      "For min_sample_split=62, We get Accuracy= 0.8178560764407286\n",
      "For min_sample_split=63, We get Accuracy= 0.818751866228725\n",
      "For min_sample_split=64, We get Accuracy= 0.8199462526127202\n",
      "For min_sample_split=65, We get Accuracy= 0.8199462526127202\n",
      "For min_sample_split=66, We get Accuracy= 0.8196476560167214\n",
      "For min_sample_split=67, We get Accuracy= 0.8199462526127202\n",
      "For min_sample_split=68, We get Accuracy= 0.8208420424007167\n",
      "For min_sample_split=69, We get Accuracy= 0.8208420424007167\n",
      "For min_sample_split=70, We get Accuracy= 0.8208420424007167\n",
      "For min_sample_split=71, We get Accuracy= 0.8223350253807107\n",
      "For min_sample_split=72, We get Accuracy= 0.8214392355927143\n",
      "For min_sample_split=73, We get Accuracy= 0.8229322185727083\n",
      "For min_sample_split=74, We get Accuracy= 0.8235294117647058\n",
      "For min_sample_split=75, We get Accuracy= 0.8250223947447\n",
      "For min_sample_split=76, We get Accuracy= 0.8250223947447\n",
      "For min_sample_split=77, We get Accuracy= 0.8250223947447\n",
      "For min_sample_split=78, We get Accuracy= 0.8259181845326963\n",
      "For min_sample_split=79, We get Accuracy= 0.8256195879366975\n",
      "For min_sample_split=80, We get Accuracy= 0.8253209913406987\n",
      "For min_sample_split=81, We get Accuracy= 0.8271125709166915\n",
      "For min_sample_split=82, We get Accuracy= 0.8268139743206927\n",
      "For min_sample_split=83, We get Accuracy= 0.8232308151687071\n",
      "For min_sample_split=84, We get Accuracy= 0.8229322185727083\n",
      "For min_sample_split=85, We get Accuracy= 0.8232308151687071\n",
      "For min_sample_split=86, We get Accuracy= 0.8232308151687071\n",
      "For min_sample_split=87, We get Accuracy= 0.8235294117647058\n",
      "For min_sample_split=88, We get Accuracy= 0.8250223947447\n",
      "For min_sample_split=89, We get Accuracy= 0.8250223947447\n",
      "For min_sample_split=90, We get Accuracy= 0.8253209913406987\n",
      "For min_sample_split=91, We get Accuracy= 0.8253209913406987\n",
      "For min_sample_split=92, We get Accuracy= 0.8247237981487011\n",
      "For min_sample_split=93, We get Accuracy= 0.8232308151687071\n",
      "For min_sample_split=94, We get Accuracy= 0.8232308151687071\n",
      "For min_sample_split=95, We get Accuracy= 0.8214392355927143\n",
      "For min_sample_split=96, We get Accuracy= 0.8217378321887131\n",
      "For min_sample_split=97, We get Accuracy= 0.8217378321887131\n",
      "For min_sample_split=98, We get Accuracy= 0.8217378321887131\n",
      "For min_sample_split=99, We get Accuracy= 0.8217378321887131\n"
     ]
    }
   ],
   "source": [
    "sample_split_list=[]\n",
    "acc_list=[]\n",
    "for i in range(2,100):\n",
    "    dt3= DecisionTreeClassifier(min_samples_split=i)\n",
    "    dt3.fit(xtrain,ytrain)\n",
    "    ypred=dt3.predict(xtest)\n",
    "    ac=accuracy_score(ytest,ypred)\n",
    "    \n",
    "    sample_split_list.append(i)\n",
    "    acc_list.append(ac)\n",
    "    \n",
    "    print(f\"For min_sample_split={i}, We get Accuracy= {ac}\")"
   ]
  },
  {
   "cell_type": "code",
   "execution_count": 54,
   "id": "79959eea",
   "metadata": {},
   "outputs": [
    {
     "name": "stdout",
     "output_type": "stream",
     "text": [
      "We observed that, Highest Accuracy of the DT is achieved when its min_sample_split is : 81\n"
     ]
    }
   ],
   "source": [
    "# To find the Min_sample_split giving highest accuracy    \n",
    "max_acc= acc_list[0]\n",
    "for i in range(1, len(acc_list)): \n",
    "    if (acc_list[i] > max_acc):\n",
    "        max_acc = acc_list[i]\n",
    "max_index = acc_list.index(max_acc)\n",
    "print(f\"We observed that, Highest Accuracy of the DT is achieved when its min_sample_split is : {max_index+2}\")"
   ]
  },
  {
   "cell_type": "code",
   "execution_count": 55,
   "id": "f20cbd12",
   "metadata": {},
   "outputs": [
    {
     "name": "stdout",
     "output_type": "stream",
     "text": [
      "Accuracy: 0.8268139743206927 \n",
      "\n",
      " Classification Report \n",
      "               precision    recall  f1-score   support\n",
      "\n",
      "           0       0.84      0.82      0.83      1742\n",
      "           1       0.81      0.83      0.82      1607\n",
      "\n",
      "    accuracy                           0.83      3349\n",
      "   macro avg       0.83      0.83      0.83      3349\n",
      "weighted avg       0.83      0.83      0.83      3349\n",
      "\n"
     ]
    }
   ],
   "source": [
    "dt4=DecisionTreeClassifier(min_samples_split=81)\n",
    "mymodel(dt4)"
   ]
  },
  {
   "cell_type": "code",
   "execution_count": 56,
   "id": "a84701ec",
   "metadata": {},
   "outputs": [
    {
     "data": {
      "text/plain": [
       "0.8622808140279022"
      ]
     },
     "execution_count": 56,
     "metadata": {},
     "output_type": "execute_result"
    }
   ],
   "source": [
    "dt4.score(xtrain,ytrain)"
   ]
  },
  {
   "cell_type": "code",
   "execution_count": null,
   "id": "477d8066",
   "metadata": {},
   "outputs": [],
   "source": []
  },
  {
   "cell_type": "code",
   "execution_count": 58,
   "id": "ddfb396d",
   "metadata": {},
   "outputs": [
    {
     "name": "stdout",
     "output_type": "stream",
     "text": [
      "For min_sample_leaf=1, We get Accuracy= 0.7796357121528814\n",
      "For min_sample_leaf=2, We get Accuracy= 0.7844132576888624\n",
      "For min_sample_leaf=3, We get Accuracy= 0.7921767691848313\n",
      "For min_sample_leaf=4, We get Accuracy= 0.7906837862048373\n",
      "For min_sample_leaf=5, We get Accuracy= 0.7966557181248134\n",
      "For min_sample_leaf=6, We get Accuracy= 0.7939683487608241\n",
      "For min_sample_leaf=7, We get Accuracy= 0.7975515079128098\n",
      "For min_sample_leaf=8, We get Accuracy= 0.8020304568527918\n",
      "For min_sample_leaf=9, We get Accuracy= 0.8056136160047775\n",
      "For min_sample_leaf=10, We get Accuracy= 0.8166616900567334\n",
      "For min_sample_leaf=11, We get Accuracy= 0.8169602866527321\n",
      "For min_sample_leaf=12, We get Accuracy= 0.8169602866527321\n",
      "For min_sample_leaf=13, We get Accuracy= 0.8178560764407286\n",
      "For min_sample_leaf=14, We get Accuracy= 0.8241266049567035\n",
      "For min_sample_leaf=15, We get Accuracy= 0.8247237981487011\n",
      "For min_sample_leaf=16, We get Accuracy= 0.826515377724694\n",
      "For min_sample_leaf=17, We get Accuracy= 0.8274111675126904\n",
      "For min_sample_leaf=18, We get Accuracy= 0.8262167811286951\n",
      "For min_sample_leaf=19, We get Accuracy= 0.8274111675126904\n",
      "For min_sample_leaf=20, We get Accuracy= 0.8289041504926844\n",
      "For min_sample_leaf=21, We get Accuracy= 0.8289041504926844\n",
      "For min_sample_leaf=22, We get Accuracy= 0.8300985368766796\n",
      "For min_sample_leaf=23, We get Accuracy= 0.8336816960286653\n",
      "For min_sample_leaf=24, We get Accuracy= 0.8360704687966557\n",
      "For min_sample_leaf=25, We get Accuracy= 0.8336816960286653\n",
      "For min_sample_leaf=26, We get Accuracy= 0.8330845028366677\n",
      "For min_sample_leaf=27, We get Accuracy= 0.828008360704688\n",
      "For min_sample_leaf=28, We get Accuracy= 0.8330845028366677\n",
      "For min_sample_leaf=29, We get Accuracy= 0.8324873096446701\n",
      "For min_sample_leaf=30, We get Accuracy= 0.8315915198566737\n",
      "For min_sample_leaf=31, We get Accuracy= 0.8351746790086593\n",
      "For min_sample_leaf=32, We get Accuracy= 0.8303971334726784\n",
      "For min_sample_leaf=33, We get Accuracy= 0.8324873096446701\n",
      "For min_sample_leaf=34, We get Accuracy= 0.8321887130486713\n",
      "For min_sample_leaf=35, We get Accuracy= 0.8345774858166617\n",
      "For min_sample_leaf=36, We get Accuracy= 0.8318901164526724\n",
      "For min_sample_leaf=37, We get Accuracy= 0.8315915198566737\n",
      "For min_sample_leaf=38, We get Accuracy= 0.8300985368766796\n",
      "For min_sample_leaf=39, We get Accuracy= 0.8351746790086593\n",
      "For min_sample_leaf=40, We get Accuracy= 0.8351746790086593\n",
      "For min_sample_leaf=41, We get Accuracy= 0.8345774858166617\n",
      "For min_sample_leaf=42, We get Accuracy= 0.8297999402806808\n",
      "For min_sample_leaf=43, We get Accuracy= 0.8297999402806808\n",
      "For min_sample_leaf=44, We get Accuracy= 0.8289041504926844\n",
      "For min_sample_leaf=45, We get Accuracy= 0.8303971334726784\n",
      "For min_sample_leaf=46, We get Accuracy= 0.8292027470886831\n",
      "For min_sample_leaf=47, We get Accuracy= 0.8277097641086891\n",
      "For min_sample_leaf=48, We get Accuracy= 0.8277097641086891\n",
      "For min_sample_leaf=49, We get Accuracy= 0.8286055538966856\n"
     ]
    }
   ],
   "source": [
    "sample_leaf_list=[]\n",
    "acc_list=[]\n",
    "for i in range(1,50):\n",
    "    dt5= DecisionTreeClassifier(min_samples_leaf=i)\n",
    "    dt5.fit(xtrain,ytrain)\n",
    "    ypred=dt5.predict(xtest)\n",
    "    ac=accuracy_score(ytest,ypred)\n",
    "    \n",
    "    sample_leaf_list.append(i)\n",
    "    acc_list.append(ac)\n",
    "    \n",
    "    print(f\"For min_sample_leaf={i}, We get Accuracy= {ac}\")"
   ]
  },
  {
   "cell_type": "code",
   "execution_count": 59,
   "id": "d0f8ac80",
   "metadata": {},
   "outputs": [
    {
     "name": "stdout",
     "output_type": "stream",
     "text": [
      "We observed that, Highest Accuracy of the DT is achieved when its min_samples_leaf is : 24\n"
     ]
    }
   ],
   "source": [
    "# To find the Min_sample_leaf giving highest accuracy    \n",
    "max_acc= acc_list[0]\n",
    "for i in range(1, len(acc_list)): \n",
    "    if (acc_list[i] > max_acc):\n",
    "        max_acc = acc_list[i]\n",
    "max_index = acc_list.index(max_acc)\n",
    "print(f\"We observed that, Highest Accuracy of the DT is achieved when its min_samples_leaf is : {max_index+1}\")"
   ]
  },
  {
   "cell_type": "code",
   "execution_count": 61,
   "id": "9a70a9f5",
   "metadata": {},
   "outputs": [
    {
     "name": "stdout",
     "output_type": "stream",
     "text": [
      "Accuracy: 0.8348760824126605 \n",
      "\n",
      " Classification Report \n",
      "               precision    recall  f1-score   support\n",
      "\n",
      "           0       0.87      0.81      0.84      1742\n",
      "           1       0.80      0.87      0.83      1607\n",
      "\n",
      "    accuracy                           0.83      3349\n",
      "   macro avg       0.84      0.84      0.83      3349\n",
      "weighted avg       0.84      0.83      0.83      3349\n",
      "\n"
     ]
    }
   ],
   "source": [
    "dt5=DecisionTreeClassifier(min_samples_leaf=24)\n",
    "\n"
   ]
  },
  {
   "cell_type": "code",
   "execution_count": 62,
   "id": "781ab596",
   "metadata": {},
   "outputs": [
    {
     "data": {
      "text/plain": [
       "0.8531933956226802"
      ]
     },
     "execution_count": 62,
     "metadata": {},
     "output_type": "execute_result"
    }
   ],
   "source": [
    "dt5.score(xtrain,ytrain)"
   ]
  },
  {
   "cell_type": "code",
   "execution_count": 64,
   "id": "340f50a1",
   "metadata": {},
   "outputs": [
    {
     "name": "stdout",
     "output_type": "stream",
     "text": [
      "Accuracy: 0.817258883248731 \n",
      "\n",
      " Classification Report \n",
      "               precision    recall  f1-score   support\n",
      "\n",
      "           0       0.81      0.84      0.83      1742\n",
      "           1       0.82      0.79      0.81      1607\n",
      "\n",
      "    accuracy                           0.82      3349\n",
      "   macro avg       0.82      0.82      0.82      3349\n",
      "weighted avg       0.82      0.82      0.82      3349\n",
      "\n"
     ]
    }
   ],
   "source": [
    "dt6=DecisionTreeClassifier(min_samples_leaf=24,min_samples_split=81,max_depth=7)\n",
    "mymodel(dt6)"
   ]
  },
  {
   "cell_type": "code",
   "execution_count": 65,
   "id": "948926f7",
   "metadata": {},
   "outputs": [
    {
     "data": {
      "text/plain": [
       "0.8233713042365288"
      ]
     },
     "execution_count": 65,
     "metadata": {},
     "output_type": "execute_result"
    }
   ],
   "source": [
    "dt6.score(xtrain,ytrain)"
   ]
  }
 ],
 "metadata": {
  "kernelspec": {
   "display_name": "Python 3 (ipykernel)",
   "language": "python",
   "name": "python3"
  },
  "language_info": {
   "codemirror_mode": {
    "name": "ipython",
    "version": 3
   },
   "file_extension": ".py",
   "mimetype": "text/x-python",
   "name": "python",
   "nbconvert_exporter": "python",
   "pygments_lexer": "ipython3",
   "version": "3.11.4"
  }
 },
 "nbformat": 4,
 "nbformat_minor": 5
}
